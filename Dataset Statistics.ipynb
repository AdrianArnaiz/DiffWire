{
 "cells": [
  {
   "cell_type": "markdown",
   "id": "22a89037",
   "metadata": {
    "toc": true
   },
   "source": [
    "<h1>Table of Contents<span class=\"tocSkip\"></span></h1>\n",
    "<div class=\"toc\"><ul class=\"toc-item\"></ul></div>"
   ]
  },
  {
   "cell_type": "code",
   "execution_count": 2,
   "id": "e60dfaa7",
   "metadata": {
    "ExecuteTime": {
     "end_time": "2022-05-14T19:29:32.972459Z",
     "start_time": "2022-05-14T19:29:32.955594Z"
    }
   },
   "outputs": [
    {
     "name": "stderr",
     "output_type": "stream",
     "text": [
      "/home/mvrlab/miniconda3/envs/pygeomout/lib/python3.8/site-packages/tqdm/auto.py:22: TqdmWarning: IProgress not found. Please update jupyter and ipywidgets. See https://ipywidgets.readthedocs.io/en/stable/user_install.html\n",
      "  from .autonotebook import tqdm as notebook_tqdm\n"
     ]
    }
   ],
   "source": [
    "from torch_geometric.datasets import TUDataset, GNNBenchmarkDataset\n",
    "from torch_geometric import utils\n",
    "import networkx as nx\n",
    "import numpy as np\n",
    "from tqdm import tqdm"
   ]
  },
  {
   "cell_type": "code",
   "execution_count": 5,
   "id": "ef9d968a",
   "metadata": {
    "ExecuteTime": {
     "end_time": "2022-05-14T19:29:33.270698Z",
     "start_time": "2022-05-14T19:29:33.263717Z"
    }
   },
   "outputs": [],
   "source": [
    "all_datasets = [\"MUTAG\",\"ENZYMES\",\"PROTEINS\",\"CIFAR10\",\"MNIST\",\"COLLAB\",\"IMDB-BINARY\",\"REDDIT-BINARY\"]"
   ]
  },
  {
   "cell_type": "code",
   "execution_count": 6,
   "id": "4f6ea4bb",
   "metadata": {
    "ExecuteTime": {
     "end_time": "2022-05-14T19:32:10.431003Z",
     "start_time": "2022-05-14T19:32:08.865267Z"
    }
   },
   "outputs": [
    {
     "name": "stdout",
     "output_type": "stream",
     "text": [
      "MUTAG -----------------\n",
      "\tAssortativity:   -0.2787 +- 0.1689    || nans: 0\n",
      "\t    Triangles:    0.0000 +- 0.0000    || nans: 0\n",
      "\t Transitivity:    0.0000 +- 0.0000    || nans: 0\n",
      "\t   Clustering:    0.0000 +- 0.0000    || nans: 0\n",
      "\t        Nodes:   17.9309 +- 4.5757    || nans: 0\n",
      "\t        Edges:   19.7926 +- 5.6845    || nans: 0\n",
      "\t   AVG degree:    2.1888 +- 0.1094    || nans: 0\n",
      "\n"
     ]
    },
    {
     "name": "stderr",
     "output_type": "stream",
     "text": [
      "/home/mvrlab/miniconda3/envs/pygeomout/lib/python3.8/site-packages/networkx/algorithms/assortativity/correlation.py:298: RuntimeWarning: invalid value encountered in double_scalars\n",
      "  return (xy * (M - ab)).sum() / np.sqrt(vara * varb)\n"
     ]
    },
    {
     "name": "stdout",
     "output_type": "stream",
     "text": [
      "ENZYMES -----------------\n",
      "\tAssortativity:   -0.0080 +- nan       || nans: 3\n",
      "\t    Triangles:   25.5100 +- 12.1648   || nans: 0\n",
      "\t Transitivity:    0.4209 +- 0.1691    || nans: 0\n",
      "\t   Clustering:    0.4534 +- 0.1978    || nans: 0\n",
      "\t        Nodes:   32.6333 +- 15.2758   || nans: 0\n",
      "\t        Edges:   62.1367 +- 25.4993   || nans: 0\n",
      "\t   AVG degree:    3.8626 +- 0.4876    || nans: 0\n",
      "\n"
     ]
    },
    {
     "name": "stderr",
     "output_type": "stream",
     "text": [
      "Downloading https://www.chrsmrrs.com/graphkerneldatasets/PROTEINS.zip\n",
      "Extracting data_colab/TUDataset/PROTEINS/PROTEINS.zip\n",
      "Processing...\n",
      "Done!\n"
     ]
    },
    {
     "name": "stdout",
     "output_type": "stream",
     "text": [
      "PROTEINS -----------------\n",
      "\tAssortativity:   -0.0653 +- nan       || nans: 13\n",
      "\t    Triangles:   27.4043 +- 30.0314   || nans: 0\n",
      "\t Transitivity:    0.4756 +- 0.2011    || nans: 0\n",
      "\t   Clustering:    0.5142 +- 0.2310    || nans: 0\n",
      "\t        Nodes:   39.0575 +- 45.7584   || nans: 0\n",
      "\t        Edges:   72.8158 +- 84.5990   || nans: 0\n",
      "\t   AVG degree:    3.7346 +- 0.4238    || nans: 0\n",
      "\n"
     ]
    },
    {
     "name": "stderr",
     "output_type": "stream",
     "text": [
      "Downloading https://data.pyg.org/datasets/benchmarking-gnns/CIFAR10_v2.zip\n",
      "Extracting data_colab/GNNBenchmarkDataset/CIFAR10/raw/CIFAR10_v2.zip\n",
      "Processing...\n",
      "Done!\n"
     ]
    },
    {
     "name": "stdout",
     "output_type": "stream",
     "text": [
      "CIFAR10 -----------------\n",
      "\tAssortativity:   -0.0072 +- 0.0481    || nans: 0\n",
      "\t    Triangles:  502.7055 +- 29.7830   || nans: 0\n",
      "\t Transitivity:    0.4463 +- 0.0115    || nans: 0\n",
      "\t   Clustering:    0.4548 +- 0.0125    || nans: 0\n",
      "\t        Nodes:  117.6471 +- 4.2805    || nans: 0\n",
      "\t        Edges:  469.1514 +- 18.4479   || nans: 0\n",
      "\t   AVG degree:    7.9755 +- 0.1176    || nans: 0\n",
      "\n"
     ]
    },
    {
     "name": "stderr",
     "output_type": "stream",
     "text": [
      "Downloading https://data.pyg.org/datasets/benchmarking-gnns/MNIST_v2.zip\n",
      "Extracting data_colab/GNNBenchmarkDataset/MNIST/raw/MNIST_v2.zip\n",
      "Processing...\n",
      "Done!\n"
     ]
    },
    {
     "name": "stdout",
     "output_type": "stream",
     "text": [
      "MNIST -----------------\n",
      "\tAssortativity:    0.0000 +- 0.0602    || nans: 0\n",
      "\t    Triangles:  316.5787 +- 33.3384   || nans: 0\n",
      "\t Transitivity:    0.4666 +- 0.0158    || nans: 0\n",
      "\t   Clustering:    0.4777 +- 0.0174    || nans: 0\n",
      "\t        Nodes:   70.5630 +- 6.8543    || nans: 0\n",
      "\t        Edges:  281.6233 +- 27.7969   || nans: 0\n",
      "\t   AVG degree:    7.9826 +- 0.1578    || nans: 0\n",
      "\n"
     ]
    },
    {
     "name": "stderr",
     "output_type": "stream",
     "text": [
      "Downloading https://www.chrsmrrs.com/graphkerneldatasets/COLLAB.zip\n",
      "Extracting data_colab/TUDataset/COLLAB/COLLAB.zip\n",
      "Processing...\n",
      "Done!\n"
     ]
    },
    {
     "name": "stdout",
     "output_type": "stream",
     "text": [
      "COLLAB -----------------\n",
      "\tAssortativity:   -0.0328 +- nan       || nans: 680\n",
      "\t    Triangles: 124551.3494 +- 486668.5148 || nans: 0\n",
      "\t Transitivity:    0.7666 +- 0.2147    || nans: 0\n",
      "\t   Clustering:    0.8908 +- 0.0821    || nans: 0\n",
      "\t        Nodes:   74.4948 +- 62.3008   || nans: 0\n",
      "\t        Edges: 2457.2158 +- 6438.9154 || nans: 0\n",
      "\t   AVG degree:   37.3696 +- 43.9684   || nans: 0\n",
      "\n"
     ]
    },
    {
     "name": "stderr",
     "output_type": "stream",
     "text": [
      "Downloading https://www.chrsmrrs.com/graphkerneldatasets/IMDB-BINARY.zip\n",
      "Extracting data_colab/TUDataset/IMDB-BINARY/IMDB-BINARY.zip\n",
      "Processing...\n",
      "Done!\n"
     ]
    },
    {
     "name": "stdout",
     "output_type": "stream",
     "text": [
      "IMDB-BINARY -----------------\n",
      "\tAssortativity:   -0.1350 +- nan       || nans: 139\n",
      "\t    Triangles:  391.9910 +- 868.5403  || nans: 0\n",
      "\t Transitivity:    0.7729 +- 0.1560    || nans: 0\n",
      "\t   Clustering:    0.9471 +- 0.0334    || nans: 0\n",
      "\t        Nodes:   19.7730 +- 10.0553   || nans: 0\n",
      "\t        Edges:   96.5310 +- 105.6003  || nans: 0\n",
      "\t   AVG degree:    8.8859 +- 5.0491    || nans: 0\n",
      "\n"
     ]
    },
    {
     "name": "stderr",
     "output_type": "stream",
     "text": [
      "/home/mvrlab/miniconda3/envs/pygeomout/lib/python3.8/site-packages/torch_geometric/data/dataset.py:150: UserWarning: The `pre_transform` argument differs from the one used in the pre-processed version of this dataset. If you want to make use of another pre-processing technique, make sure to sure to delete 'data_colab/TUDataset/REDDIT-BINARY/processed' first\n",
      "  warnings.warn(\n"
     ]
    },
    {
     "name": "stdout",
     "output_type": "stream",
     "text": [
      "REDDIT-BINARY -----------------\n",
      "\tAssortativity:   -0.3635 +- 0.1747    || nans: 0\n",
      "\t    Triangles:   24.8350 +- 41.9040   || nans: 0\n",
      "\t Transitivity:    0.0097 +- 0.0156    || nans: 0\n",
      "\t   Clustering:    0.0476 +- 0.0639    || nans: 0\n",
      "\t        Nodes:  429.6270 +- 554.0582  || nans: 0\n",
      "\t        Edges:  497.7540 +- 622.9893  || nans: 0\n",
      "\t   AVG degree:    2.3379 +- 0.3119    || nans: 0\n",
      "\n"
     ]
    }
   ],
   "source": [
    "statistics = dict()\n",
    "for dataset_txt in all_datasets[:]:\n",
    "    if dataset_txt in GNNBenchmarkDataset.names:\n",
    "        dataset = GNNBenchmarkDataset(root='data_colab/GNNBenchmarkDataset', name=dataset_txt)\n",
    "    else:\n",
    "        dataset = TUDataset(root='data_colab/TUDataset',name=dataset_txt)\n",
    "        \n",
    "    nxdata = {\n",
    "    'Assortativity':np.empty(len(dataset)),\n",
    "    'Triangles':np.empty(len(dataset)),\n",
    "    'Transitivity':np.empty(len(dataset)),\n",
    "    'Clustering':np.empty(len(dataset)),\n",
    "    'Nodes':np.empty(len(dataset)),\n",
    "    'Edges':np.empty(len(dataset)),\n",
    "    'AVG degree':np.empty(len(dataset))\n",
    "    }\n",
    "    for i, graph in enumerate(dataset):\n",
    "        G = utils.to_networkx(graph, to_undirected=True)\n",
    "        nxdata['Assortativity'][i] = nx.degree_assortativity_coefficient(G)\n",
    "        nxdata['Triangles'][i] = np.sum(list(nx.triangles(G).values()))/3\n",
    "        nxdata['Transitivity'][i] = nx.transitivity(G)\n",
    "        nxdata['Clustering'][i] = nx.average_clustering(G)\n",
    "        nxdata['Nodes'][i] = G.number_of_nodes()\n",
    "        nxdata['Edges'][i] = G.number_of_edges()\n",
    "        nxdata['AVG degree'][i] =  (nxdata['Edges'][i]*2)/ nxdata['Nodes'][i]\n",
    "        \n",
    "    statistics[dataset_txt] = nxdata.copy()\n",
    "\n",
    "    print(dataset_txt,'-----------------')\n",
    "    for metric in statistics[dataset_txt]:\n",
    "        nans = np.isnan(statistics[dataset_txt][metric])\n",
    "        mean = statistics[dataset_txt][metric][~nans].mean()\n",
    "        print(f\"\\t{metric:>13}: {mean:>9.4f} +- {statistics[dataset_txt][metric].std():<9.4f} || nans: {np.sum(nans)}\")\n",
    "    print()\n"
   ]
  },
  {
   "cell_type": "code",
   "execution_count": 7,
   "id": "d8ecb67d",
   "metadata": {
    "ExecuteTime": {
     "end_time": "2022-05-14T19:38:32.342023Z",
     "start_time": "2022-05-14T19:38:32.332043Z"
    }
   },
   "outputs": [
    {
     "name": "stdout",
     "output_type": "stream",
     "text": [
      "MUTAG -----------------\n",
      "\tAssortativity:   -0.2787 +- 0.1689    || nans: 0\n",
      "\t    Triangles:    0.0000 +- 0.0000    || nans: 0\n",
      "\t Transitivity:    0.0000 +- 0.0000    || nans: 0\n",
      "\t   Clustering:    0.0000 +- 0.0000    || nans: 0\n",
      "\t        Nodes:   17.9309 +- 4.5757    || nans: 0\n",
      "\t        Edges:   19.7926 +- 5.6845    || nans: 0\n",
      "\t   AVG degree:    2.1888 +- 0.1094    || nans: 0\n",
      "\n",
      "ENZYMES -----------------\n",
      "\tAssortativity:   -0.0080 +- nan       || nans: 3\n",
      "\t    Triangles:   25.5100 +- 12.1648   || nans: 0\n",
      "\t Transitivity:    0.4209 +- 0.1691    || nans: 0\n",
      "\t   Clustering:    0.4534 +- 0.1978    || nans: 0\n",
      "\t        Nodes:   32.6333 +- 15.2758   || nans: 0\n",
      "\t        Edges:   62.1367 +- 25.4993   || nans: 0\n",
      "\t   AVG degree:    3.8626 +- 0.4876    || nans: 0\n",
      "\n",
      "PROTEINS -----------------\n",
      "\tAssortativity:   -0.0653 +- nan       || nans: 13\n",
      "\t    Triangles:   27.4043 +- 30.0314   || nans: 0\n",
      "\t Transitivity:    0.4756 +- 0.2011    || nans: 0\n",
      "\t   Clustering:    0.5142 +- 0.2310    || nans: 0\n",
      "\t        Nodes:   39.0575 +- 45.7584   || nans: 0\n",
      "\t        Edges:   72.8158 +- 84.5990   || nans: 0\n",
      "\t   AVG degree:    3.7346 +- 0.4238    || nans: 0\n",
      "\n",
      "CIFAR10 -----------------\n",
      "\tAssortativity:   -0.0072 +- 0.0481    || nans: 0\n",
      "\t    Triangles:  502.7055 +- 29.7830   || nans: 0\n",
      "\t Transitivity:    0.4463 +- 0.0115    || nans: 0\n",
      "\t   Clustering:    0.4548 +- 0.0125    || nans: 0\n",
      "\t        Nodes:  117.6471 +- 4.2805    || nans: 0\n",
      "\t        Edges:  469.1514 +- 18.4479   || nans: 0\n",
      "\t   AVG degree:    7.9755 +- 0.1176    || nans: 0\n",
      "\n",
      "MNIST -----------------\n",
      "\tAssortativity:    0.0000 +- 0.0602    || nans: 0\n",
      "\t    Triangles:  316.5787 +- 33.3384   || nans: 0\n",
      "\t Transitivity:    0.4666 +- 0.0158    || nans: 0\n",
      "\t   Clustering:    0.4777 +- 0.0174    || nans: 0\n",
      "\t        Nodes:   70.5630 +- 6.8543    || nans: 0\n",
      "\t        Edges:  281.6233 +- 27.7969   || nans: 0\n",
      "\t   AVG degree:    7.9826 +- 0.1578    || nans: 0\n",
      "\n",
      "COLLAB -----------------\n",
      "\tAssortativity:   -0.0328 +- nan       || nans: 680\n",
      "\t    Triangles: 124551.3494 +- 486668.5148 || nans: 0\n",
      "\t Transitivity:    0.7666 +- 0.2147    || nans: 0\n",
      "\t   Clustering:    0.8908 +- 0.0821    || nans: 0\n",
      "\t        Nodes:   74.4948 +- 62.3008   || nans: 0\n",
      "\t        Edges: 2457.2158 +- 6438.9154 || nans: 0\n",
      "\t   AVG degree:   37.3696 +- 43.9684   || nans: 0\n",
      "\n",
      "IMDB-BINARY -----------------\n",
      "\tAssortativity:   -0.1350 +- nan       || nans: 139\n",
      "\t    Triangles:  391.9910 +- 868.5403  || nans: 0\n",
      "\t Transitivity:    0.7729 +- 0.1560    || nans: 0\n",
      "\t   Clustering:    0.9471 +- 0.0334    || nans: 0\n",
      "\t        Nodes:   19.7730 +- 10.0553   || nans: 0\n",
      "\t        Edges:   96.5310 +- 105.6003  || nans: 0\n",
      "\t   AVG degree:    8.8859 +- 5.0491    || nans: 0\n",
      "\n",
      "REDDIT-BINARY -----------------\n",
      "\tAssortativity:   -0.3635 +- 0.1747    || nans: 0\n",
      "\t    Triangles:   24.8350 +- 41.9040   || nans: 0\n",
      "\t Transitivity:    0.0097 +- 0.0156    || nans: 0\n",
      "\t   Clustering:    0.0476 +- 0.0639    || nans: 0\n",
      "\t        Nodes:  429.6270 +- 554.0582  || nans: 0\n",
      "\t        Edges:  497.7540 +- 622.9893  || nans: 0\n",
      "\t   AVG degree:    2.3379 +- 0.3119    || nans: 0\n",
      "\n"
     ]
    }
   ],
   "source": [
    "for dt in statistics:\n",
    "    print(dt,'-----------------')\n",
    "    for metric in statistics[dt]:\n",
    "        nans = np.isnan(statistics[dt][metric])\n",
    "        mean = statistics[dt][metric][~nans].mean()\n",
    "        print(f\"\\t{metric:>13}: {mean:>9.4f} +- {statistics[dt][metric].std():<9.4f} || nans: {np.sum(nans)}\")\n",
    "    print()"
   ]
  },
  {
   "cell_type": "code",
   "execution_count": null,
   "id": "34a84a03",
   "metadata": {},
   "outputs": [],
   "source": []
  }
 ],
 "metadata": {
  "interpreter": {
   "hash": "f0153651f56c78eb235e7278868921760c5c5ceb49a32242c41e500b0b7e49ea"
  },
  "kernelspec": {
   "display_name": "Python 3.8.12 ('pygeomout')",
   "language": "python",
   "name": "python3"
  },
  "language_info": {
   "codemirror_mode": {
    "name": "ipython",
    "version": 3
   },
   "file_extension": ".py",
   "mimetype": "text/x-python",
   "name": "python",
   "nbconvert_exporter": "python",
   "pygments_lexer": "ipython3",
   "version": "3.8.13"
  },
  "toc": {
   "base_numbering": 1,
   "nav_menu": {},
   "number_sections": true,
   "sideBar": true,
   "skip_h1_title": true,
   "title_cell": "Table of Contents",
   "title_sidebar": "Table of Contents",
   "toc_cell": true,
   "toc_position": {},
   "toc_section_display": true,
   "toc_window_display": false
  },
  "varInspector": {
   "cols": {
    "lenName": 16,
    "lenType": 16,
    "lenVar": 40
   },
   "kernels_config": {
    "python": {
     "delete_cmd_postfix": "",
     "delete_cmd_prefix": "del ",
     "library": "var_list.py",
     "varRefreshCmd": "print(var_dic_list())"
    },
    "r": {
     "delete_cmd_postfix": ") ",
     "delete_cmd_prefix": "rm(",
     "library": "var_list.r",
     "varRefreshCmd": "cat(var_dic_list()) "
    }
   },
   "types_to_exclude": [
    "module",
    "function",
    "builtin_function_or_method",
    "instance",
    "_Feature"
   ],
   "window_display": false
  }
 },
 "nbformat": 4,
 "nbformat_minor": 5
}
