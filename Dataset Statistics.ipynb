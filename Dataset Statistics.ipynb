{
 "cells": [
  {
   "cell_type": "markdown",
   "id": "22a89037",
   "metadata": {
    "toc": true
   },
   "source": [
    "<h1>Table of Contents<span class=\"tocSkip\"></span></h1>\n",
    "<div class=\"toc\"><ul class=\"toc-item\"></ul></div>"
   ]
  },
  {
   "cell_type": "code",
   "execution_count": 12,
   "id": "e60dfaa7",
   "metadata": {
    "ExecuteTime": {
     "end_time": "2022-05-14T19:29:32.972459Z",
     "start_time": "2022-05-14T19:29:32.955594Z"
    }
   },
   "outputs": [],
   "source": [
    "from torch_geometric.datasets import TUDataset, GNNBenchmarkDataset\n",
    "from torch_geometric import utils\n",
    "import networkx as nx\n",
    "import numpy as np\n",
    "from tqdm.notebook import tqdm"
   ]
  },
  {
   "cell_type": "code",
   "execution_count": 13,
   "id": "ef9d968a",
   "metadata": {
    "ExecuteTime": {
     "end_time": "2022-05-14T19:29:33.270698Z",
     "start_time": "2022-05-14T19:29:33.263717Z"
    }
   },
   "outputs": [],
   "source": [
    "all_datasets = [\"MUTAG\",\"ENZYMES\",\"PROTEINS\",\"CIFAR10\",\"MNIST\",\"COLLAB\",\"IMDB-BINARY\",\"REDDIT-BINARY\"]"
   ]
  },
  {
   "cell_type": "code",
   "execution_count": 15,
   "id": "4f6ea4bb",
   "metadata": {
    "ExecuteTime": {
     "end_time": "2022-05-14T19:32:10.431003Z",
     "start_time": "2022-05-14T19:32:08.865267Z"
    }
   },
   "outputs": [
    {
     "data": {
      "application/vnd.jupyter.widget-view+json": {
       "model_id": "7b69afb3729b4db2bde6d42e3761d8c4",
       "version_major": 2,
       "version_minor": 0
      },
      "text/plain": [
       "MUTAG:   0%|          | 0/188 [00:00<?, ?it/s]"
      ]
     },
     "metadata": {},
     "output_type": "display_data"
    },
    {
     "data": {
      "application/vnd.jupyter.widget-view+json": {
       "model_id": "31ca4c469e2d45359eff3d9ef77b1acd",
       "version_major": 2,
       "version_minor": 0
      },
      "text/plain": [
       "ENZYMES:   0%|          | 0/600 [00:00<?, ?it/s]"
      ]
     },
     "metadata": {},
     "output_type": "display_data"
    }
   ],
   "source": [
    "statistics = dict()\n",
    "for dataset_txt in all_datasets[:2]:\n",
    "    if dataset_txt in GNNBenchmarkDataset.names:\n",
    "        dataset = GNNBenchmarkDataset(root='data_colab/GNNBenchmarkDataset', name=dataset_txt)\n",
    "    else:\n",
    "        dataset = TUDataset(root='data_colab/TUDataset',name=dataset_txt)\n",
    "        \n",
    "    nxdata = {\n",
    "    'Assortativity':np.empty(len(dataset)),\n",
    "    'Triangles':np.empty(len(dataset)),\n",
    "    'Transitivity':np.empty(len(dataset)),\n",
    "    'Clustering':np.empty(len(dataset))\n",
    "    }\n",
    "    for i, graph in enumerate(tqdm(dataset, desc=dataset_txt)):\n",
    "        G = utils.to_networkx(graph, to_undirected=True)\n",
    "        nxdata['Assortativity'][i] = nx.degree_assortativity_coefficient(G)\n",
    "        nxdata['Triangles'][i] = np.sum(list(nx.triangles(G).values()))/3\n",
    "        nxdata['Transitivity'][i] = nx.transitivity(G)\n",
    "        nxdata['Clustering'][i] = nx.average_clustering(G)\n",
    "        \n",
    "    statistics[dataset_txt] = nxdata.copy()\n"
   ]
  },
  {
   "cell_type": "code",
   "execution_count": 51,
   "id": "d8ecb67d",
   "metadata": {
    "ExecuteTime": {
     "end_time": "2022-05-14T19:38:32.342023Z",
     "start_time": "2022-05-14T19:38:32.332043Z"
    }
   },
   "outputs": [
    {
     "name": "stdout",
     "output_type": "stream",
     "text": [
      "MUTAG -----------------\n",
      "\tAssortativity:   -0.2787 +- 0.1689    || nans: 0\n",
      "\t    Triangles:    0.0000 +- 0.0000    || nans: 0\n",
      "\t Transitivity:    0.0000 +- 0.0000    || nans: 0\n",
      "\t   Clustering:    0.0000 +- 0.0000    || nans: 0\n",
      "\n",
      "ENZYMES -----------------\n",
      "\tAssortativity:   -0.0080 +- nan       || nans: 3\n",
      "\t    Triangles:   25.5100 +- 12.1648   || nans: 0\n",
      "\t Transitivity:    0.4209 +- 0.1691    || nans: 0\n",
      "\t   Clustering:    0.4534 +- 0.1978    || nans: 0\n",
      "\n"
     ]
    }
   ],
   "source": [
    "for dt in statistics:\n",
    "    print(dt,'-----------------')\n",
    "    for metric in statistics[dt]:\n",
    "        nans = np.isnan(statistics[dt][metric])\n",
    "        mean = statistics[dt][metric][~nans].mean()\n",
    "        print(f\"\\t{metric:>13}: {mean:>9.4f} +- {statistics[dt][metric].std():<9.4f} || nans: {np.sum(nans)}\")\n",
    "    print()"
   ]
  },
  {
   "cell_type": "code",
   "execution_count": null,
   "id": "34a84a03",
   "metadata": {},
   "outputs": [],
   "source": []
  }
 ],
 "metadata": {
  "kernelspec": {
   "display_name": "pygeom",
   "language": "python",
   "name": "pygeom"
  },
  "language_info": {
   "codemirror_mode": {
    "name": "ipython",
    "version": 3
   },
   "file_extension": ".py",
   "mimetype": "text/x-python",
   "name": "python",
   "nbconvert_exporter": "python",
   "pygments_lexer": "ipython3",
   "version": "3.8.12"
  },
  "toc": {
   "base_numbering": 1,
   "nav_menu": {},
   "number_sections": true,
   "sideBar": true,
   "skip_h1_title": true,
   "title_cell": "Table of Contents",
   "title_sidebar": "Table of Contents",
   "toc_cell": true,
   "toc_position": {},
   "toc_section_display": true,
   "toc_window_display": false
  },
  "varInspector": {
   "cols": {
    "lenName": 16,
    "lenType": 16,
    "lenVar": 40
   },
   "kernels_config": {
    "python": {
     "delete_cmd_postfix": "",
     "delete_cmd_prefix": "del ",
     "library": "var_list.py",
     "varRefreshCmd": "print(var_dic_list())"
    },
    "r": {
     "delete_cmd_postfix": ") ",
     "delete_cmd_prefix": "rm(",
     "library": "var_list.r",
     "varRefreshCmd": "cat(var_dic_list()) "
    }
   },
   "types_to_exclude": [
    "module",
    "function",
    "builtin_function_or_method",
    "instance",
    "_Feature"
   ],
   "window_display": false
  }
 },
 "nbformat": 4,
 "nbformat_minor": 5
}
