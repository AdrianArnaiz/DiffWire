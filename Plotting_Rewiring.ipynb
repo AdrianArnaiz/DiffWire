{
 "cells": [
  {
   "cell_type": "markdown",
   "metadata": {
    "toc": true
   },
   "source": [
    "<h1>Table of Contents<span class=\"tocSkip\"></span></h1>\n",
    "<div class=\"toc\"><ul class=\"toc-item\"><li><span><a href=\"#Import-dataset\" data-toc-modified-id=\"Import-dataset-1\"><span class=\"toc-item-num\">1&nbsp;&nbsp;</span>Import dataset</a></span></li><li><span><a href=\"#Embeddings-CTNet\" data-toc-modified-id=\"Embeddings-CTNet-2\"><span class=\"toc-item-num\">2&nbsp;&nbsp;</span>Embeddings CTNet</a></span></li><li><span><a href=\"#Modificar-modelo-para-sacar-cosas\" data-toc-modified-id=\"Modificar-modelo-para-sacar-cosas-3\"><span class=\"toc-item-num\">3&nbsp;&nbsp;</span>Modificar modelo para sacar cosas</a></span></li><li><span><a href=\"#One-graph-embedding\" data-toc-modified-id=\"One-graph-embedding-4\"><span class=\"toc-item-num\">4&nbsp;&nbsp;</span>One graph embedding</a></span></li><li><span><a href=\"#All-graphs-embedding\" data-toc-modified-id=\"All-graphs-embedding-5\"><span class=\"toc-item-num\">5&nbsp;&nbsp;</span>All graphs embedding</a></span></li><li><span><a href=\"#DIGL\" data-toc-modified-id=\"DIGL-6\"><span class=\"toc-item-num\">6&nbsp;&nbsp;</span>DIGL</a></span></li></ul></div>"
   ]
  },
  {
   "cell_type": "markdown",
   "metadata": {},
   "source": [
    "Para CTNet, MinCutNet, GapNet and DIGL (4 figuras de cada task): \n",
    "- [ ] Embeddings de un grafo solo *conv2* -> dispersión\n",
    "    * Seleccionar grafo que tenga buen accuracy y cambie más la predicción respecto a baseline\n",
    "    * Train vs test\n",
    "- [ ] Embeddings de to los grafos (después del readout) pa plotearlo todos juntos y que se vea la separación entre clases\n",
    "    * Train vs test\n",
    "- [ ] Grafo con ejes con peso CT matrix en CTNet\n",
    "    * Seleccionar grafo que tenga buen accuracy y cambie más la predicción respecto a baseline\n",
    "    * Train vs test\n",
    "- [ ] Grafo con ejes adjacency modificada en GapNet\n",
    "    * Seleccionar grafo que tenga buen accuracy y cambie más la predicción respecto a baseline\n",
    "    * Train vs test\n",
    "- [X] Datos sobre grafos"
   ]
  },
  {
   "cell_type": "code",
   "execution_count": 1,
   "metadata": {
    "ExecuteTime": {
     "end_time": "2022-05-14T19:41:08.738527Z",
     "start_time": "2022-05-14T19:41:08.621346Z"
    }
   },
   "outputs": [],
   "source": [
    "%load_ext autoreload\n",
    "%autoreload 2"
   ]
  },
  {
   "cell_type": "code",
   "execution_count": 2,
   "metadata": {
    "ExecuteTime": {
     "end_time": "2022-05-14T19:41:08.990722Z",
     "start_time": "2022-05-14T19:41:08.867054Z"
    }
   },
   "outputs": [],
   "source": [
    "import torch\n",
    "from nets import CTNet, GAPNet\n",
    "\n",
    "import torch.nn.functional as F\n",
    "from torch_geometric.loader import DataLoader\n",
    "from transform_features import FeatureDegree\n",
    "from torch_geometric.datasets import TUDataset\n",
    "\n",
    "import torch.nn as nn"
   ]
  },
  {
   "cell_type": "code",
   "execution_count": 3,
   "metadata": {
    "ExecuteTime": {
     "end_time": "2022-05-14T19:41:09.273407Z",
     "start_time": "2022-05-14T19:41:09.134779Z"
    }
   },
   "outputs": [
    {
     "data": {
      "text/plain": [
       "device(type='cpu')"
      ]
     },
     "execution_count": 3,
     "metadata": {},
     "output_type": "execute_result"
    }
   ],
   "source": [
    "device = torch.device('cuda' if torch.cuda.is_available() else 'cpu')\n",
    "device"
   ]
  },
  {
   "cell_type": "code",
   "execution_count": 4,
   "metadata": {
    "ExecuteTime": {
     "end_time": "2022-05-14T19:41:09.712142Z",
     "start_time": "2022-05-14T19:41:09.584458Z"
    }
   },
   "outputs": [],
   "source": [
    "@torch.no_grad()\n",
    "def test(modelo, loader, device):\n",
    "    modelo.eval()\n",
    "    correct = 0\n",
    "    for data in loader:\n",
    "        data = data.to(device)\n",
    "        pred, mc_loss, o_loss = modelo(data.x, data.edge_index, data.batch)\n",
    "        loss = F.nll_loss(pred, data.y.view(-1)) + mc_loss + o_loss\n",
    "        correct += pred.max(dim=1)[1].eq(data.y.view(-1)).sum().item()\n",
    "\n",
    "    return loss, correct / len(loader.dataset)\n"
   ]
  },
  {
   "cell_type": "markdown",
   "metadata": {},
   "source": [
    "## Import dataset"
   ]
  },
  {
   "cell_type": "code",
   "execution_count": 602,
   "metadata": {
    "ExecuteTime": {
     "end_time": "2022-05-14T19:41:42.002755Z",
     "start_time": "2022-05-14T19:41:41.888994Z"
    }
   },
   "outputs": [],
   "source": [
    "\"\"\"dataset = TUDataset(root='data_colab/TUDataset',name=\"REDDIT-BINARY\", pre_transform=FeatureDegree(), use_node_attr=True)\n",
    "BATCH_SIZE = 64\n",
    "num_of_centers = 420\"\"\"\n",
    "\n",
    "dataset = TUDataset(root='data_colab/TUDataset',name=\"MUTAG\")\n",
    "BATCH_SIZE = 32\n",
    "num_of_centers = 17"
   ]
  },
  {
   "cell_type": "code",
   "execution_count": 603,
   "metadata": {
    "ExecuteTime": {
     "end_time": "2022-05-14T19:41:42.301194Z",
     "start_time": "2022-05-14T19:41:42.179435Z"
    }
   },
   "outputs": [
    {
     "name": "stdout",
     "output_type": "stream",
     "text": [
      "Dataset: MUTAG(188):\n",
      "====================\n",
      "Number of graphs: 188\n",
      "Number of features: 7, 7, 0\n",
      "Number of classes: 2\n",
      "\n",
      "Data(edge_index=[2, 38], x=[17, 7], edge_attr=[38, 4], y=[1])\n",
      "=============================================================\n",
      "Number of nodes: 17\n",
      "Number of edges: 38\n",
      "Average node degree: 2.24\n",
      "Has isolated nodes: False\n",
      "Has self-loops: False\n",
      "Is undirected: True\n",
      "MUTAG(188)\n"
     ]
    }
   ],
   "source": [
    "print(f'Dataset: {dataset}:')\n",
    "print('====================')\n",
    "print(f'Number of graphs: {len(dataset)}')\n",
    "print(f'Number of features: {dataset.num_features}, {dataset.num_node_features}, {dataset.num_node_attributes}')\n",
    "print(f'Number of classes: {dataset.num_classes}')\n",
    "#dataset = dataset.shuffle()\n",
    "print()\n",
    "datum = dataset[0]  # Get the first graph object.\n",
    "print(datum)\n",
    "print('=============================================================')\n",
    "# Gather some statistics about the first graph.\n",
    "print(f'Number of nodes: {datum.num_nodes}')\n",
    "print(f'Number of edges: {datum.num_edges}')\n",
    "print(f'Average node degree: {datum.num_edges / datum.num_nodes:.2f}')\n",
    "print(f'Has isolated nodes: {datum.has_isolated_nodes()}')\n",
    "print(f'Has self-loops: {datum.has_self_loops()}')\n",
    "print(f'Is undirected: {datum.is_undirected()}')\n",
    "\n",
    "\n",
    "print(dataset)"
   ]
  },
  {
   "cell_type": "code",
   "execution_count": 604,
   "metadata": {
    "ExecuteTime": {
     "end_time": "2022-05-14T19:41:42.633494Z",
     "start_time": "2022-05-14T19:41:42.506591Z"
    }
   },
   "outputs": [],
   "source": [
    "loader =  DataLoader(dataset, batch_size=BATCH_SIZE, shuffle=True)"
   ]
  },
  {
   "cell_type": "code",
   "execution_count": null,
   "metadata": {},
   "outputs": [],
   "source": []
  },
  {
   "cell_type": "code",
   "execution_count": null,
   "metadata": {
    "ExecuteTime": {
     "end_time": "2022-05-14T18:20:43.205955Z",
     "start_time": "2022-05-14T18:20:42.569579Z"
    }
   },
   "outputs": [],
   "source": []
  },
  {
   "cell_type": "markdown",
   "metadata": {},
   "source": [
    "## Embeddings CTNet"
   ]
  },
  {
   "cell_type": "markdown",
   "metadata": {},
   "source": [
    "**Probar modelo guardaddo**"
   ]
  },
  {
   "cell_type": "code",
   "execution_count": 585,
   "metadata": {
    "ExecuteTime": {
     "end_time": "2022-05-14T19:41:12.736591Z",
     "start_time": "2022-05-14T19:41:12.613944Z"
    }
   },
   "outputs": [],
   "source": [
    "modelito = \"models/REDDIT-BINARY_CTNet_iter0.pth\"\n",
    "modelito = \"models/MUTAG_CTNet_iter0.pth\""
   ]
  },
  {
   "cell_type": "code",
   "execution_count": null,
   "metadata": {
    "ExecuteTime": {
     "end_time": "2022-05-14T18:20:46.339549Z",
     "start_time": "2022-05-14T18:20:46.230815Z"
    }
   },
   "outputs": [],
   "source": []
  },
  {
   "cell_type": "code",
   "execution_count": 260,
   "metadata": {
    "ExecuteTime": {
     "end_time": "2022-05-14T18:20:48.624277Z",
     "start_time": "2022-05-14T18:20:46.891179Z"
    }
   },
   "outputs": [
    {
     "data": {
      "text/plain": [
       "CTNet(\n",
       "  (conv1): DenseGraphConv(32, 32)\n",
       "  (conv2): DenseGraphConv(32, 32)\n",
       "  (pool1): Linear(in_features=32, out_features=17, bias=True)\n",
       "  (pool2): Linear(in_features=32, out_features=16, bias=True)\n",
       "  (lin1): Linear(in_features=7, out_features=32, bias=True)\n",
       "  (lin2): Linear(in_features=32, out_features=32, bias=True)\n",
       "  (lin3): Linear(in_features=32, out_features=2, bias=True)\n",
       ")"
      ]
     },
     "execution_count": 260,
     "metadata": {},
     "output_type": "execute_result"
    }
   ],
   "source": [
    "#Epoch: 059, Train Loss: 165.455, Train Acc: 0.711, Test Loss: 150.841, Test Acc: 0.750\n",
    "model =  CTNet(dataset.num_features, dataset.num_classes, k_centers=num_of_centers).to(device)\n",
    "model.load_state_dict(torch.load(modelito, map_location=torch.device(device)))\n",
    "model.eval()"
   ]
  },
  {
   "cell_type": "code",
   "execution_count": 261,
   "metadata": {
    "ExecuteTime": {
     "end_time": "2022-05-14T18:20:53.820496Z",
     "start_time": "2022-05-14T18:20:53.355740Z"
    }
   },
   "outputs": [],
   "source": [
    "loss, acc = test(model, loader, device)"
   ]
  },
  {
   "cell_type": "code",
   "execution_count": 262,
   "metadata": {
    "ExecuteTime": {
     "end_time": "2022-05-14T18:20:54.480431Z",
     "start_time": "2022-05-14T18:20:54.371395Z"
    }
   },
   "outputs": [
    {
     "data": {
      "text/plain": [
       "(tensor(21.8395), 0.851063829787234)"
      ]
     },
     "execution_count": 262,
     "metadata": {},
     "output_type": "execute_result"
    }
   ],
   "source": [
    "loss, acc"
   ]
  },
  {
   "cell_type": "markdown",
   "metadata": {},
   "source": [
    "## Modificar modelo para sacar cosas"
   ]
  },
  {
   "cell_type": "code",
   "execution_count": 263,
   "metadata": {
    "ExecuteTime": {
     "end_time": "2022-05-14T19:41:46.331752Z",
     "start_time": "2022-05-14T19:41:46.206894Z"
    }
   },
   "outputs": [],
   "source": [
    "import torch.nn.functional as F\n",
    "from torch.nn import Linear\n",
    "from torch_geometric.nn import DenseGraphConv\n",
    "from torch_geometric.utils import to_dense_batch, to_dense_adj\n",
    "from CT_layer import dense_CT_rewiring\n",
    "from MinCut_Layer import dense_mincut_pool"
   ]
  },
  {
   "cell_type": "code",
   "execution_count": 264,
   "metadata": {
    "ExecuteTime": {
     "end_time": "2022-05-14T19:42:24.343006Z",
     "start_time": "2022-05-14T19:42:24.215636Z"
    }
   },
   "outputs": [],
   "source": [
    "class CTNet_embedding(torch.nn.Module):\n",
    "    def __init__(self, in_channels, out_channels, k_centers, hidden_channels=32):\n",
    "        super(CTNet_embedding, self).__init__()\n",
    "    \n",
    "        self.lin1 = Linear(in_channels, hidden_channels)\n",
    "        num_of_centers1 =  k_centers # k1 #order of number of nodes\n",
    "        self.pool1 = Linear(hidden_channels, num_of_centers1)\n",
    "        #self.CT = CTLayer()\n",
    "        self.conv1 = DenseGraphConv(hidden_channels, hidden_channels)\n",
    "        num_of_centers2 =  16 # k2 #mincut \n",
    "        self.pool2 = Linear(hidden_channels, num_of_centers2)\n",
    "        #self.MinCut = MinCutLayer()\n",
    "        self.conv2 = DenseGraphConv(hidden_channels, hidden_channels)\n",
    "        self.lin2 = Linear(hidden_channels, hidden_channels) # MLPs towards out \n",
    "        self.lin3 = Linear(hidden_channels, out_channels)\n",
    "        self.emb = torch.zeros(0)#Creamos la variable que recoge nuestros embedings\n",
    "        self.emb2 = torch.zeros(0)#Creamos la variable que recoge nuestros embedings\n",
    "\n",
    "    def forward(self, x, edge_index, batch):    # x torch.Size([N, N]),  data.batch  torch.Size([661])  \n",
    "        # Make all adjacencies of size NxN \n",
    "        adj = to_dense_adj(edge_index, batch) # adj torch.Size(B, N, N])\n",
    "        # Make all x_i of size N=MAX(N1,...,N20), e.g. N=40:\n",
    "        x, mask = to_dense_batch(x, batch) # x torch.Size([20, N, 32]) ; mask torch.Size([20, N]) batch_size=20\n",
    "\n",
    "        x = self.lin1(x)\n",
    "        # First mincut pool for computing Fiedler adn rewire \n",
    "        s1  = self.pool1(x)\n",
    "\n",
    "        if torch.isnan(adj).any():\n",
    "            print(\"adj nan\")\n",
    "        if torch.isnan(x).any():\n",
    "            print(\"x nan\")\n",
    "        \n",
    "        # CT REWIRING\n",
    "        adj, CT_loss, ortho_loss1 = dense_CT_rewiring(x, adj, s1, mask) # out: x torch.Size([20, N, F'=32]),  adj torch.Size([20, N, N])\n",
    "\n",
    "        # CONV1: Now on x and rewired adj: \n",
    "        x = self.conv1(x, adj) #out: x torch.Size([20, N, F'=32])\n",
    "\n",
    "        # MLP of k=16 outputs s\n",
    "        s2 = self.pool2(x) # s torch.Size([20, N, k])\n",
    "        \n",
    "        # MINCUT_POOL\n",
    "        x, adj, mincut_loss2, ortho_loss2 = dense_mincut_pool(x, adj, s2, mask) # out x torch.Size([20, k=16, F'=32]),  adj torch.Size([20, k2=16, k2=16])\n",
    "\n",
    "        # CONV2: Now on coarsened x and adj: \n",
    "        x = self.conv2(x, adj) #out x torch.Size([20, 16, 32])\n",
    "        \n",
    "        \n",
    "        # Readout for each of the 20 graphs\n",
    "        x = x.sum(dim=1) # x torch.Size([20, 32])\n",
    "        \n",
    "        #Queremos esta x, por lo que nos la guardamos\n",
    "        self.emb = x\n",
    "        \n",
    "        # Final MLP for graph classification: hidden channels = 32\n",
    "        x = F.relu(self.lin2(x)) # x torch.Size([20, 32])\n",
    "        x = self.lin3(x) #x torch.Size([20, 2])\n",
    "        self.emb2 = x\n",
    "        #print(x.shape)\n",
    "        \n",
    "        CT_loss = CT_loss + ortho_loss1\n",
    "        mincut_loss = mincut_loss2 + ortho_loss2\n",
    "        return F.log_softmax(x, dim=-1), CT_loss, mincut_loss\n"
   ]
  },
  {
   "cell_type": "code",
   "execution_count": 265,
   "metadata": {
    "ExecuteTime": {
     "end_time": "2022-05-14T19:42:25.375299Z",
     "start_time": "2022-05-14T19:42:25.254623Z"
    }
   },
   "outputs": [
    {
     "data": {
      "text/plain": [
       "CTNet_embedding(\n",
       "  (lin1): Linear(in_features=7, out_features=32, bias=True)\n",
       "  (pool1): Linear(in_features=32, out_features=17, bias=True)\n",
       "  (conv1): DenseGraphConv(32, 32)\n",
       "  (pool2): Linear(in_features=32, out_features=16, bias=True)\n",
       "  (conv2): DenseGraphConv(32, 32)\n",
       "  (lin2): Linear(in_features=32, out_features=32, bias=True)\n",
       "  (lin3): Linear(in_features=32, out_features=2, bias=True)\n",
       ")"
      ]
     },
     "execution_count": 265,
     "metadata": {},
     "output_type": "execute_result"
    }
   ],
   "source": [
    "model =  CTNet_embedding(dataset.num_features, dataset.num_classes, k_centers=num_of_centers).to(device)\n",
    "model.load_state_dict(torch.load(modelito, map_location=torch.device(device)))\n",
    "model.eval()"
   ]
  },
  {
   "cell_type": "markdown",
   "metadata": {},
   "source": [
    "**Test modificado que coja los embeddings**"
   ]
  },
  {
   "cell_type": "code",
   "execution_count": 266,
   "metadata": {
    "ExecuteTime": {
     "end_time": "2022-05-14T19:43:08.227736Z",
     "start_time": "2022-05-14T19:43:08.109484Z"
    }
   },
   "outputs": [],
   "source": [
    "embedings = []\n",
    "test_predictions = []\n",
    "test_predictions2 = []\n",
    "@torch.no_grad()\n",
    "def test_embedd(modelo, loader, device):\n",
    "    test_embeddings = torch.zeros(16,32)\n",
    "    test_embeddings2 = torch.zeros(16,32)\n",
    "    modelo.eval()\n",
    "    correct = 0\n",
    "    for i,data in enumerate(loader):\n",
    "        data = data.to(device)\n",
    "        pred, mc_loss, o_loss = modelo(data.x, data.edge_index, data.batch)\n",
    "        test_predictions.extend(pred.max(dim=1)[1].tolist())\n",
    "        #print(pred.max(dim=1)[1].tolist())\n",
    "        loss = F.nll_loss(pred, data.y.view(-1)) + mc_loss + o_loss\n",
    "        correct += pred.max(dim=1)[1].eq(data.y.view(-1)).sum().item()\n",
    "        embedings.append(modelo.emb)\n",
    "        #print(modelo.emb.shape)\n",
    "        if i == 0:\n",
    "            test_embeddings = modelo.emb\n",
    "            test_embeddings2 = modelo.emb2\n",
    "        else:\n",
    "            test_embeddings = torch.cat((test_embeddings,modelo.emb.detach().cpu()), 0)\n",
    "            test_embeddings2 = torch.cat((test_embeddings2,modelo.emb2.detach().cpu()), 0)\n",
    "        \n",
    "        #print(modelo.emb.shape)\n",
    "    return loss, correct / len(loader.dataset),test_embeddings,test_embeddings2"
   ]
  },
  {
   "cell_type": "code",
   "execution_count": 267,
   "metadata": {
    "ExecuteTime": {
     "end_time": "2022-05-14T19:43:15.567205Z",
     "start_time": "2022-05-14T19:43:15.298849Z"
    }
   },
   "outputs": [
    {
     "name": "stdout",
     "output_type": "stream",
     "text": [
      "Hwllo there torch.Size([188, 32])\n",
      "torch.Size([188, 32])\n"
     ]
    },
    {
     "data": {
      "text/plain": [
       "188"
      ]
     },
     "execution_count": 267,
     "metadata": {},
     "output_type": "execute_result"
    }
   ],
   "source": [
    "import numpy as np\n",
    "loss, acc,embeddings,embeddings2 = test_embedd(model, loader, device)\n",
    "#print(embedings)\n",
    "#print(test_embeddings)\n",
    "print(\"Hwllo there\",embeddings.shape)\n",
    "test_embeddings = embeddings\n",
    "#Ahora necesitamos quitar el primero que esta lleno de 0s\n",
    "#Solo faltaría cargarnos el batch\n",
    "test_embeddings_final = test_embeddings\n",
    "test_embeddings = test_embeddings\n",
    "test_embeddings2 = embeddings2\n",
    "print(test_embeddings_final.shape)\n",
    "len(test_predictions)"
   ]
  },
  {
   "cell_type": "code",
   "execution_count": 268,
   "metadata": {
    "ExecuteTime": {
     "end_time": "2022-05-14T19:44:00.751791Z",
     "start_time": "2022-05-14T19:44:00.628893Z"
    }
   },
   "outputs": [
    {
     "data": {
      "text/plain": [
       "(tensor(21.7572), 0.8563829787234043)"
      ]
     },
     "execution_count": 268,
     "metadata": {},
     "output_type": "execute_result"
    }
   ],
   "source": [
    "loss, acc"
   ]
  },
  {
   "cell_type": "code",
   "execution_count": 269,
   "metadata": {
    "ExecuteTime": {
     "end_time": "2022-05-14T19:39:48.516729Z",
     "start_time": "2022-05-14T19:39:48.405955Z"
    }
   },
   "outputs": [
    {
     "name": "stderr",
     "output_type": "stream",
     "text": [
      "/Users/ahmedbegga/miniforge3/envs/pytorch_m1/lib/python3.8/site-packages/sklearn/manifold/_t_sne.py:780: FutureWarning:\n",
      "\n",
      "The default initialization in TSNE will change from 'random' to 'pca' in 1.2.\n",
      "\n",
      "/Users/ahmedbegga/miniforge3/envs/pytorch_m1/lib/python3.8/site-packages/sklearn/manifold/_t_sne.py:790: FutureWarning:\n",
      "\n",
      "The default learning rate in TSNE will change from 200.0 to 'auto' in 1.2.\n",
      "\n"
     ]
    },
    {
     "name": "stdout",
     "output_type": "stream",
     "text": [
      "[t-SNE] Computing 91 nearest neighbors...\n",
      "[t-SNE] Indexed 188 samples in 0.000s...\n",
      "[t-SNE] Computed neighbors for 188 samples in 0.003s...\n",
      "[t-SNE] Computed conditional probabilities for sample 188 / 188\n",
      "[t-SNE] Mean sigma: 1.660219\n",
      "[t-SNE] KL divergence after 250 iterations with early exaggeration: 53.105614\n",
      "[t-SNE] KL divergence after 1000 iterations: 0.137825\n"
     ]
    },
    {
     "data": {
      "image/png": "[encoded data removed]",
      "text/plain": [
       "<Figure size 576x576 with 1 Axes>"
      ]
     },
     "metadata": {
      "needs_background": "light"
     },
     "output_type": "display_data"
    }
   ],
   "source": [
    "import matplotlib.pyplot as plt\n",
    "from sklearn.manifold import TSNE\n",
    "from matplotlib import cm\n",
    "test_embeddings = np.array(test_embeddings_final)\n",
    "test_predictions = np.array(test_predictions)\n",
    "tsne = TSNE(2, verbose=1)\n",
    "tsne_proj = tsne.fit_transform(test_embeddings)\n",
    "# Plot those points as a scatter plot and label them based on the pred labels\n",
    "cmap = cm.get_cmap('tab20')\n",
    "fig, ax = plt.subplots(figsize=(8,8))\n",
    "num_categories = 2\n",
    "for lab in range(num_categories):\n",
    "    indices = test_predictions==lab\n",
    "    ax.scatter(tsne_proj[indices,0],tsne_proj[indices,1], c=np.array(cmap(lab)).reshape(1,4), label = lab ,alpha=0.5)\n",
    "ax.legend(fontsize='large', markerscale=2)\n",
    "plt.title(\"MUTAG embedding CTNet\")\n",
    "plt.show()"
   ]
  },
  {
   "cell_type": "code",
   "execution_count": 254,
   "metadata": {},
   "outputs": [
    {
     "name": "stderr",
     "output_type": "stream",
     "text": [
      "/Users/ahmedbegga/miniforge3/envs/pytorch_m1/lib/python3.8/site-packages/sklearn/manifold/_t_sne.py:780: FutureWarning:\n",
      "\n",
      "The default initialization in TSNE will change from 'random' to 'pca' in 1.2.\n",
      "\n",
      "/Users/ahmedbegga/miniforge3/envs/pytorch_m1/lib/python3.8/site-packages/sklearn/manifold/_t_sne.py:790: FutureWarning:\n",
      "\n",
      "The default learning rate in TSNE will change from 200.0 to 'auto' in 1.2.\n",
      "\n"
     ]
    },
    {
     "name": "stdout",
     "output_type": "stream",
     "text": [
      "[t-SNE] Computing 91 nearest neighbors...\n",
      "[t-SNE] Indexed 188 samples in 0.000s...\n",
      "[t-SNE] Computed neighbors for 188 samples in 0.002s...\n",
      "[t-SNE] Computed conditional probabilities for sample 188 / 188\n",
      "[t-SNE] Mean sigma: 0.298947\n",
      "[t-SNE] KL divergence after 250 iterations with early exaggeration: 50.926670\n",
      "[t-SNE] KL divergence after 1000 iterations: 0.097908\n"
     ]
    },
    {
     "data": {
      "image/png": "[encoded data removed]",
      "text/plain": [
       "<Figure size 576x576 with 1 Axes>"
      ]
     },
     "metadata": {
      "needs_background": "light"
     },
     "output_type": "display_data"
    }
   ],
   "source": [
    "test_embeddings2 = np.array(test_embeddings2)\n",
    "test_predictions = np.array(test_predictions)\n",
    "tsne = TSNE(2, verbose=1)\n",
    "tsne_proj = tsne.fit_transform(test_embeddings2)\n",
    "# Plot those points as a scatter plot and label them based on the pred labels\n",
    "cmap = cm.get_cmap('tab20')\n",
    "fig, ax = plt.subplots(figsize=(8,8))\n",
    "num_categories = 2\n",
    "for lab in range(num_categories):\n",
    "    indices = test_predictions==lab\n",
    "    ax.scatter(tsne_proj[indices,0],tsne_proj[indices,1], c=np.array(cmap(lab)).reshape(1,4), label = lab ,alpha=0.5)\n",
    "ax.legend(fontsize='large', markerscale=2)\n",
    "plt.title(\"MUTAG embedding CTNet\")\n",
    "plt.show()"
   ]
  },
  {
   "cell_type": "code",
   "execution_count": 270,
   "metadata": {},
   "outputs": [
    {
     "name": "stderr",
     "output_type": "stream",
     "text": [
      "/Users/ahmedbegga/miniforge3/envs/pytorch_m1/lib/python3.8/site-packages/sklearn/manifold/_t_sne.py:780: FutureWarning:\n",
      "\n",
      "The default initialization in TSNE will change from 'random' to 'pca' in 1.2.\n",
      "\n",
      "/Users/ahmedbegga/miniforge3/envs/pytorch_m1/lib/python3.8/site-packages/sklearn/manifold/_t_sne.py:790: FutureWarning:\n",
      "\n",
      "The default learning rate in TSNE will change from 200.0 to 'auto' in 1.2.\n",
      "\n"
     ]
    },
    {
     "name": "stdout",
     "output_type": "stream",
     "text": [
      "[t-SNE] Computing 91 nearest neighbors...\n",
      "[t-SNE] Indexed 188 samples in 0.000s...\n",
      "[t-SNE] Computed neighbors for 188 samples in 0.003s...\n",
      "[t-SNE] Computed conditional probabilities for sample 188 / 188\n",
      "[t-SNE] Mean sigma: 1.660219\n",
      "[t-SNE] KL divergence after 250 iterations with early exaggeration: 90.753197\n",
      "[t-SNE] KL divergence after 1000 iterations: 1.358089\n"
     ]
    },
    {
     "data": {
      "image/png": "[encoded data removed]",
      "text/plain": [
       "<Figure size 720x720 with 1 Axes>"
      ]
     },
     "metadata": {
      "needs_background": "light"
     },
     "output_type": "display_data"
    }
   ],
   "source": [
    "tsne = TSNE(3, verbose=1)\n",
    "tsne_proj = tsne.fit_transform(test_embeddings)\n",
    "cmap = cm.get_cmap('tab20')\n",
    "num_categories = 2\n",
    "fig = plt.figure(figsize=(10, 10))\n",
    "ax = fig.add_subplot(1,1,1, projection='3d')\n",
    "for lab in range(num_categories):\n",
    "    indices = test_predictions == lab\n",
    "    surf = ax.scatter(\n",
    "               tsne_proj[indices, 0],\n",
    "               tsne_proj[indices, 1],\n",
    "               tsne_proj[indices, 2],\n",
    "               c=np.array(cmap(lab)).reshape(1, 4),\n",
    "               label=lab,\n",
    "               alpha=0.5)\n",
    "ax.legend(fontsize='large', markerscale=2)\n",
    "plt.title(\"MUTAG embedding CTNet 3D version\")\n",
    "plt.show()"
   ]
  },
  {
   "cell_type": "code",
   "execution_count": 258,
   "metadata": {},
   "outputs": [
    {
     "name": "stderr",
     "output_type": "stream",
     "text": [
      "/Users/ahmedbegga/miniforge3/envs/pytorch_m1/lib/python3.8/site-packages/sklearn/manifold/_t_sne.py:780: FutureWarning:\n",
      "\n",
      "The default initialization in TSNE will change from 'random' to 'pca' in 1.2.\n",
      "\n",
      "/Users/ahmedbegga/miniforge3/envs/pytorch_m1/lib/python3.8/site-packages/sklearn/manifold/_t_sne.py:790: FutureWarning:\n",
      "\n",
      "The default learning rate in TSNE will change from 200.0 to 'auto' in 1.2.\n",
      "\n"
     ]
    },
    {
     "name": "stdout",
     "output_type": "stream",
     "text": [
      "[t-SNE] Computing 91 nearest neighbors...\n",
      "[t-SNE] Indexed 188 samples in 0.000s...\n",
      "[t-SNE] Computed neighbors for 188 samples in 0.002s...\n",
      "[t-SNE] Computed conditional probabilities for sample 188 / 188\n",
      "[t-SNE] Mean sigma: 0.298947\n",
      "[t-SNE] KL divergence after 250 iterations with early exaggeration: 83.496841\n",
      "[t-SNE] KL divergence after 1000 iterations: 1.102306\n"
     ]
    },
    {
     "data": {
      "image/png": "[encoded data removed]",
      "text/plain": [
       "<Figure size 720x720 with 1 Axes>"
      ]
     },
     "metadata": {
      "needs_background": "light"
     },
     "output_type": "display_data"
    }
   ],
   "source": [
    "tsne = TSNE(3, verbose=1)\n",
    "tsne_proj = tsne.fit_transform(test_embeddings2)\n",
    "cmap = cm.get_cmap('tab20')\n",
    "num_categories = 2\n",
    "fig = plt.figure(figsize=(10, 10))\n",
    "ax = fig.add_subplot(1,1,1, projection='3d')\n",
    "for lab in range(num_categories):\n",
    "    indices = test_predictions == lab\n",
    "    surf = ax.scatter(\n",
    "               tsne_proj[indices, 0],\n",
    "               tsne_proj[indices, 1],\n",
    "               tsne_proj[indices, 2],\n",
    "               c=np.array(cmap(lab)).reshape(1, 4),\n",
    "               label=lab,\n",
    "               alpha=0.5)\n",
    "ax.legend(fontsize='large', markerscale=2)\n",
    "plt.title(\"MUTAG embedding CTNet 3D version\")\n",
    "plt.show()"
   ]
  },
  {
   "cell_type": "markdown",
   "metadata": {},
   "source": [
    "## Descomponemos la red"
   ]
  },
  {
   "cell_type": "markdown",
   "metadata": {},
   "source": [
    "### Comentarios sobre el código"
   ]
  },
  {
   "cell_type": "markdown",
   "metadata": {},
   "source": [
    "Lo primero que hacemos es cargar el modelo, y modificar la clase con el truco anterior de coger y guardarnos la adyacencia nueva en una variable.\n",
    "Lo segundo que hacemos es coger una muestra poniendo el batch a 1 y lo pasamos por la red. Obviamente comprobamos que en esa predicción hemos acertado con la label. Como tenemos ya la predicción, tenemos tambien la adyacencia, que el tensor de esta tiene una dimension de más por el batch, por ello hago el squeeze.\n",
    "Por último y donde esta el kit de la cuestión, es que tenemos que recoger las nuevas adyacencias y ponerlas en modo de tupla de numpy para plotearlas. La cosa es que le he preguntado a paco que si hay algun umbral o algo y me ha dicho que si y que lo veremos mañana a ver. por eso ves que hay un 0.0234, para quedarnos con las posiciones (x,y) de la matriz de adyacencia"
   ]
  },
  {
   "cell_type": "code",
   "execution_count": 605,
   "metadata": {},
   "outputs": [],
   "source": [
    "modelito = \"models/MUTAG_CTNet_iter0.pth\""
   ]
  },
  {
   "cell_type": "code",
   "execution_count": 606,
   "metadata": {},
   "outputs": [],
   "source": [
    "class CTNet_toy(torch.nn.Module):\n",
    "    def __init__(self, in_channels, out_channels, k_centers, hidden_channels=32):\n",
    "        super(CTNet_toy, self).__init__()\n",
    "    \n",
    "        self.lin1 = Linear(in_channels, hidden_channels)\n",
    "        num_of_centers1 =  k_centers # k1 #order of number of nodes\n",
    "        self.pool1 = Linear(hidden_channels, num_of_centers1)\n",
    "        #self.CT = CTLayer()\n",
    "        self.conv1 = DenseGraphConv(hidden_channels, hidden_channels)\n",
    "        num_of_centers2 =  16 # k2 #mincut \n",
    "        self.pool2 = Linear(hidden_channels, num_of_centers2)\n",
    "        #self.MinCut = MinCutLayer()\n",
    "        self.conv2 = DenseGraphConv(hidden_channels, hidden_channels)\n",
    "        self.lin2 = Linear(hidden_channels, hidden_channels) # MLPs towards out \n",
    "        self.lin3 = Linear(hidden_channels, out_channels)\n",
    "        self.emb = torch.zeros(0)#Creamos la variable que recoge nuestros embedings\n",
    "        self.emb2 = torch.zeros(0)#Creamos la variable que recoge nuestros embedings\n",
    "        self.edge_rewiring = torch.zeros(0)\n",
    "        self.min_cut = torch.zeros(0)\n",
    "\n",
    "    def forward(self, x, edge_index, batch):    # x torch.Size([N, N]),  data.batch  torch.Size([661])  \n",
    "        # Make all adjacencies of size NxN \n",
    "        adj = to_dense_adj(edge_index, batch) # adj torch.Size(B, N, N])\n",
    "        # Make all x_i of size N=MAX(N1,...,N20), e.g. N=40:\n",
    "        x, mask = to_dense_batch(x, batch) # x torch.Size([20, N, 32]) ; mask torch.Size([20, N]) batch_size=20\n",
    "\n",
    "        x = self.lin1(x)\n",
    "        # First mincut pool for computing Fiedler adn rewire \n",
    "        s1  = self.pool1(x)\n",
    "\n",
    "        if torch.isnan(adj).any():\n",
    "            print(\"adj nan\")\n",
    "        if torch.isnan(x).any():\n",
    "            print(\"x nan\")\n",
    "        \n",
    "        # CT REWIRING\n",
    "        adj, CT_loss, ortho_loss1 = dense_CT_rewiring(x, adj, s1, mask) # out: x torch.Size([20, N, F'=32]),  adj torch.Size([20, N, N])\n",
    "        self.edge_rewiring = adj \n",
    "        # CONV1: Now on x and rewired adj: \n",
    "        x = self.conv1(x, adj) #out: x torch.Size([20, N, F'=32])\n",
    "\n",
    "        # MLP of k=16 outputs s\n",
    "        s2 = self.pool2(x) # s torch.Size([20, N, k])\n",
    "        \n",
    "        # MINCUT_POOL\n",
    "        x, adj, mincut_loss2, ortho_loss2 = dense_mincut_pool(x, adj, s2, mask) # out x torch.Size([20, k=16, F'=32]),  adj torch.Size([20, k2=16, k2=16])\n",
    "        self.min_cut = adj \n",
    "        # CONV2: Now on coarsened x and adj: \n",
    "        x = self.conv2(x, adj) #out x torch.Size([20, 16, 32])\n",
    "        \n",
    "        \n",
    "        # Readout for each of the 20 graphs\n",
    "        x = x.sum(dim=1) # x torch.Size([20, 32])\n",
    "        \n",
    "        #Queremos esta x, por lo que nos la guardamos\n",
    "        self.emb = x\n",
    "        \n",
    "        # Final MLP for graph classification: hidden channels = 32\n",
    "        x = F.relu(self.lin2(x)) # x torch.Size([20, 32])\n",
    "        x = self.lin3(x) #x torch.Size([20, 2])\n",
    "        self.emb2 = x\n",
    "        #print(x.shape)\n",
    "        \n",
    "        CT_loss = CT_loss + ortho_loss1\n",
    "        mincut_loss = mincut_loss2 + ortho_loss2\n",
    "        return F.log_softmax(x, dim=-1), CT_loss, mincut_loss\n"
   ]
  },
  {
   "cell_type": "code",
   "execution_count": 607,
   "metadata": {},
   "outputs": [
    {
     "data": {
      "text/plain": [
       "CTNet_toy(\n",
       "  (lin1): Linear(in_features=7, out_features=32, bias=True)\n",
       "  (pool1): Linear(in_features=32, out_features=17, bias=True)\n",
       "  (conv1): DenseGraphConv(32, 32)\n",
       "  (pool2): Linear(in_features=32, out_features=16, bias=True)\n",
       "  (conv2): DenseGraphConv(32, 32)\n",
       "  (lin2): Linear(in_features=32, out_features=32, bias=True)\n",
       "  (lin3): Linear(in_features=32, out_features=2, bias=True)\n",
       ")"
      ]
     },
     "execution_count": 607,
     "metadata": {},
     "output_type": "execute_result"
    }
   ],
   "source": [
    "model =  CTNet_toy(dataset.num_features, dataset.num_classes, k_centers=num_of_centers).to(device)\n",
    "model.load_state_dict(torch.load(modelito, map_location=torch.device(device)))\n",
    "model.eval()"
   ]
  },
  {
   "cell_type": "code",
   "execution_count": 608,
   "metadata": {},
   "outputs": [
    {
     "name": "stdout",
     "output_type": "stream",
     "text": [
      "DataBatch(edge_index=[2, 38], x=[17, 7], edge_attr=[38, 4], y=[1], batch=[17], ptr=[2])\n",
      "17\n",
      "<Layout with 17 vertices and 3 dimensions>\n",
      "[(0, 1), (0, 5), (1, 2), (2, 3), (3, 4), (3, 9), (4, 5), (4, 6), (6, 7), (7, 8), (8, 9), (8, 13), (9, 10), (10, 11), (11, 12), (12, 13), (12, 14), (14, 15), (14, 16)]\n"
     ]
    },
    {
     "data": {
      "image/png": "[encoded data removed]",
      "text/plain": [
       "<Figure size 432x288 with 1 Axes>"
      ]
     },
     "metadata": {},
     "output_type": "display_data"
    }
   ],
   "source": [
    "import networkx as nx\n",
    "from torch_geometric.utils import *\n",
    "loader =  DataLoader(dataset, batch_size=1, shuffle=False)\n",
    "grafo_init = next(iter(loader))\n",
    "print(grafo_init)\n",
    "A = to_networkx(grafo_init, to_undirected=True)\n",
    "l=[]\n",
    "for a in A.nodes:\n",
    "    l.append(a)\n",
    "ed= []\n",
    "for e in A.edges:\n",
    "    ed.append(e)\n",
    "import igraph as ig\n",
    "import chart_studio.plotly\n",
    "Edges= ed\n",
    "G=ig.Graph(Edges, directed=False)\n",
    "labels= l\n",
    "#groups = A.node_attr_dict_factory\n",
    "N = len(A.nodes)\n",
    "print(N)\n",
    "layt=G.layout('kk', dim=3)\n",
    "print(layt)\n",
    "Xn=[layt[k][0] for k in range(N)]# x-coordinates of nodes\n",
    "Yn=[layt[k][1] for k in range(N)]# y-coordinates\n",
    "Zn=[layt[k][2] for k in range(N)]# z-coordinates\n",
    "Xe=[]\n",
    "Ye=[]\n",
    "Ze=[]\n",
    "print(Edges)\n",
    "for e in Edges:\n",
    "    Xe+=[layt[e[0]][0],layt[e[1]][0], None]# x-coordinates of edge ends\n",
    "    Ye+=[layt[e[0]][1],layt[e[1]][1], None]\n",
    "    Ze+=[layt[e[0]][2],layt[e[1]][2], None]\n",
    "nx.draw(A)"
   ]
  },
  {
   "cell_type": "code",
   "execution_count": 609,
   "metadata": {},
   "outputs": [],
   "source": [
    "from chart_studio import plotly\n",
    "import plotly.graph_objs as go\n",
    "\n",
    "trace1=go.Scatter3d(x=Xe,\n",
    "               y=Ye,\n",
    "               z=Ze,\n",
    "               mode='lines',\n",
    "               line=dict(color='rgb(125,125,125)', width=1),\n",
    "               hoverinfo='none'\n",
    "               )\n",
    "\n",
    "trace2=go.Scatter3d(x=Xn,\n",
    "               y=Yn,\n",
    "               z=Zn,\n",
    "               mode='markers',\n",
    "               name='actors',\n",
    "               marker=dict(symbol='circle',\n",
    "                             size=6,\n",
    "                             color='#ff7f0e',\n",
    "                             colorscale='Viridis',\n",
    "                             line=dict(color='rgb(50,50,50)', width=0.5)\n",
    "                             ),\n",
    "               text=labels,\n",
    "               hoverinfo='text'\n",
    "               )\n",
    "\n",
    "axis=dict(showbackground=False,\n",
    "          showline=False,\n",
    "          zeroline=False,\n",
    "          showgrid=False,\n",
    "          showticklabels=False,\n",
    "          title=''\n",
    "          )\n",
    "\n",
    "layout = go.Layout(\n",
    "         title=\"3D graph visualization of Mutag dataset  by : Ahmed\",\n",
    "         width=1000,\n",
    "         height=1000,\n",
    "         showlegend=False,\n",
    "         scene=dict(\n",
    "             xaxis=dict(axis),\n",
    "             yaxis=dict(axis),\n",
    "             zaxis=dict(axis),\n",
    "        ),\n",
    "     margin=dict(\n",
    "        t=100\n",
    "    ),\n",
    "    hovermode='closest',\n",
    "    annotations=[\n",
    "           dict(\n",
    "           showarrow=False,\n",
    "            text=\"Data source: <a href='https://plotly.com/python/v3/3d-network-graph/</a>\",\n",
    "            xref='paper',\n",
    "            yref='paper',\n",
    "            x=0,\n",
    "            y=0.1,\n",
    "            xanchor='left',\n",
    "            yanchor='bottom',\n",
    "            font=dict(\n",
    "            size=14\n",
    "            )\n",
    "            )\n",
    "        ],    )"
   ]
  },
  {
   "cell_type": "code",
   "execution_count": 610,
   "metadata": {},
   "outputs": [
    {
     "data": {
      "text/html": [
       "        <script type=\"text/javascript\">\n",
       "        window.PlotlyConfig = {MathJaxConfig: 'local'};\n",
       "        if (window.MathJax) {MathJax.Hub.Config({SVG: {font: \"STIX-Web\"}});}\n",
       "        if (typeof require !== 'undefined') {\n",
       "        require.undef(\"plotly\");\n",
       "        requirejs.config({\n",
       "            paths: {\n",
       "                'plotly': ['https://cdn.plot.ly/plotly-2.9.0.min']\n",
       "            }\n",
       "        });\n",
       "        require(['plotly'], function(Plotly) {\n",
       "            window._Plotly = Plotly;\n",
       "        });\n",
       "        }\n",
       "        </script>\n",
       "        "
      ]
     },
     "metadata": {},
     "output_type": "display_data"
    },
    {
     "data": {
      "text/html": [
       "        <script type=\"text/javascript\">\n",
       "        window.PlotlyConfig = {MathJaxConfig: 'local'};\n",
       "        if (window.MathJax) {MathJax.Hub.Config({SVG: {font: \"STIX-Web\"}});}\n",
       "        if (typeof require !== 'undefined') {\n",
       "        require.undef(\"plotly\");\n",
       "        requirejs.config({\n",
       "            paths: {\n",
       "                'plotly': ['https://cdn.plot.ly/plotly-2.9.0.min']\n",
       "            }\n",
       "        });\n",
       "        require(['plotly'], function(Plotly) {\n",
       "            window._Plotly = Plotly;\n",
       "        });\n",
       "        }\n",
       "        </script>\n",
       "        "
      ]
     },
     "metadata": {},
     "output_type": "display_data"
    },
    {
     "data": {
      "application/vnd.plotly.v1+json": {
       "config": {
        "linkText": "Export to plot.ly",
        "plotlyServerURL": "https://plot.ly",
        "showLink": false
       },
       "data": [
        {
         "hoverinfo": "none",
         "line": {
          "color": "rgb(125,125,125)",
          "width": 1
         },
         "mode": "lines",
         "type": "scatter3d",
         "x": [
          -0.28020186169958294,
          -0.34629807244813393,
          null,
          -0.28020186169958294,
          -0.12870510601780713,
          null,
          -0.34629807244813393,
          -0.26263139203594954,
          null,
          -0.26263139203594954,
          -0.10972389547798103,
          null,
          -0.10972389547798103,
          -0.04135634129343411,
          null,
          -0.10972389547798103,
          -0.021294855416594902,
          null,
          -0.04135634129343411,
          -0.12870510601780713,
          null,
          -0.04135634129343411,
          0.11273605558464275,
          null,
          0.11273605558464275,
          0.19920030542116468,
          null,
          0.19920030542116468,
          0.14216394235225055,
          null,
          0.14216394235225055,
          -0.021294855416594902,
          null,
          0.14216394235225055,
          0.22926367953829277,
          null,
          -0.021294855416594902,
          -0.04799220180559432,
          null,
          -0.04799220180559432,
          0.043186692079266065,
          null,
          0.043186692079266065,
          0.2006756988636916,
          null,
          0.2006756988636916,
          0.22926367953829277,
          null,
          0.2006756988636916,
          0.2954390102551118,
          null,
          0.2954390102551118,
          -0.012199572762916605,
          null,
          0.2954390102551118,
          0.7221698505825909,
          null
         ],
         "y": [
          0.19723368741203395,
          -0.28666222329766744,
          null,
          0.19723368741203395,
          0.5297959660407959,
          null,
          -0.28666222329766744,
          -0.38302812698070055,
          null,
          -0.38302812698070055,
          -0.06925611426176463,
          null,
          -0.06925611426176463,
          0.4434378608256048,
          null,
          -0.06925611426176463,
          -0.16155732147480256,
          null,
          0.4434378608256048,
          0.5297959660407959,
          null,
          0.4434378608256048,
          0.8114542710515891,
          null,
          0.8114542710515891,
          0.7213209135741517,
          null,
          0.7213209135741517,
          0.24690533661199168,
          null,
          0.24690533661199168,
          -0.16155732147480256,
          null,
          0.24690533661199168,
          0.15692387647454403,
          null,
          -0.16155732147480256,
          -0.5855078697169339,
          null,
          -0.5855078697169339,
          -0.6549171926539544,
          null,
          -0.6549171926539544,
          -0.2717684002233527,
          null,
          -0.2717684002233527,
          0.15692387647454403,
          null,
          -0.2717684002233527,
          -0.3250876760682331,
          null,
          -0.3250876760682331,
          -0.29187654436398086,
          null,
          -0.3250876760682331,
          -0.4542833544363949,
          null
         ],
         "z": [
          -1.7658964870405094,
          -1.5706792446977842,
          null,
          -1.7658964870405094,
          -1.393995818987904,
          null,
          -1.5706792446977842,
          -1.0698296126288633,
          null,
          -1.0698296126288633,
          -0.6713723309388547,
          null,
          -0.6713723309388547,
          -0.8861384295254073,
          null,
          -0.6713723309388547,
          -0.152090915487566,
          null,
          -0.8861384295254073,
          -1.393995818987904,
          null,
          -0.8861384295254073,
          -0.5392634238537658,
          null,
          -0.5392634238537658,
          -0.0316435931627712,
          null,
          -0.0316435931627712,
          0.19679539414750452,
          null,
          0.19679539414750452,
          -0.152090915487566,
          null,
          0.19679539414750452,
          0.7072848408569624,
          null,
          -0.152090915487566,
          0.16785056124576045,
          null,
          0.16785056124576045,
          0.6760964141973062,
          null,
          0.6760964141973062,
          1.0232083008135935,
          null,
          1.0232083008135935,
          0.7072848408569624,
          null,
          1.0232083008135935,
          1.5315777119090512,
          null,
          1.5315777119090512,
          1.9432693685332403,
          null,
          1.5315777119090512,
          1.7893446399478032,
          null
         ]
        },
        {
         "hoverinfo": "text",
         "marker": {
          "color": "#ff7f0e",
          "colorscale": [
           [
            0,
            "#440154"
           ],
           [
            0.1111111111111111,
            "#482878"
           ],
           [
            0.2222222222222222,
            "#3e4989"
           ],
           [
            0.3333333333333333,
            "#31688e"
           ],
           [
            0.4444444444444444,
            "#26828e"
           ],
           [
            0.5555555555555556,
            "#1f9e89"
           ],
           [
            0.6666666666666666,
            "#35b779"
           ],
           [
            0.7777777777777778,
            "#6ece58"
           ],
           [
            0.8888888888888888,
            "#b5de2b"
           ],
           [
            1,
            "#fde725"
           ]
          ],
          "line": {
           "color": "rgb(50,50,50)",
           "width": 0.5
          },
          "size": 6,
          "symbol": "circle"
         },
         "mode": "markers",
         "name": "actors",
         "text": [
          "0",
          "1",
          "2",
          "3",
          "4",
          "5",
          "6",
          "7",
          "8",
          "9",
          "10",
          "11",
          "12",
          "13",
          "14",
          "15",
          "16"
         ],
         "type": "scatter3d",
         "x": [
          -0.28020186169958294,
          -0.34629807244813393,
          -0.26263139203594954,
          -0.10972389547798103,
          -0.04135634129343411,
          -0.12870510601780713,
          0.11273605558464275,
          0.19920030542116468,
          0.14216394235225055,
          -0.021294855416594902,
          -0.04799220180559432,
          0.043186692079266065,
          0.2006756988636916,
          0.22926367953829277,
          0.2954390102551118,
          -0.012199572762916605,
          0.7221698505825909
         ],
         "y": [
          0.19723368741203395,
          -0.28666222329766744,
          -0.38302812698070055,
          -0.06925611426176463,
          0.4434378608256048,
          0.5297959660407959,
          0.8114542710515891,
          0.7213209135741517,
          0.24690533661199168,
          -0.16155732147480256,
          -0.5855078697169339,
          -0.6549171926539544,
          -0.2717684002233527,
          0.15692387647454403,
          -0.3250876760682331,
          -0.29187654436398086,
          -0.4542833544363949
         ],
         "z": [
          -1.7658964870405094,
          -1.5706792446977842,
          -1.0698296126288633,
          -0.6713723309388547,
          -0.8861384295254073,
          -1.393995818987904,
          -0.5392634238537658,
          -0.0316435931627712,
          0.19679539414750452,
          -0.152090915487566,
          0.16785056124576045,
          0.6760964141973062,
          1.0232083008135935,
          0.7072848408569624,
          1.5315777119090512,
          1.9432693685332403,
          1.7893446399478032
         ]
        }
       ],
       "layout": {
        "annotations": [
         {
          "font": {
           "size": 14
          },
          "showarrow": false,
          "text": "Data source: <a href='https://plotly.com/python/v3/3d-network-graph/</a>",
          "x": 0,
          "xanchor": "left",
          "xref": "paper",
          "y": 0.1,
          "yanchor": "bottom",
          "yref": "paper"
         }
        ],
        "height": 1000,
        "hovermode": "closest",
        "margin": {
         "t": 100
        },
        "scene": {
         "xaxis": {
          "showbackground": false,
          "showgrid": false,
          "showline": false,
          "showticklabels": false,
          "title": {
           "text": ""
          },
          "zeroline": false
         },
         "yaxis": {
          "showbackground": false,
          "showgrid": false,
          "showline": false,
          "showticklabels": false,
          "title": {
           "text": ""
          },
          "zeroline": false
         },
         "zaxis": {
          "showbackground": false,
          "showgrid": false,
          "showline": false,
          "showticklabels": false,
          "title": {
           "text": ""
          },
          "zeroline": false
         }
        },
        "showlegend": false,
        "template": {
         "data": {
          "bar": [
           {
            "error_x": {
             "color": "#2a3f5f"
            },
            "error_y": {
             "color": "#2a3f5f"
            },
            "marker": {
             "line": {
              "color": "#E5ECF6",
              "width": 0.5
             },
             "pattern": {
              "fillmode": "overlay",
              "size": 10,
              "solidity": 0.2
             }
            },
            "type": "bar"
           }
          ],
          "barpolar": [
           {
            "marker": {
             "line": {
              "color": "#E5ECF6",
              "width": 0.5
             },
             "pattern": {
              "fillmode": "overlay",
              "size": 10,
              "solidity": 0.2
             }
            },
            "type": "barpolar"
           }
          ],
          "carpet": [
           {
            "aaxis": {
             "endlinecolor": "#2a3f5f",
             "gridcolor": "white",
             "linecolor": "white",
             "minorgridcolor": "white",
             "startlinecolor": "#2a3f5f"
            },
            "baxis": {
             "endlinecolor": "#2a3f5f",
             "gridcolor": "white",
             "linecolor": "white",
             "minorgridcolor": "white",
             "startlinecolor": "#2a3f5f"
            },
            "type": "carpet"
           }
          ],
          "choropleth": [
           {
            "colorbar": {
             "outlinewidth": 0,
             "ticks": ""
            },
            "type": "choropleth"
           }
          ],
          "contour": [
           {
            "colorbar": {
             "outlinewidth": 0,
             "ticks": ""
            },
            "colorscale": [
             [
              0,
              "#0d0887"
             ],
             [
              0.1111111111111111,
              "#46039f"
             ],
             [
              0.2222222222222222,
              "#7201a8"
             ],
             [
              0.3333333333333333,
              "#9c179e"
             ],
             [
              0.4444444444444444,
              "#bd3786"
             ],
             [
              0.5555555555555556,
              "#d8576b"
             ],
             [
              0.6666666666666666,
              "#ed7953"
             ],
             [
              0.7777777777777778,
              "#fb9f3a"
             ],
             [
              0.8888888888888888,
              "#fdca26"
             ],
             [
              1,
              "#f0f921"
             ]
            ],
            "type": "contour"
           }
          ],
          "contourcarpet": [
           {
            "colorbar": {
             "outlinewidth": 0,
             "ticks": ""
            },
            "type": "contourcarpet"
           }
          ],
          "heatmap": [
           {
            "colorbar": {
             "outlinewidth": 0,
             "ticks": ""
            },
            "colorscale": [
             [
              0,
              "#0d0887"
             ],
             [
              0.1111111111111111,
              "#46039f"
             ],
             [
              0.2222222222222222,
              "#7201a8"
             ],
             [
              0.3333333333333333,
              "#9c179e"
             ],
             [
              0.4444444444444444,
              "#bd3786"
             ],
             [
              0.5555555555555556,
              "#d8576b"
             ],
             [
              0.6666666666666666,
              "#ed7953"
             ],
             [
              0.7777777777777778,
              "#fb9f3a"
             ],
             [
              0.8888888888888888,
              "#fdca26"
             ],
             [
              1,
              "#f0f921"
             ]
            ],
            "type": "heatmap"
           }
          ],
          "heatmapgl": [
           {
            "colorbar": {
             "outlinewidth": 0,
             "ticks": ""
            },
            "colorscale": [
             [
              0,
              "#0d0887"
             ],
             [
              0.1111111111111111,
              "#46039f"
             ],
             [
              0.2222222222222222,
              "#7201a8"
             ],
             [
              0.3333333333333333,
              "#9c179e"
             ],
             [
              0.4444444444444444,
              "#bd3786"
             ],
             [
              0.5555555555555556,
              "#d8576b"
             ],
             [
              0.6666666666666666,
              "#ed7953"
             ],
             [
              0.7777777777777778,
              "#fb9f3a"
             ],
             [
              0.8888888888888888,
              "#fdca26"
             ],
             [
              1,
              "#f0f921"
             ]
            ],
            "type": "heatmapgl"
           }
          ],
          "histogram": [
           {
            "marker": {
             "pattern": {
              "fillmode": "overlay",
              "size": 10,
              "solidity": 0.2
             }
            },
            "type": "histogram"
           }
          ],
          "histogram2d": [
           {
            "colorbar": {
             "outlinewidth": 0,
             "ticks": ""
            },
            "colorscale": [
             [
              0,
              "#0d0887"
             ],
             [
              0.1111111111111111,
              "#46039f"
             ],
             [
              0.2222222222222222,
              "#7201a8"
             ],
             [
              0.3333333333333333,
              "#9c179e"
             ],
             [
              0.4444444444444444,
              "#bd3786"
             ],
             [
              0.5555555555555556,
              "#d8576b"
             ],
             [
              0.6666666666666666,
              "#ed7953"
             ],
             [
              0.7777777777777778,
              "#fb9f3a"
             ],
             [
              0.8888888888888888,
              "#fdca26"
             ],
             [
              1,
              "#f0f921"
             ]
            ],
            "type": "histogram2d"
           }
          ],
          "histogram2dcontour": [
           {
            "colorbar": {
             "outlinewidth": 0,
             "ticks": ""
            },
            "colorscale": [
             [
              0,
              "#0d0887"
             ],
             [
              0.1111111111111111,
              "#46039f"
             ],
             [
              0.2222222222222222,
              "#7201a8"
             ],
             [
              0.3333333333333333,
              "#9c179e"
             ],
             [
              0.4444444444444444,
              "#bd3786"
             ],
             [
              0.5555555555555556,
              "#d8576b"
             ],
             [
              0.6666666666666666,
              "#ed7953"
             ],
             [
              0.7777777777777778,
              "#fb9f3a"
             ],
             [
              0.8888888888888888,
              "#fdca26"
             ],
             [
              1,
              "#f0f921"
             ]
            ],
            "type": "histogram2dcontour"
           }
          ],
          "mesh3d": [
           {
            "colorbar": {
             "outlinewidth": 0,
             "ticks": ""
            },
            "type": "mesh3d"
           }
          ],
          "parcoords": [
           {
            "line": {
             "colorbar": {
              "outlinewidth": 0,
              "ticks": ""
             }
            },
            "type": "parcoords"
           }
          ],
          "pie": [
           {
            "automargin": true,
            "type": "pie"
           }
          ],
          "scatter": [
           {
            "marker": {
             "colorbar": {
              "outlinewidth": 0,
              "ticks": ""
             }
            },
            "type": "scatter"
           }
          ],
          "scatter3d": [
           {
            "line": {
             "colorbar": {
              "outlinewidth": 0,
              "ticks": ""
             }
            },
            "marker": {
             "colorbar": {
              "outlinewidth": 0,
              "ticks": ""
             }
            },
            "type": "scatter3d"
           }
          ],
          "scattercarpet": [
           {
            "marker": {
             "colorbar": {
              "outlinewidth": 0,
              "ticks": ""
             }
            },
            "type": "scattercarpet"
           }
          ],
          "scattergeo": [
           {
            "marker": {
             "colorbar": {
              "outlinewidth": 0,
              "ticks": ""
             }
            },
            "type": "scattergeo"
           }
          ],
          "scattergl": [
           {
            "marker": {
             "colorbar": {
              "outlinewidth": 0,
              "ticks": ""
             }
            },
            "type": "scattergl"
           }
          ],
          "scattermapbox": [
           {
            "marker": {
             "colorbar": {
              "outlinewidth": 0,
              "ticks": ""
             }
            },
            "type": "scattermapbox"
           }
          ],
          "scatterpolar": [
           {
            "marker": {
             "colorbar": {
              "outlinewidth": 0,
              "ticks": ""
             }
            },
            "type": "scatterpolar"
           }
          ],
          "scatterpolargl": [
           {
            "marker": {
             "colorbar": {
              "outlinewidth": 0,
              "ticks": ""
             }
            },
            "type": "scatterpolargl"
           }
          ],
          "scatterternary": [
           {
            "marker": {
             "colorbar": {
              "outlinewidth": 0,
              "ticks": ""
             }
            },
            "type": "scatterternary"
           }
          ],
          "surface": [
           {
            "colorbar": {
             "outlinewidth": 0,
             "ticks": ""
            },
            "colorscale": [
             [
              0,
              "#0d0887"
             ],
             [
              0.1111111111111111,
              "#46039f"
             ],
             [
              0.2222222222222222,
              "#7201a8"
             ],
             [
              0.3333333333333333,
              "#9c179e"
             ],
             [
              0.4444444444444444,
              "#bd3786"
             ],
             [
              0.5555555555555556,
              "#d8576b"
             ],
             [
              0.6666666666666666,
              "#ed7953"
             ],
             [
              0.7777777777777778,
              "#fb9f3a"
             ],
             [
              0.8888888888888888,
              "#fdca26"
             ],
             [
              1,
              "#f0f921"
             ]
            ],
            "type": "surface"
           }
          ],
          "table": [
           {
            "cells": {
             "fill": {
              "color": "#EBF0F8"
             },
             "line": {
              "color": "white"
             }
            },
            "header": {
             "fill": {
              "color": "#C8D4E3"
             },
             "line": {
              "color": "white"
             }
            },
            "type": "table"
           }
          ]
         },
         "layout": {
          "annotationdefaults": {
           "arrowcolor": "#2a3f5f",
           "arrowhead": 0,
           "arrowwidth": 1
          },
          "autotypenumbers": "strict",
          "coloraxis": {
           "colorbar": {
            "outlinewidth": 0,
            "ticks": ""
           }
          },
          "colorscale": {
           "diverging": [
            [
             0,
             "#8e0152"
            ],
            [
             0.1,
             "#c51b7d"
            ],
            [
             0.2,
             "#de77ae"
            ],
            [
             0.3,
             "#f1b6da"
            ],
            [
             0.4,
             "#fde0ef"
            ],
            [
             0.5,
             "#f7f7f7"
            ],
            [
             0.6,
             "#e6f5d0"
            ],
            [
             0.7,
             "#b8e186"
            ],
            [
             0.8,
             "#7fbc41"
            ],
            [
             0.9,
             "#4d9221"
            ],
            [
             1,
             "#276419"
            ]
           ],
           "sequential": [
            [
             0,
             "#0d0887"
            ],
            [
             0.1111111111111111,
             "#46039f"
            ],
            [
             0.2222222222222222,
             "#7201a8"
            ],
            [
             0.3333333333333333,
             "#9c179e"
            ],
            [
             0.4444444444444444,
             "#bd3786"
            ],
            [
             0.5555555555555556,
             "#d8576b"
            ],
            [
             0.6666666666666666,
             "#ed7953"
            ],
            [
             0.7777777777777778,
             "#fb9f3a"
            ],
            [
             0.8888888888888888,
             "#fdca26"
            ],
            [
             1,
             "#f0f921"
            ]
           ],
           "sequentialminus": [
            [
             0,
             "#0d0887"
            ],
            [
             0.1111111111111111,
             "#46039f"
            ],
            [
             0.2222222222222222,
             "#7201a8"
            ],
            [
             0.3333333333333333,
             "#9c179e"
            ],
            [
             0.4444444444444444,
             "#bd3786"
            ],
            [
             0.5555555555555556,
             "#d8576b"
            ],
            [
             0.6666666666666666,
             "#ed7953"
            ],
            [
             0.7777777777777778,
             "#fb9f3a"
            ],
            [
             0.8888888888888888,
             "#fdca26"
            ],
            [
             1,
             "#f0f921"
            ]
           ]
          },
          "colorway": [
           "#636efa",
           "#EF553B",
           "#00cc96",
           "#ab63fa",
           "#FFA15A",
           "#19d3f3",
           "#FF6692",
           "#B6E880",
           "#FF97FF",
           "#FECB52"
          ],
          "font": {
           "color": "#2a3f5f"
          },
          "geo": {
           "bgcolor": "white",
           "lakecolor": "white",
           "landcolor": "#E5ECF6",
           "showlakes": true,
           "showland": true,
           "subunitcolor": "white"
          },
          "hoverlabel": {
           "align": "left"
          },
          "hovermode": "closest",
          "mapbox": {
           "style": "light"
          },
          "paper_bgcolor": "white",
          "plot_bgcolor": "#E5ECF6",
          "polar": {
           "angularaxis": {
            "gridcolor": "white",
            "linecolor": "white",
            "ticks": ""
           },
           "bgcolor": "#E5ECF6",
           "radialaxis": {
            "gridcolor": "white",
            "linecolor": "white",
            "ticks": ""
           }
          },
          "scene": {
           "xaxis": {
            "backgroundcolor": "#E5ECF6",
            "gridcolor": "white",
            "gridwidth": 2,
            "linecolor": "white",
            "showbackground": true,
            "ticks": "",
            "zerolinecolor": "white"
           },
           "yaxis": {
            "backgroundcolor": "#E5ECF6",
            "gridcolor": "white",
            "gridwidth": 2,
            "linecolor": "white",
            "showbackground": true,
            "ticks": "",
            "zerolinecolor": "white"
           },
           "zaxis": {
            "backgroundcolor": "#E5ECF6",
            "gridcolor": "white",
            "gridwidth": 2,
            "linecolor": "white",
            "showbackground": true,
            "ticks": "",
            "zerolinecolor": "white"
           }
          },
          "shapedefaults": {
           "line": {
            "color": "#2a3f5f"
           }
          },
          "ternary": {
           "aaxis": {
            "gridcolor": "white",
            "linecolor": "white",
            "ticks": ""
           },
           "baxis": {
            "gridcolor": "white",
            "linecolor": "white",
            "ticks": ""
           },
           "bgcolor": "#E5ECF6",
           "caxis": {
            "gridcolor": "white",
            "linecolor": "white",
            "ticks": ""
           }
          },
          "title": {
           "x": 0.05
          },
          "xaxis": {
           "automargin": true,
           "gridcolor": "white",
           "linecolor": "white",
           "ticks": "",
           "title": {
            "standoff": 15
           },
           "zerolinecolor": "white",
           "zerolinewidth": 2
          },
          "yaxis": {
           "automargin": true,
           "gridcolor": "white",
           "linecolor": "white",
           "ticks": "",
           "title": {
            "standoff": 15
           },
           "zerolinecolor": "white",
           "zerolinewidth": 2
          }
         }
        },
        "title": {
         "text": "3D graph visualization of Mutag dataset  by : Ahmed"
        },
        "width": 1000
       }
      },
      "text/html": [
       "<div>                            <div id=\"e3cc6ee1-a75f-4120-9c90-285516c2bc73\" class=\"plotly-graph-div\" style=\"height:1000px; width:1000px;\"></div>            <script type=\"text/javascript\">                require([\"plotly\"], function(Plotly) {                    window.PLOTLYENV=window.PLOTLYENV || {};                                    if (document.getElementById(\"e3cc6ee1-a75f-4120-9c90-285516c2bc73\")) {                    Plotly.newPlot(                        \"e3cc6ee1-a75f-4120-9c90-285516c2bc73\",                        [{\"hoverinfo\":\"none\",\"line\":{\"color\":\"rgb(125,125,125)\",\"width\":1},\"mode\":\"lines\",\"x\":[-0.28020186169958294,-0.34629807244813393,null,-0.28020186169958294,-0.12870510601780713,null,-0.34629807244813393,-0.26263139203594954,null,-0.26263139203594954,-0.10972389547798103,null,-0.10972389547798103,-0.04135634129343411,null,-0.10972389547798103,-0.021294855416594902,null,-0.04135634129343411,-0.12870510601780713,null,-0.04135634129343411,0.11273605558464275,null,0.11273605558464275,0.19920030542116468,null,0.19920030542116468,0.14216394235225055,null,0.14216394235225055,-0.021294855416594902,null,0.14216394235225055,0.22926367953829277,null,-0.021294855416594902,-0.04799220180559432,null,-0.04799220180559432,0.043186692079266065,null,0.043186692079266065,0.2006756988636916,null,0.2006756988636916,0.22926367953829277,null,0.2006756988636916,0.2954390102551118,null,0.2954390102551118,-0.012199572762916605,null,0.2954390102551118,0.7221698505825909,null],\"y\":[0.19723368741203395,-0.28666222329766744,null,0.19723368741203395,0.5297959660407959,null,-0.28666222329766744,-0.38302812698070055,null,-0.38302812698070055,-0.06925611426176463,null,-0.06925611426176463,0.4434378608256048,null,-0.06925611426176463,-0.16155732147480256,null,0.4434378608256048,0.5297959660407959,null,0.4434378608256048,0.8114542710515891,null,0.8114542710515891,0.7213209135741517,null,0.7213209135741517,0.24690533661199168,null,0.24690533661199168,-0.16155732147480256,null,0.24690533661199168,0.15692387647454403,null,-0.16155732147480256,-0.5855078697169339,null,-0.5855078697169339,-0.6549171926539544,null,-0.6549171926539544,-0.2717684002233527,null,-0.2717684002233527,0.15692387647454403,null,-0.2717684002233527,-0.3250876760682331,null,-0.3250876760682331,-0.29187654436398086,null,-0.3250876760682331,-0.4542833544363949,null],\"z\":[-1.7658964870405094,-1.5706792446977842,null,-1.7658964870405094,-1.393995818987904,null,-1.5706792446977842,-1.0698296126288633,null,-1.0698296126288633,-0.6713723309388547,null,-0.6713723309388547,-0.8861384295254073,null,-0.6713723309388547,-0.152090915487566,null,-0.8861384295254073,-1.393995818987904,null,-0.8861384295254073,-0.5392634238537658,null,-0.5392634238537658,-0.0316435931627712,null,-0.0316435931627712,0.19679539414750452,null,0.19679539414750452,-0.152090915487566,null,0.19679539414750452,0.7072848408569624,null,-0.152090915487566,0.16785056124576045,null,0.16785056124576045,0.6760964141973062,null,0.6760964141973062,1.0232083008135935,null,1.0232083008135935,0.7072848408569624,null,1.0232083008135935,1.5315777119090512,null,1.5315777119090512,1.9432693685332403,null,1.5315777119090512,1.7893446399478032,null],\"type\":\"scatter3d\"},{\"hoverinfo\":\"text\",\"marker\":{\"color\":\"#ff7f0e\",\"colorscale\":[[0.0,\"#440154\"],[0.1111111111111111,\"#482878\"],[0.2222222222222222,\"#3e4989\"],[0.3333333333333333,\"#31688e\"],[0.4444444444444444,\"#26828e\"],[0.5555555555555556,\"#1f9e89\"],[0.6666666666666666,\"#35b779\"],[0.7777777777777778,\"#6ece58\"],[0.8888888888888888,\"#b5de2b\"],[1.0,\"#fde725\"]],\"line\":{\"color\":\"rgb(50,50,50)\",\"width\":0.5},\"size\":6,\"symbol\":\"circle\"},\"mode\":\"markers\",\"name\":\"actors\",\"text\":[\"0\",\"1\",\"2\",\"3\",\"4\",\"5\",\"6\",\"7\",\"8\",\"9\",\"10\",\"11\",\"12\",\"13\",\"14\",\"15\",\"16\"],\"x\":[-0.28020186169958294,-0.34629807244813393,-0.26263139203594954,-0.10972389547798103,-0.04135634129343411,-0.12870510601780713,0.11273605558464275,0.19920030542116468,0.14216394235225055,-0.021294855416594902,-0.04799220180559432,0.043186692079266065,0.2006756988636916,0.22926367953829277,0.2954390102551118,-0.012199572762916605,0.7221698505825909],\"y\":[0.19723368741203395,-0.28666222329766744,-0.38302812698070055,-0.06925611426176463,0.4434378608256048,0.5297959660407959,0.8114542710515891,0.7213209135741517,0.24690533661199168,-0.16155732147480256,-0.5855078697169339,-0.6549171926539544,-0.2717684002233527,0.15692387647454403,-0.3250876760682331,-0.29187654436398086,-0.4542833544363949],\"z\":[-1.7658964870405094,-1.5706792446977842,-1.0698296126288633,-0.6713723309388547,-0.8861384295254073,-1.393995818987904,-0.5392634238537658,-0.0316435931627712,0.19679539414750452,-0.152090915487566,0.16785056124576045,0.6760964141973062,1.0232083008135935,0.7072848408569624,1.5315777119090512,1.9432693685332403,1.7893446399478032],\"type\":\"scatter3d\"}],                        {\"annotations\":[{\"font\":{\"size\":14},\"showarrow\":false,\"text\":\"Data source: <a href='https://plotly.com/python/v3/3d-network-graph/</a>\",\"x\":0,\"xanchor\":\"left\",\"xref\":\"paper\",\"y\":0.1,\"yanchor\":\"bottom\",\"yref\":\"paper\"}],\"height\":1000,\"hovermode\":\"closest\",\"margin\":{\"t\":100},\"scene\":{\"xaxis\":{\"showbackground\":false,\"showgrid\":false,\"showline\":false,\"showticklabels\":false,\"title\":{\"text\":\"\"},\"zeroline\":false},\"yaxis\":{\"showbackground\":false,\"showgrid\":false,\"showline\":false,\"showticklabels\":false,\"title\":{\"text\":\"\"},\"zeroline\":false},\"zaxis\":{\"showbackground\":false,\"showgrid\":false,\"showline\":false,\"showticklabels\":false,\"title\":{\"text\":\"\"},\"zeroline\":false}},\"showlegend\":false,\"template\":{\"data\":{\"barpolar\":[{\"marker\":{\"line\":{\"color\":\"#E5ECF6\",\"width\":0.5},\"pattern\":{\"fillmode\":\"overlay\",\"size\":10,\"solidity\":0.2}},\"type\":\"barpolar\"}],\"bar\":[{\"error_x\":{\"color\":\"#2a3f5f\"},\"error_y\":{\"color\":\"#2a3f5f\"},\"marker\":{\"line\":{\"color\":\"#E5ECF6\",\"width\":0.5},\"pattern\":{\"fillmode\":\"overlay\",\"size\":10,\"solidity\":0.2}},\"type\":\"bar\"}],\"carpet\":[{\"aaxis\":{\"endlinecolor\":\"#2a3f5f\",\"gridcolor\":\"white\",\"linecolor\":\"white\",\"minorgridcolor\":\"white\",\"startlinecolor\":\"#2a3f5f\"},\"baxis\":{\"endlinecolor\":\"#2a3f5f\",\"gridcolor\":\"white\",\"linecolor\":\"white\",\"minorgridcolor\":\"white\",\"startlinecolor\":\"#2a3f5f\"},\"type\":\"carpet\"}],\"choropleth\":[{\"colorbar\":{\"outlinewidth\":0,\"ticks\":\"\"},\"type\":\"choropleth\"}],\"contourcarpet\":[{\"colorbar\":{\"outlinewidth\":0,\"ticks\":\"\"},\"type\":\"contourcarpet\"}],\"contour\":[{\"colorbar\":{\"outlinewidth\":0,\"ticks\":\"\"},\"colorscale\":[[0.0,\"#0d0887\"],[0.1111111111111111,\"#46039f\"],[0.2222222222222222,\"#7201a8\"],[0.3333333333333333,\"#9c179e\"],[0.4444444444444444,\"#bd3786\"],[0.5555555555555556,\"#d8576b\"],[0.6666666666666666,\"#ed7953\"],[0.7777777777777778,\"#fb9f3a\"],[0.8888888888888888,\"#fdca26\"],[1.0,\"#f0f921\"]],\"type\":\"contour\"}],\"heatmapgl\":[{\"colorbar\":{\"outlinewidth\":0,\"ticks\":\"\"},\"colorscale\":[[0.0,\"#0d0887\"],[0.1111111111111111,\"#46039f\"],[0.2222222222222222,\"#7201a8\"],[0.3333333333333333,\"#9c179e\"],[0.4444444444444444,\"#bd3786\"],[0.5555555555555556,\"#d8576b\"],[0.6666666666666666,\"#ed7953\"],[0.7777777777777778,\"#fb9f3a\"],[0.8888888888888888,\"#fdca26\"],[1.0,\"#f0f921\"]],\"type\":\"heatmapgl\"}],\"heatmap\":[{\"colorbar\":{\"outlinewidth\":0,\"ticks\":\"\"},\"colorscale\":[[0.0,\"#0d0887\"],[0.1111111111111111,\"#46039f\"],[0.2222222222222222,\"#7201a8\"],[0.3333333333333333,\"#9c179e\"],[0.4444444444444444,\"#bd3786\"],[0.5555555555555556,\"#d8576b\"],[0.6666666666666666,\"#ed7953\"],[0.7777777777777778,\"#fb9f3a\"],[0.8888888888888888,\"#fdca26\"],[1.0,\"#f0f921\"]],\"type\":\"heatmap\"}],\"histogram2dcontour\":[{\"colorbar\":{\"outlinewidth\":0,\"ticks\":\"\"},\"colorscale\":[[0.0,\"#0d0887\"],[0.1111111111111111,\"#46039f\"],[0.2222222222222222,\"#7201a8\"],[0.3333333333333333,\"#9c179e\"],[0.4444444444444444,\"#bd3786\"],[0.5555555555555556,\"#d8576b\"],[0.6666666666666666,\"#ed7953\"],[0.7777777777777778,\"#fb9f3a\"],[0.8888888888888888,\"#fdca26\"],[1.0,\"#f0f921\"]],\"type\":\"histogram2dcontour\"}],\"histogram2d\":[{\"colorbar\":{\"outlinewidth\":0,\"ticks\":\"\"},\"colorscale\":[[0.0,\"#0d0887\"],[0.1111111111111111,\"#46039f\"],[0.2222222222222222,\"#7201a8\"],[0.3333333333333333,\"#9c179e\"],[0.4444444444444444,\"#bd3786\"],[0.5555555555555556,\"#d8576b\"],[0.6666666666666666,\"#ed7953\"],[0.7777777777777778,\"#fb9f3a\"],[0.8888888888888888,\"#fdca26\"],[1.0,\"#f0f921\"]],\"type\":\"histogram2d\"}],\"histogram\":[{\"marker\":{\"pattern\":{\"fillmode\":\"overlay\",\"size\":10,\"solidity\":0.2}},\"type\":\"histogram\"}],\"mesh3d\":[{\"colorbar\":{\"outlinewidth\":0,\"ticks\":\"\"},\"type\":\"mesh3d\"}],\"parcoords\":[{\"line\":{\"colorbar\":{\"outlinewidth\":0,\"ticks\":\"\"}},\"type\":\"parcoords\"}],\"pie\":[{\"automargin\":true,\"type\":\"pie\"}],\"scatter3d\":[{\"line\":{\"colorbar\":{\"outlinewidth\":0,\"ticks\":\"\"}},\"marker\":{\"colorbar\":{\"outlinewidth\":0,\"ticks\":\"\"}},\"type\":\"scatter3d\"}],\"scattercarpet\":[{\"marker\":{\"colorbar\":{\"outlinewidth\":0,\"ticks\":\"\"}},\"type\":\"scattercarpet\"}],\"scattergeo\":[{\"marker\":{\"colorbar\":{\"outlinewidth\":0,\"ticks\":\"\"}},\"type\":\"scattergeo\"}],\"scattergl\":[{\"marker\":{\"colorbar\":{\"outlinewidth\":0,\"ticks\":\"\"}},\"type\":\"scattergl\"}],\"scattermapbox\":[{\"marker\":{\"colorbar\":{\"outlinewidth\":0,\"ticks\":\"\"}},\"type\":\"scattermapbox\"}],\"scatterpolargl\":[{\"marker\":{\"colorbar\":{\"outlinewidth\":0,\"ticks\":\"\"}},\"type\":\"scatterpolargl\"}],\"scatterpolar\":[{\"marker\":{\"colorbar\":{\"outlinewidth\":0,\"ticks\":\"\"}},\"type\":\"scatterpolar\"}],\"scatter\":[{\"marker\":{\"colorbar\":{\"outlinewidth\":0,\"ticks\":\"\"}},\"type\":\"scatter\"}],\"scatterternary\":[{\"marker\":{\"colorbar\":{\"outlinewidth\":0,\"ticks\":\"\"}},\"type\":\"scatterternary\"}],\"surface\":[{\"colorbar\":{\"outlinewidth\":0,\"ticks\":\"\"},\"colorscale\":[[0.0,\"#0d0887\"],[0.1111111111111111,\"#46039f\"],[0.2222222222222222,\"#7201a8\"],[0.3333333333333333,\"#9c179e\"],[0.4444444444444444,\"#bd3786\"],[0.5555555555555556,\"#d8576b\"],[0.6666666666666666,\"#ed7953\"],[0.7777777777777778,\"#fb9f3a\"],[0.8888888888888888,\"#fdca26\"],[1.0,\"#f0f921\"]],\"type\":\"surface\"}],\"table\":[{\"cells\":{\"fill\":{\"color\":\"#EBF0F8\"},\"line\":{\"color\":\"white\"}},\"header\":{\"fill\":{\"color\":\"#C8D4E3\"},\"line\":{\"color\":\"white\"}},\"type\":\"table\"}]},\"layout\":{\"annotationdefaults\":{\"arrowcolor\":\"#2a3f5f\",\"arrowhead\":0,\"arrowwidth\":1},\"autotypenumbers\":\"strict\",\"coloraxis\":{\"colorbar\":{\"outlinewidth\":0,\"ticks\":\"\"}},\"colorscale\":{\"diverging\":[[0,\"#8e0152\"],[0.1,\"#c51b7d\"],[0.2,\"#de77ae\"],[0.3,\"#f1b6da\"],[0.4,\"#fde0ef\"],[0.5,\"#f7f7f7\"],[0.6,\"#e6f5d0\"],[0.7,\"#b8e186\"],[0.8,\"#7fbc41\"],[0.9,\"#4d9221\"],[1,\"#276419\"]],\"sequential\":[[0.0,\"#0d0887\"],[0.1111111111111111,\"#46039f\"],[0.2222222222222222,\"#7201a8\"],[0.3333333333333333,\"#9c179e\"],[0.4444444444444444,\"#bd3786\"],[0.5555555555555556,\"#d8576b\"],[0.6666666666666666,\"#ed7953\"],[0.7777777777777778,\"#fb9f3a\"],[0.8888888888888888,\"#fdca26\"],[1.0,\"#f0f921\"]],\"sequentialminus\":[[0.0,\"#0d0887\"],[0.1111111111111111,\"#46039f\"],[0.2222222222222222,\"#7201a8\"],[0.3333333333333333,\"#9c179e\"],[0.4444444444444444,\"#bd3786\"],[0.5555555555555556,\"#d8576b\"],[0.6666666666666666,\"#ed7953\"],[0.7777777777777778,\"#fb9f3a\"],[0.8888888888888888,\"#fdca26\"],[1.0,\"#f0f921\"]]},\"colorway\":[\"#636efa\",\"#EF553B\",\"#00cc96\",\"#ab63fa\",\"#FFA15A\",\"#19d3f3\",\"#FF6692\",\"#B6E880\",\"#FF97FF\",\"#FECB52\"],\"font\":{\"color\":\"#2a3f5f\"},\"geo\":{\"bgcolor\":\"white\",\"lakecolor\":\"white\",\"landcolor\":\"#E5ECF6\",\"showlakes\":true,\"showland\":true,\"subunitcolor\":\"white\"},\"hoverlabel\":{\"align\":\"left\"},\"hovermode\":\"closest\",\"mapbox\":{\"style\":\"light\"},\"paper_bgcolor\":\"white\",\"plot_bgcolor\":\"#E5ECF6\",\"polar\":{\"angularaxis\":{\"gridcolor\":\"white\",\"linecolor\":\"white\",\"ticks\":\"\"},\"bgcolor\":\"#E5ECF6\",\"radialaxis\":{\"gridcolor\":\"white\",\"linecolor\":\"white\",\"ticks\":\"\"}},\"scene\":{\"xaxis\":{\"backgroundcolor\":\"#E5ECF6\",\"gridcolor\":\"white\",\"gridwidth\":2,\"linecolor\":\"white\",\"showbackground\":true,\"ticks\":\"\",\"zerolinecolor\":\"white\"},\"yaxis\":{\"backgroundcolor\":\"#E5ECF6\",\"gridcolor\":\"white\",\"gridwidth\":2,\"linecolor\":\"white\",\"showbackground\":true,\"ticks\":\"\",\"zerolinecolor\":\"white\"},\"zaxis\":{\"backgroundcolor\":\"#E5ECF6\",\"gridcolor\":\"white\",\"gridwidth\":2,\"linecolor\":\"white\",\"showbackground\":true,\"ticks\":\"\",\"zerolinecolor\":\"white\"}},\"shapedefaults\":{\"line\":{\"color\":\"#2a3f5f\"}},\"ternary\":{\"aaxis\":{\"gridcolor\":\"white\",\"linecolor\":\"white\",\"ticks\":\"\"},\"baxis\":{\"gridcolor\":\"white\",\"linecolor\":\"white\",\"ticks\":\"\"},\"bgcolor\":\"#E5ECF6\",\"caxis\":{\"gridcolor\":\"white\",\"linecolor\":\"white\",\"ticks\":\"\"}},\"title\":{\"x\":0.05},\"xaxis\":{\"automargin\":true,\"gridcolor\":\"white\",\"linecolor\":\"white\",\"ticks\":\"\",\"title\":{\"standoff\":15},\"zerolinecolor\":\"white\",\"zerolinewidth\":2},\"yaxis\":{\"automargin\":true,\"gridcolor\":\"white\",\"linecolor\":\"white\",\"ticks\":\"\",\"title\":{\"standoff\":15},\"zerolinecolor\":\"white\",\"zerolinewidth\":2}}},\"title\":{\"text\":\"3D graph visualization of Mutag dataset  by : Ahmed\"},\"width\":1000},                        {\"responsive\": true}                    ).then(function(){\n",
       "                            \n",
       "var gd = document.getElementById('e3cc6ee1-a75f-4120-9c90-285516c2bc73');\n",
       "var x = new MutationObserver(function (mutations, observer) {{\n",
       "        var display = window.getComputedStyle(gd).display;\n",
       "        if (!display || display === 'none') {{\n",
       "            console.log([gd, 'removed!']);\n",
       "            Plotly.purge(gd);\n",
       "            observer.disconnect();\n",
       "        }}\n",
       "}});\n",
       "\n",
       "// Listen for the removal of the full notebook cells\n",
       "var notebookContainer = gd.closest('#notebook-container');\n",
       "if (notebookContainer) {{\n",
       "    x.observe(notebookContainer, {childList: true});\n",
       "}}\n",
       "\n",
       "// Listen for the clearing of the current output cell\n",
       "var outputEl = gd.closest('.output');\n",
       "if (outputEl) {{\n",
       "    x.observe(outputEl, {childList: true});\n",
       "}}\n",
       "\n",
       "                        })                };                });            </script>        </div>"
      ]
     },
     "metadata": {},
     "output_type": "display_data"
    }
   ],
   "source": [
    "import pandas as pd\n",
    "import numpy as np\n",
    "%matplotlib inline\n",
    "import plotly.graph_objs as go\n",
    "from  plotly.offline import plot\n",
    "import chart_studio.plotly as py\n",
    "import cufflinks as cf\n",
    "cf.go_offline()\n",
    "from plotly.offline import download_plotlyjs, init_notebook_mode, plot,iplot\n",
    "init_notebook_mode(connected='true')\n",
    "data=[trace1, trace2]\n",
    "fig=go.Figure(data=data, layout=layout)\n",
    "\n",
    "iplot(fig, filename='Les-Miserables')"
   ]
  },
  {
   "cell_type": "code",
   "execution_count": 613,
   "metadata": {},
   "outputs": [
    {
     "name": "stdout",
     "output_type": "stream",
     "text": [
      "tensor([1])\n",
      "tensor([1])\n",
      "torch.Size([1, 17, 17])\n",
      "tensor(88)\n",
      "(2, 88)\n",
      "88\n",
      "tensor([[0.0000, 0.0000, 0.0000, 0.0000, 0.0000, 0.0000, 0.0000, 0.0000, 0.0000,\n",
      "         0.0000, 0.0000, 0.0000, 0.0000, 0.0000, 0.0234, 0.0235, 0.0235],\n",
      "        [0.0000, 0.0000, 0.0000, 0.0000, 0.0000, 0.0000, 0.0000, 0.0000, 0.0000,\n",
      "         0.0000, 0.0000, 0.0000, 0.0000, 0.0000, 0.0234, 0.0235, 0.0235],\n",
      "        [0.0000, 0.0000, 0.0000, 0.0000, 0.0000, 0.0000, 0.0000, 0.0000, 0.0000,\n",
      "         0.0000, 0.0000, 0.0000, 0.0000, 0.0000, 0.0234, 0.0235, 0.0235],\n",
      "        [0.0000, 0.0000, 0.0000, 0.0000, 0.0000, 0.0000, 0.0000, 0.0000, 0.0000,\n",
      "         0.0000, 0.0000, 0.0000, 0.0000, 0.0000, 0.0234, 0.0235, 0.0235],\n",
      "        [0.0000, 0.0000, 0.0000, 0.0000, 0.0000, 0.0000, 0.0000, 0.0000, 0.0000,\n",
      "         0.0000, 0.0000, 0.0000, 0.0000, 0.0000, 0.0234, 0.0235, 0.0235],\n",
      "        [0.0000, 0.0000, 0.0000, 0.0000, 0.0000, 0.0000, 0.0000, 0.0000, 0.0000,\n",
      "         0.0000, 0.0000, 0.0000, 0.0000, 0.0000, 0.0234, 0.0235, 0.0235],\n",
      "        [0.0000, 0.0000, 0.0000, 0.0000, 0.0000, 0.0000, 0.0000, 0.0000, 0.0000,\n",
      "         0.0000, 0.0000, 0.0000, 0.0000, 0.0000, 0.0234, 0.0235, 0.0235],\n",
      "        [0.0000, 0.0000, 0.0000, 0.0000, 0.0000, 0.0000, 0.0000, 0.0000, 0.0000,\n",
      "         0.0000, 0.0000, 0.0000, 0.0000, 0.0000, 0.0234, 0.0235, 0.0235],\n",
      "        [0.0000, 0.0000, 0.0000, 0.0000, 0.0000, 0.0000, 0.0000, 0.0000, 0.0000,\n",
      "         0.0000, 0.0000, 0.0000, 0.0000, 0.0000, 0.0234, 0.0235, 0.0235],\n",
      "        [0.0000, 0.0000, 0.0000, 0.0000, 0.0000, 0.0000, 0.0000, 0.0000, 0.0000,\n",
      "         0.0000, 0.0000, 0.0000, 0.0000, 0.0000, 0.0234, 0.0235, 0.0235],\n",
      "        [0.0000, 0.0000, 0.0000, 0.0000, 0.0000, 0.0000, 0.0000, 0.0000, 0.0000,\n",
      "         0.0000, 0.0000, 0.0000, 0.0000, 0.0000, 0.0234, 0.0235, 0.0235],\n",
      "        [0.0000, 0.0000, 0.0000, 0.0000, 0.0000, 0.0000, 0.0000, 0.0000, 0.0000,\n",
      "         0.0000, 0.0000, 0.0000, 0.0000, 0.0000, 0.0234, 0.0235, 0.0235],\n",
      "        [0.0000, 0.0000, 0.0000, 0.0000, 0.0000, 0.0000, 0.0000, 0.0000, 0.0000,\n",
      "         0.0000, 0.0000, 0.0000, 0.0000, 0.0000, 0.0234, 0.0235, 0.0235],\n",
      "        [0.0000, 0.0000, 0.0000, 0.0000, 0.0000, 0.0000, 0.0000, 0.0000, 0.0000,\n",
      "         0.0000, 0.0000, 0.0000, 0.0000, 0.0000, 0.0234, 0.0235, 0.0235],\n",
      "        [0.0234, 0.0234, 0.0234, 0.0234, 0.0234, 0.0234, 0.0234, 0.0234, 0.0234,\n",
      "         0.0234, 0.0234, 0.0234, 0.0234, 0.0234, 0.0000, 0.0241, 0.0241],\n",
      "        [0.0235, 0.0235, 0.0235, 0.0235, 0.0235, 0.0235, 0.0235, 0.0235, 0.0235,\n",
      "         0.0235, 0.0235, 0.0235, 0.0235, 0.0235, 0.0241, 0.0000, 0.0000],\n",
      "        [0.0235, 0.0235, 0.0235, 0.0235, 0.0235, 0.0235, 0.0235, 0.0235, 0.0235,\n",
      "         0.0235, 0.0235, 0.0235, 0.0235, 0.0235, 0.0241, 0.0000, 0.0000]],\n",
      "       grad_fn=<SqueezeBackward1>)\n",
      "tensor([[14, 15],\n",
      "        [14, 16],\n",
      "        [15, 14],\n",
      "        [16, 14]])\n"
     ]
    }
   ],
   "source": [
    "#modelo(data.x, data.edge_index, data.batch)\n",
    "print(grafo_init.y)\n",
    "pred, mc_loss, o_loss = model(grafo_init.x,grafo_init.edge_index,grafo_init.batch)\n",
    "print(pred.max(dim=1)[1])\n",
    "print(model.edge_rewiring.shape)\n",
    "print((model.edge_rewiring.squeeze(0)!=0).sum())\n",
    "#print(model.edge_rewiring.squeeze(0))\n",
    "print((model.edge_rewiring.squeeze(0).nonzero()).transpose(0,1).numpy().shape)\n",
    "kk = model.edge_rewiring.squeeze(0).nonzero().transpose(0,1)\n",
    "print(kk.size(1))\n",
    "print(model.edge_rewiring.squeeze(0))\n",
    "print((model.edge_rewiring.squeeze(0)>0.0241).nonzero())\n",
    "kk2 = (model.edge_rewiring.squeeze(0)>0.0241).nonzero().transpose(0,1)\n",
    "#for k in range(kk.size(1)):\n",
    "#    print(\"(\",kk[0][k].item(),\",\", kk[1][k].item(),\")\")"
   ]
  },
  {
   "cell_type": "code",
   "execution_count": 617,
   "metadata": {},
   "outputs": [
    {
     "name": "stdout",
     "output_type": "stream",
     "text": [
      "<class 'torch.Tensor'>\n",
      "DataBatch(edge_index=[2, 38], x=[17, 7], edge_attr=[38, 4], y=[1], batch=[17], ptr=[2])\n",
      "DataBatch(edge_index=[2, 38], x=[17, 7], edge_attr=[38, 4], y=[1], batch=[17], ptr=[2])\n",
      "<Layout with 17 vertices and 3 dimensions>\n"
     ]
    },
    {
     "data": {
      "image/png": "[encoded data removed]",
      "text/plain": [
       "<Figure size 432x288 with 1 Axes>"
      ]
     },
     "metadata": {},
     "output_type": "display_data"
    }
   ],
   "source": [
    "import networkx as nx\n",
    "from torch_geometric.utils import *\n",
    "loader =  DataLoader(dataset, batch_size=1, shuffle=False)\n",
    "grafo_init = next(iter(loader))\n",
    "print(type(grafo_init.edge_index))\n",
    "print(grafo_init)\n",
    "print(grafo_init)\n",
    "A = to_networkx(grafo_init, to_undirected=True)\n",
    "#A.edges = kk\n",
    "l=[]\n",
    "for a in A.nodes:\n",
    "    l.append(a)\n",
    "ed= []\n",
    "for e in A.edges:\n",
    "    ed.append(e)\n",
    "import igraph as ig\n",
    "import chart_studio.plotly\n",
    "Edges= ed\n",
    "G=ig.Graph(Edges, directed=False)\n",
    "labels= l\n",
    "#groups = A.node_attr_dict_factory\n",
    "N = len(A.nodes)\n",
    "layt=G.layout('kk', dim=3)\n",
    "print(layt)\n",
    "Xn=[layt[k][0] for k in range(N)]# x-coordinates of nodes\n",
    "Yn=[layt[k][1] for k in range(N)]# y-coordinates\n",
    "Zn=[layt[k][2] for k in range(N)]# z-coordinates\n",
    "Xe=[]\n",
    "Ye=[]\n",
    "Ze=[]\n",
    "for e in Edges:\n",
    "    Xe+=[layt[e[0]][0],layt[e[1]][0], None]# x-coordinates of edge ends\n",
    "    Ye+=[layt[e[0]][1],layt[e[1]][1], None]\n",
    "    Ze+=[layt[e[0]][2],layt[e[1]][2], None]\n",
    "#EN ESTE PASO RECALCO LOS EDGES NUEVOS\n",
    "Xahmed=[]\n",
    "Yahmed=[]\n",
    "Zahmed=[]\n",
    "for e in Edges:\n",
    "    if e in kk2.transpose(0,1).numpy():\n",
    "        Xahmed+=[layt[e[0]][0],layt[e[1]][0], None]# x-coordinates of edge ends\n",
    "        Yahmed+=[layt[e[0]][1],layt[e[1]][1], None]\n",
    "        Zahmed+=[layt[e[0]][2],layt[e[1]][2], None]\n",
    "nx.draw(A)"
   ]
  },
  {
   "cell_type": "code",
   "execution_count": 620,
   "metadata": {},
   "outputs": [],
   "source": [
    "from chart_studio import plotly\n",
    "import plotly.graph_objs as go\n",
    "\n",
    "trace1=go.Scatter3d(x=Xe,\n",
    "               y=Ye,\n",
    "               z=Ze,\n",
    "               mode='lines',\n",
    "               line=dict(color='rgb(256,256,256)', width=1),\n",
    "               hoverinfo='none'\n",
    "               )\n",
    "\n",
    "trace2=go.Scatter3d(x=Xn,\n",
    "               y=Yn,\n",
    "               z=Zn,\n",
    "               mode='markers',\n",
    "               name='actors',\n",
    "               marker=dict(symbol='circle',\n",
    "                             size=6,\n",
    "                             color='#ff7f0e',\n",
    "                             colorscale='Viridis',\n",
    "                             line=dict(color='rgb(50,50,50)', width=0.5)\n",
    "                             ),\n",
    "               text=labels,\n",
    "               hoverinfo='text'\n",
    "               )\n",
    "#Lo mismo de antes, estas las pinto de negro y las antiguas de blanco (una pequeña chapuza)\n",
    "# Vale no, abajo explico como hacerlo sin chapuza\n",
    "trace3=go.Scatter3d(x=Xahmed,\n",
    "               y=Yahmed,\n",
    "               z=Zahmed,\n",
    "               mode='lines',\n",
    "               line=dict(color='rgb(0,0,0)', width=1),\n",
    "               hoverinfo='none'\n",
    "               )\n",
    "axis=dict(showbackground=False,\n",
    "          showline=False,\n",
    "          zeroline=False,\n",
    "          showgrid=False,\n",
    "          showticklabels=False,\n",
    "          title=''\n",
    "          )\n",
    "\n",
    "layout = go.Layout(\n",
    "         title=\"3D graph visualization of Mutag dataset  by : Ahmed\",\n",
    "         width=1000,\n",
    "         height=1000,\n",
    "         showlegend=False,\n",
    "         scene=dict(\n",
    "             xaxis=dict(axis),\n",
    "             yaxis=dict(axis),\n",
    "             zaxis=dict(axis),\n",
    "        ),\n",
    "     margin=dict(\n",
    "        t=100\n",
    "    ),\n",
    "    hovermode='closest',\n",
    "    annotations=[\n",
    "           dict(\n",
    "           showarrow=False,\n",
    "            text=\"Data source: <a href='https://plotly.com/python/v3/3d-network-graph/</a>\",\n",
    "            xref='paper',\n",
    "            yref='paper',\n",
    "            x=0,\n",
    "            y=0.1,\n",
    "            xanchor='left',\n",
    "            yanchor='bottom',\n",
    "            font=dict(\n",
    "            size=14\n",
    "            )\n",
    "            )\n",
    "        ],    )"
   ]
  },
  {
   "cell_type": "code",
   "execution_count": 624,
   "metadata": {},
   "outputs": [
    {
     "data": {
      "text/html": [
       "        <script type=\"text/javascript\">\n",
       "        window.PlotlyConfig = {MathJaxConfig: 'local'};\n",
       "        if (window.MathJax) {MathJax.Hub.Config({SVG: {font: \"STIX-Web\"}});}\n",
       "        if (typeof require !== 'undefined') {\n",
       "        require.undef(\"plotly\");\n",
       "        requirejs.config({\n",
       "            paths: {\n",
       "                'plotly': ['https://cdn.plot.ly/plotly-2.9.0.min']\n",
       "            }\n",
       "        });\n",
       "        require(['plotly'], function(Plotly) {\n",
       "            window._Plotly = Plotly;\n",
       "        });\n",
       "        }\n",
       "        </script>\n",
       "        "
      ]
     },
     "metadata": {},
     "output_type": "display_data"
    },
    {
     "data": {
      "text/html": [
       "        <script type=\"text/javascript\">\n",
       "        window.PlotlyConfig = {MathJaxConfig: 'local'};\n",
       "        if (window.MathJax) {MathJax.Hub.Config({SVG: {font: \"STIX-Web\"}});}\n",
       "        if (typeof require !== 'undefined') {\n",
       "        require.undef(\"plotly\");\n",
       "        requirejs.config({\n",
       "            paths: {\n",
       "                'plotly': ['https://cdn.plot.ly/plotly-2.9.0.min']\n",
       "            }\n",
       "        });\n",
       "        require(['plotly'], function(Plotly) {\n",
       "            window._Plotly = Plotly;\n",
       "        });\n",
       "        }\n",
       "        </script>\n",
       "        "
      ]
     },
     "metadata": {},
     "output_type": "display_data"
    },
    {
     "data": {
      "application/vnd.plotly.v1+json": {
       "config": {
        "linkText": "Export to plot.ly",
        "plotlyServerURL": "https://plot.ly",
        "showLink": false
       },
       "data": [
        {
         "hoverinfo": "text",
         "marker": {
          "color": "#ff7f0e",
          "colorscale": [
           [
            0,
            "#440154"
           ],
           [
            0.1111111111111111,
            "#482878"
           ],
           [
            0.2222222222222222,
            "#3e4989"
           ],
           [
            0.3333333333333333,
            "#31688e"
           ],
           [
            0.4444444444444444,
            "#26828e"
           ],
           [
            0.5555555555555556,
            "#1f9e89"
           ],
           [
            0.6666666666666666,
            "#35b779"
           ],
           [
            0.7777777777777778,
            "#6ece58"
           ],
           [
            0.8888888888888888,
            "#b5de2b"
           ],
           [
            1,
            "#fde725"
           ]
          ],
          "line": {
           "color": "rgb(50,50,50)",
           "width": 0.5
          },
          "size": 6,
          "symbol": "circle"
         },
         "mode": "markers",
         "name": "actors",
         "text": [
          "0",
          "1",
          "2",
          "3",
          "4",
          "5",
          "6",
          "7",
          "8",
          "9",
          "10",
          "11",
          "12",
          "13",
          "14",
          "15",
          "16"
         ],
         "type": "scatter3d",
         "x": [
          -0.28020186169958294,
          -0.34629807244813393,
          -0.26263139203594954,
          -0.10972389547798103,
          -0.04135634129343411,
          -0.12870510601780713,
          0.11273605558464275,
          0.19920030542116468,
          0.14216394235225055,
          -0.021294855416594902,
          -0.04799220180559432,
          0.043186692079266065,
          0.2006756988636916,
          0.22926367953829277,
          0.2954390102551118,
          -0.012199572762916605,
          0.7221698505825909
         ],
         "y": [
          0.19723368741203395,
          -0.28666222329766744,
          -0.38302812698070055,
          -0.06925611426176463,
          0.4434378608256048,
          0.5297959660407959,
          0.8114542710515891,
          0.7213209135741517,
          0.24690533661199168,
          -0.16155732147480256,
          -0.5855078697169339,
          -0.6549171926539544,
          -0.2717684002233527,
          0.15692387647454403,
          -0.3250876760682331,
          -0.29187654436398086,
          -0.4542833544363949
         ],
         "z": [
          -1.7658964870405094,
          -1.5706792446977842,
          -1.0698296126288633,
          -0.6713723309388547,
          -0.8861384295254073,
          -1.393995818987904,
          -0.5392634238537658,
          -0.0316435931627712,
          0.19679539414750452,
          -0.152090915487566,
          0.16785056124576045,
          0.6760964141973062,
          1.0232083008135935,
          0.7072848408569624,
          1.5315777119090512,
          1.9432693685332403,
          1.7893446399478032
         ]
        },
        {
         "hoverinfo": "none",
         "line": {
          "color": "rgb(0,0,0)",
          "width": 1
         },
         "mode": "lines",
         "type": "scatter3d",
         "x": [
          0.2006756988636916,
          0.2954390102551118,
          null,
          0.2954390102551118,
          -0.012199572762916605,
          null,
          0.2954390102551118,
          0.7221698505825909,
          null
         ],
         "y": [
          -0.2717684002233527,
          -0.3250876760682331,
          null,
          -0.3250876760682331,
          -0.29187654436398086,
          null,
          -0.3250876760682331,
          -0.4542833544363949,
          null
         ],
         "z": [
          1.0232083008135935,
          1.5315777119090512,
          null,
          1.5315777119090512,
          1.9432693685332403,
          null,
          1.5315777119090512,
          1.7893446399478032,
          null
         ]
        }
       ],
       "layout": {
        "annotations": [
         {
          "font": {
           "size": 14
          },
          "showarrow": false,
          "text": "Data source: <a href='https://plotly.com/python/v3/3d-network-graph/</a>",
          "x": 0,
          "xanchor": "left",
          "xref": "paper",
          "y": 0.1,
          "yanchor": "bottom",
          "yref": "paper"
         }
        ],
        "height": 1000,
        "hovermode": "closest",
        "margin": {
         "t": 100
        },
        "scene": {
         "xaxis": {
          "showbackground": false,
          "showgrid": false,
          "showline": false,
          "showticklabels": false,
          "title": {
           "text": ""
          },
          "zeroline": false
         },
         "yaxis": {
          "showbackground": false,
          "showgrid": false,
          "showline": false,
          "showticklabels": false,
          "title": {
           "text": ""
          },
          "zeroline": false
         },
         "zaxis": {
          "showbackground": false,
          "showgrid": false,
          "showline": false,
          "showticklabels": false,
          "title": {
           "text": ""
          },
          "zeroline": false
         }
        },
        "showlegend": false,
        "template": {
         "data": {
          "bar": [
           {
            "error_x": {
             "color": "#2a3f5f"
            },
            "error_y": {
             "color": "#2a3f5f"
            },
            "marker": {
             "line": {
              "color": "#E5ECF6",
              "width": 0.5
             },
             "pattern": {
              "fillmode": "overlay",
              "size": 10,
              "solidity": 0.2
             }
            },
            "type": "bar"
           }
          ],
          "barpolar": [
           {
            "marker": {
             "line": {
              "color": "#E5ECF6",
              "width": 0.5
             },
             "pattern": {
              "fillmode": "overlay",
              "size": 10,
              "solidity": 0.2
             }
            },
            "type": "barpolar"
           }
          ],
          "carpet": [
           {
            "aaxis": {
             "endlinecolor": "#2a3f5f",
             "gridcolor": "white",
             "linecolor": "white",
             "minorgridcolor": "white",
             "startlinecolor": "#2a3f5f"
            },
            "baxis": {
             "endlinecolor": "#2a3f5f",
             "gridcolor": "white",
             "linecolor": "white",
             "minorgridcolor": "white",
             "startlinecolor": "#2a3f5f"
            },
            "type": "carpet"
           }
          ],
          "choropleth": [
           {
            "colorbar": {
             "outlinewidth": 0,
             "ticks": ""
            },
            "type": "choropleth"
           }
          ],
          "contour": [
           {
            "colorbar": {
             "outlinewidth": 0,
             "ticks": ""
            },
            "colorscale": [
             [
              0,
              "#0d0887"
             ],
             [
              0.1111111111111111,
              "#46039f"
             ],
             [
              0.2222222222222222,
              "#7201a8"
             ],
             [
              0.3333333333333333,
              "#9c179e"
             ],
             [
              0.4444444444444444,
              "#bd3786"
             ],
             [
              0.5555555555555556,
              "#d8576b"
             ],
             [
              0.6666666666666666,
              "#ed7953"
             ],
             [
              0.7777777777777778,
              "#fb9f3a"
             ],
             [
              0.8888888888888888,
              "#fdca26"
             ],
             [
              1,
              "#f0f921"
             ]
            ],
            "type": "contour"
           }
          ],
          "contourcarpet": [
           {
            "colorbar": {
             "outlinewidth": 0,
             "ticks": ""
            },
            "type": "contourcarpet"
           }
          ],
          "heatmap": [
           {
            "colorbar": {
             "outlinewidth": 0,
             "ticks": ""
            },
            "colorscale": [
             [
              0,
              "#0d0887"
             ],
             [
              0.1111111111111111,
              "#46039f"
             ],
             [
              0.2222222222222222,
              "#7201a8"
             ],
             [
              0.3333333333333333,
              "#9c179e"
             ],
             [
              0.4444444444444444,
              "#bd3786"
             ],
             [
              0.5555555555555556,
              "#d8576b"
             ],
             [
              0.6666666666666666,
              "#ed7953"
             ],
             [
              0.7777777777777778,
              "#fb9f3a"
             ],
             [
              0.8888888888888888,
              "#fdca26"
             ],
             [
              1,
              "#f0f921"
             ]
            ],
            "type": "heatmap"
           }
          ],
          "heatmapgl": [
           {
            "colorbar": {
             "outlinewidth": 0,
             "ticks": ""
            },
            "colorscale": [
             [
              0,
              "#0d0887"
             ],
             [
              0.1111111111111111,
              "#46039f"
             ],
             [
              0.2222222222222222,
              "#7201a8"
             ],
             [
              0.3333333333333333,
              "#9c179e"
             ],
             [
              0.4444444444444444,
              "#bd3786"
             ],
             [
              0.5555555555555556,
              "#d8576b"
             ],
             [
              0.6666666666666666,
              "#ed7953"
             ],
             [
              0.7777777777777778,
              "#fb9f3a"
             ],
             [
              0.8888888888888888,
              "#fdca26"
             ],
             [
              1,
              "#f0f921"
             ]
            ],
            "type": "heatmapgl"
           }
          ],
          "histogram": [
           {
            "marker": {
             "pattern": {
              "fillmode": "overlay",
              "size": 10,
              "solidity": 0.2
             }
            },
            "type": "histogram"
           }
          ],
          "histogram2d": [
           {
            "colorbar": {
             "outlinewidth": 0,
             "ticks": ""
            },
            "colorscale": [
             [
              0,
              "#0d0887"
             ],
             [
              0.1111111111111111,
              "#46039f"
             ],
             [
              0.2222222222222222,
              "#7201a8"
             ],
             [
              0.3333333333333333,
              "#9c179e"
             ],
             [
              0.4444444444444444,
              "#bd3786"
             ],
             [
              0.5555555555555556,
              "#d8576b"
             ],
             [
              0.6666666666666666,
              "#ed7953"
             ],
             [
              0.7777777777777778,
              "#fb9f3a"
             ],
             [
              0.8888888888888888,
              "#fdca26"
             ],
             [
              1,
              "#f0f921"
             ]
            ],
            "type": "histogram2d"
           }
          ],
          "histogram2dcontour": [
           {
            "colorbar": {
             "outlinewidth": 0,
             "ticks": ""
            },
            "colorscale": [
             [
              0,
              "#0d0887"
             ],
             [
              0.1111111111111111,
              "#46039f"
             ],
             [
              0.2222222222222222,
              "#7201a8"
             ],
             [
              0.3333333333333333,
              "#9c179e"
             ],
             [
              0.4444444444444444,
              "#bd3786"
             ],
             [
              0.5555555555555556,
              "#d8576b"
             ],
             [
              0.6666666666666666,
              "#ed7953"
             ],
             [
              0.7777777777777778,
              "#fb9f3a"
             ],
             [
              0.8888888888888888,
              "#fdca26"
             ],
             [
              1,
              "#f0f921"
             ]
            ],
            "type": "histogram2dcontour"
           }
          ],
          "mesh3d": [
           {
            "colorbar": {
             "outlinewidth": 0,
             "ticks": ""
            },
            "type": "mesh3d"
           }
          ],
          "parcoords": [
           {
            "line": {
             "colorbar": {
              "outlinewidth": 0,
              "ticks": ""
             }
            },
            "type": "parcoords"
           }
          ],
          "pie": [
           {
            "automargin": true,
            "type": "pie"
           }
          ],
          "scatter": [
           {
            "marker": {
             "colorbar": {
              "outlinewidth": 0,
              "ticks": ""
             }
            },
            "type": "scatter"
           }
          ],
          "scatter3d": [
           {
            "line": {
             "colorbar": {
              "outlinewidth": 0,
              "ticks": ""
             }
            },
            "marker": {
             "colorbar": {
              "outlinewidth": 0,
              "ticks": ""
             }
            },
            "type": "scatter3d"
           }
          ],
          "scattercarpet": [
           {
            "marker": {
             "colorbar": {
              "outlinewidth": 0,
              "ticks": ""
             }
            },
            "type": "scattercarpet"
           }
          ],
          "scattergeo": [
           {
            "marker": {
             "colorbar": {
              "outlinewidth": 0,
              "ticks": ""
             }
            },
            "type": "scattergeo"
           }
          ],
          "scattergl": [
           {
            "marker": {
             "colorbar": {
              "outlinewidth": 0,
              "ticks": ""
             }
            },
            "type": "scattergl"
           }
          ],
          "scattermapbox": [
           {
            "marker": {
             "colorbar": {
              "outlinewidth": 0,
              "ticks": ""
             }
            },
            "type": "scattermapbox"
           }
          ],
          "scatterpolar": [
           {
            "marker": {
             "colorbar": {
              "outlinewidth": 0,
              "ticks": ""
             }
            },
            "type": "scatterpolar"
           }
          ],
          "scatterpolargl": [
           {
            "marker": {
             "colorbar": {
              "outlinewidth": 0,
              "ticks": ""
             }
            },
            "type": "scatterpolargl"
           }
          ],
          "scatterternary": [
           {
            "marker": {
             "colorbar": {
              "outlinewidth": 0,
              "ticks": ""
             }
            },
            "type": "scatterternary"
           }
          ],
          "surface": [
           {
            "colorbar": {
             "outlinewidth": 0,
             "ticks": ""
            },
            "colorscale": [
             [
              0,
              "#0d0887"
             ],
             [
              0.1111111111111111,
              "#46039f"
             ],
             [
              0.2222222222222222,
              "#7201a8"
             ],
             [
              0.3333333333333333,
              "#9c179e"
             ],
             [
              0.4444444444444444,
              "#bd3786"
             ],
             [
              0.5555555555555556,
              "#d8576b"
             ],
             [
              0.6666666666666666,
              "#ed7953"
             ],
             [
              0.7777777777777778,
              "#fb9f3a"
             ],
             [
              0.8888888888888888,
              "#fdca26"
             ],
             [
              1,
              "#f0f921"
             ]
            ],
            "type": "surface"
           }
          ],
          "table": [
           {
            "cells": {
             "fill": {
              "color": "#EBF0F8"
             },
             "line": {
              "color": "white"
             }
            },
            "header": {
             "fill": {
              "color": "#C8D4E3"
             },
             "line": {
              "color": "white"
             }
            },
            "type": "table"
           }
          ]
         },
         "layout": {
          "annotationdefaults": {
           "arrowcolor": "#2a3f5f",
           "arrowhead": 0,
           "arrowwidth": 1
          },
          "autotypenumbers": "strict",
          "coloraxis": {
           "colorbar": {
            "outlinewidth": 0,
            "ticks": ""
           }
          },
          "colorscale": {
           "diverging": [
            [
             0,
             "#8e0152"
            ],
            [
             0.1,
             "#c51b7d"
            ],
            [
             0.2,
             "#de77ae"
            ],
            [
             0.3,
             "#f1b6da"
            ],
            [
             0.4,
             "#fde0ef"
            ],
            [
             0.5,
             "#f7f7f7"
            ],
            [
             0.6,
             "#e6f5d0"
            ],
            [
             0.7,
             "#b8e186"
            ],
            [
             0.8,
             "#7fbc41"
            ],
            [
             0.9,
             "#4d9221"
            ],
            [
             1,
             "#276419"
            ]
           ],
           "sequential": [
            [
             0,
             "#0d0887"
            ],
            [
             0.1111111111111111,
             "#46039f"
            ],
            [
             0.2222222222222222,
             "#7201a8"
            ],
            [
             0.3333333333333333,
             "#9c179e"
            ],
            [
             0.4444444444444444,
             "#bd3786"
            ],
            [
             0.5555555555555556,
             "#d8576b"
            ],
            [
             0.6666666666666666,
             "#ed7953"
            ],
            [
             0.7777777777777778,
             "#fb9f3a"
            ],
            [
             0.8888888888888888,
             "#fdca26"
            ],
            [
             1,
             "#f0f921"
            ]
           ],
           "sequentialminus": [
            [
             0,
             "#0d0887"
            ],
            [
             0.1111111111111111,
             "#46039f"
            ],
            [
             0.2222222222222222,
             "#7201a8"
            ],
            [
             0.3333333333333333,
             "#9c179e"
            ],
            [
             0.4444444444444444,
             "#bd3786"
            ],
            [
             0.5555555555555556,
             "#d8576b"
            ],
            [
             0.6666666666666666,
             "#ed7953"
            ],
            [
             0.7777777777777778,
             "#fb9f3a"
            ],
            [
             0.8888888888888888,
             "#fdca26"
            ],
            [
             1,
             "#f0f921"
            ]
           ]
          },
          "colorway": [
           "#636efa",
           "#EF553B",
           "#00cc96",
           "#ab63fa",
           "#FFA15A",
           "#19d3f3",
           "#FF6692",
           "#B6E880",
           "#FF97FF",
           "#FECB52"
          ],
          "font": {
           "color": "#2a3f5f"
          },
          "geo": {
           "bgcolor": "white",
           "lakecolor": "white",
           "landcolor": "#E5ECF6",
           "showlakes": true,
           "showland": true,
           "subunitcolor": "white"
          },
          "hoverlabel": {
           "align": "left"
          },
          "hovermode": "closest",
          "mapbox": {
           "style": "light"
          },
          "paper_bgcolor": "white",
          "plot_bgcolor": "#E5ECF6",
          "polar": {
           "angularaxis": {
            "gridcolor": "white",
            "linecolor": "white",
            "ticks": ""
           },
           "bgcolor": "#E5ECF6",
           "radialaxis": {
            "gridcolor": "white",
            "linecolor": "white",
            "ticks": ""
           }
          },
          "scene": {
           "xaxis": {
            "backgroundcolor": "#E5ECF6",
            "gridcolor": "white",
            "gridwidth": 2,
            "linecolor": "white",
            "showbackground": true,
            "ticks": "",
            "zerolinecolor": "white"
           },
           "yaxis": {
            "backgroundcolor": "#E5ECF6",
            "gridcolor": "white",
            "gridwidth": 2,
            "linecolor": "white",
            "showbackground": true,
            "ticks": "",
            "zerolinecolor": "white"
           },
           "zaxis": {
            "backgroundcolor": "#E5ECF6",
            "gridcolor": "white",
            "gridwidth": 2,
            "linecolor": "white",
            "showbackground": true,
            "ticks": "",
            "zerolinecolor": "white"
           }
          },
          "shapedefaults": {
           "line": {
            "color": "#2a3f5f"
           }
          },
          "ternary": {
           "aaxis": {
            "gridcolor": "white",
            "linecolor": "white",
            "ticks": ""
           },
           "baxis": {
            "gridcolor": "white",
            "linecolor": "white",
            "ticks": ""
           },
           "bgcolor": "#E5ECF6",
           "caxis": {
            "gridcolor": "white",
            "linecolor": "white",
            "ticks": ""
           }
          },
          "title": {
           "x": 0.05
          },
          "xaxis": {
           "automargin": true,
           "gridcolor": "white",
           "linecolor": "white",
           "ticks": "",
           "title": {
            "standoff": 15
           },
           "zerolinecolor": "white",
           "zerolinewidth": 2
          },
          "yaxis": {
           "automargin": true,
           "gridcolor": "white",
           "linecolor": "white",
           "ticks": "",
           "title": {
            "standoff": 15
           },
           "zerolinecolor": "white",
           "zerolinewidth": 2
          }
         }
        },
        "title": {
         "text": "3D graph visualization of Mutag dataset  by : Ahmed"
        },
        "width": 1000
       }
      },
      "text/html": [
       "<div>                            <div id=\"0657e414-5dc8-4809-b1a9-fdc781493a70\" class=\"plotly-graph-div\" style=\"height:1000px; width:1000px;\"></div>            <script type=\"text/javascript\">                require([\"plotly\"], function(Plotly) {                    window.PLOTLYENV=window.PLOTLYENV || {};                                    if (document.getElementById(\"0657e414-5dc8-4809-b1a9-fdc781493a70\")) {                    Plotly.newPlot(                        \"0657e414-5dc8-4809-b1a9-fdc781493a70\",                        [{\"hoverinfo\":\"text\",\"marker\":{\"color\":\"#ff7f0e\",\"colorscale\":[[0.0,\"#440154\"],[0.1111111111111111,\"#482878\"],[0.2222222222222222,\"#3e4989\"],[0.3333333333333333,\"#31688e\"],[0.4444444444444444,\"#26828e\"],[0.5555555555555556,\"#1f9e89\"],[0.6666666666666666,\"#35b779\"],[0.7777777777777778,\"#6ece58\"],[0.8888888888888888,\"#b5de2b\"],[1.0,\"#fde725\"]],\"line\":{\"color\":\"rgb(50,50,50)\",\"width\":0.5},\"size\":6,\"symbol\":\"circle\"},\"mode\":\"markers\",\"name\":\"actors\",\"text\":[\"0\",\"1\",\"2\",\"3\",\"4\",\"5\",\"6\",\"7\",\"8\",\"9\",\"10\",\"11\",\"12\",\"13\",\"14\",\"15\",\"16\"],\"x\":[-0.28020186169958294,-0.34629807244813393,-0.26263139203594954,-0.10972389547798103,-0.04135634129343411,-0.12870510601780713,0.11273605558464275,0.19920030542116468,0.14216394235225055,-0.021294855416594902,-0.04799220180559432,0.043186692079266065,0.2006756988636916,0.22926367953829277,0.2954390102551118,-0.012199572762916605,0.7221698505825909],\"y\":[0.19723368741203395,-0.28666222329766744,-0.38302812698070055,-0.06925611426176463,0.4434378608256048,0.5297959660407959,0.8114542710515891,0.7213209135741517,0.24690533661199168,-0.16155732147480256,-0.5855078697169339,-0.6549171926539544,-0.2717684002233527,0.15692387647454403,-0.3250876760682331,-0.29187654436398086,-0.4542833544363949],\"z\":[-1.7658964870405094,-1.5706792446977842,-1.0698296126288633,-0.6713723309388547,-0.8861384295254073,-1.393995818987904,-0.5392634238537658,-0.0316435931627712,0.19679539414750452,-0.152090915487566,0.16785056124576045,0.6760964141973062,1.0232083008135935,0.7072848408569624,1.5315777119090512,1.9432693685332403,1.7893446399478032],\"type\":\"scatter3d\"},{\"hoverinfo\":\"none\",\"line\":{\"color\":\"rgb(0,0,0)\",\"width\":1},\"mode\":\"lines\",\"x\":[0.2006756988636916,0.2954390102551118,null,0.2954390102551118,-0.012199572762916605,null,0.2954390102551118,0.7221698505825909,null],\"y\":[-0.2717684002233527,-0.3250876760682331,null,-0.3250876760682331,-0.29187654436398086,null,-0.3250876760682331,-0.4542833544363949,null],\"z\":[1.0232083008135935,1.5315777119090512,null,1.5315777119090512,1.9432693685332403,null,1.5315777119090512,1.7893446399478032,null],\"type\":\"scatter3d\"}],                        {\"annotations\":[{\"font\":{\"size\":14},\"showarrow\":false,\"text\":\"Data source: <a href='https://plotly.com/python/v3/3d-network-graph/</a>\",\"x\":0,\"xanchor\":\"left\",\"xref\":\"paper\",\"y\":0.1,\"yanchor\":\"bottom\",\"yref\":\"paper\"}],\"height\":1000,\"hovermode\":\"closest\",\"margin\":{\"t\":100},\"scene\":{\"xaxis\":{\"showbackground\":false,\"showgrid\":false,\"showline\":false,\"showticklabels\":false,\"title\":{\"text\":\"\"},\"zeroline\":false},\"yaxis\":{\"showbackground\":false,\"showgrid\":false,\"showline\":false,\"showticklabels\":false,\"title\":{\"text\":\"\"},\"zeroline\":false},\"zaxis\":{\"showbackground\":false,\"showgrid\":false,\"showline\":false,\"showticklabels\":false,\"title\":{\"text\":\"\"},\"zeroline\":false}},\"showlegend\":false,\"template\":{\"data\":{\"barpolar\":[{\"marker\":{\"line\":{\"color\":\"#E5ECF6\",\"width\":0.5},\"pattern\":{\"fillmode\":\"overlay\",\"size\":10,\"solidity\":0.2}},\"type\":\"barpolar\"}],\"bar\":[{\"error_x\":{\"color\":\"#2a3f5f\"},\"error_y\":{\"color\":\"#2a3f5f\"},\"marker\":{\"line\":{\"color\":\"#E5ECF6\",\"width\":0.5},\"pattern\":{\"fillmode\":\"overlay\",\"size\":10,\"solidity\":0.2}},\"type\":\"bar\"}],\"carpet\":[{\"aaxis\":{\"endlinecolor\":\"#2a3f5f\",\"gridcolor\":\"white\",\"linecolor\":\"white\",\"minorgridcolor\":\"white\",\"startlinecolor\":\"#2a3f5f\"},\"baxis\":{\"endlinecolor\":\"#2a3f5f\",\"gridcolor\":\"white\",\"linecolor\":\"white\",\"minorgridcolor\":\"white\",\"startlinecolor\":\"#2a3f5f\"},\"type\":\"carpet\"}],\"choropleth\":[{\"colorbar\":{\"outlinewidth\":0,\"ticks\":\"\"},\"type\":\"choropleth\"}],\"contourcarpet\":[{\"colorbar\":{\"outlinewidth\":0,\"ticks\":\"\"},\"type\":\"contourcarpet\"}],\"contour\":[{\"colorbar\":{\"outlinewidth\":0,\"ticks\":\"\"},\"colorscale\":[[0.0,\"#0d0887\"],[0.1111111111111111,\"#46039f\"],[0.2222222222222222,\"#7201a8\"],[0.3333333333333333,\"#9c179e\"],[0.4444444444444444,\"#bd3786\"],[0.5555555555555556,\"#d8576b\"],[0.6666666666666666,\"#ed7953\"],[0.7777777777777778,\"#fb9f3a\"],[0.8888888888888888,\"#fdca26\"],[1.0,\"#f0f921\"]],\"type\":\"contour\"}],\"heatmapgl\":[{\"colorbar\":{\"outlinewidth\":0,\"ticks\":\"\"},\"colorscale\":[[0.0,\"#0d0887\"],[0.1111111111111111,\"#46039f\"],[0.2222222222222222,\"#7201a8\"],[0.3333333333333333,\"#9c179e\"],[0.4444444444444444,\"#bd3786\"],[0.5555555555555556,\"#d8576b\"],[0.6666666666666666,\"#ed7953\"],[0.7777777777777778,\"#fb9f3a\"],[0.8888888888888888,\"#fdca26\"],[1.0,\"#f0f921\"]],\"type\":\"heatmapgl\"}],\"heatmap\":[{\"colorbar\":{\"outlinewidth\":0,\"ticks\":\"\"},\"colorscale\":[[0.0,\"#0d0887\"],[0.1111111111111111,\"#46039f\"],[0.2222222222222222,\"#7201a8\"],[0.3333333333333333,\"#9c179e\"],[0.4444444444444444,\"#bd3786\"],[0.5555555555555556,\"#d8576b\"],[0.6666666666666666,\"#ed7953\"],[0.7777777777777778,\"#fb9f3a\"],[0.8888888888888888,\"#fdca26\"],[1.0,\"#f0f921\"]],\"type\":\"heatmap\"}],\"histogram2dcontour\":[{\"colorbar\":{\"outlinewidth\":0,\"ticks\":\"\"},\"colorscale\":[[0.0,\"#0d0887\"],[0.1111111111111111,\"#46039f\"],[0.2222222222222222,\"#7201a8\"],[0.3333333333333333,\"#9c179e\"],[0.4444444444444444,\"#bd3786\"],[0.5555555555555556,\"#d8576b\"],[0.6666666666666666,\"#ed7953\"],[0.7777777777777778,\"#fb9f3a\"],[0.8888888888888888,\"#fdca26\"],[1.0,\"#f0f921\"]],\"type\":\"histogram2dcontour\"}],\"histogram2d\":[{\"colorbar\":{\"outlinewidth\":0,\"ticks\":\"\"},\"colorscale\":[[0.0,\"#0d0887\"],[0.1111111111111111,\"#46039f\"],[0.2222222222222222,\"#7201a8\"],[0.3333333333333333,\"#9c179e\"],[0.4444444444444444,\"#bd3786\"],[0.5555555555555556,\"#d8576b\"],[0.6666666666666666,\"#ed7953\"],[0.7777777777777778,\"#fb9f3a\"],[0.8888888888888888,\"#fdca26\"],[1.0,\"#f0f921\"]],\"type\":\"histogram2d\"}],\"histogram\":[{\"marker\":{\"pattern\":{\"fillmode\":\"overlay\",\"size\":10,\"solidity\":0.2}},\"type\":\"histogram\"}],\"mesh3d\":[{\"colorbar\":{\"outlinewidth\":0,\"ticks\":\"\"},\"type\":\"mesh3d\"}],\"parcoords\":[{\"line\":{\"colorbar\":{\"outlinewidth\":0,\"ticks\":\"\"}},\"type\":\"parcoords\"}],\"pie\":[{\"automargin\":true,\"type\":\"pie\"}],\"scatter3d\":[{\"line\":{\"colorbar\":{\"outlinewidth\":0,\"ticks\":\"\"}},\"marker\":{\"colorbar\":{\"outlinewidth\":0,\"ticks\":\"\"}},\"type\":\"scatter3d\"}],\"scattercarpet\":[{\"marker\":{\"colorbar\":{\"outlinewidth\":0,\"ticks\":\"\"}},\"type\":\"scattercarpet\"}],\"scattergeo\":[{\"marker\":{\"colorbar\":{\"outlinewidth\":0,\"ticks\":\"\"}},\"type\":\"scattergeo\"}],\"scattergl\":[{\"marker\":{\"colorbar\":{\"outlinewidth\":0,\"ticks\":\"\"}},\"type\":\"scattergl\"}],\"scattermapbox\":[{\"marker\":{\"colorbar\":{\"outlinewidth\":0,\"ticks\":\"\"}},\"type\":\"scattermapbox\"}],\"scatterpolargl\":[{\"marker\":{\"colorbar\":{\"outlinewidth\":0,\"ticks\":\"\"}},\"type\":\"scatterpolargl\"}],\"scatterpolar\":[{\"marker\":{\"colorbar\":{\"outlinewidth\":0,\"ticks\":\"\"}},\"type\":\"scatterpolar\"}],\"scatter\":[{\"marker\":{\"colorbar\":{\"outlinewidth\":0,\"ticks\":\"\"}},\"type\":\"scatter\"}],\"scatterternary\":[{\"marker\":{\"colorbar\":{\"outlinewidth\":0,\"ticks\":\"\"}},\"type\":\"scatterternary\"}],\"surface\":[{\"colorbar\":{\"outlinewidth\":0,\"ticks\":\"\"},\"colorscale\":[[0.0,\"#0d0887\"],[0.1111111111111111,\"#46039f\"],[0.2222222222222222,\"#7201a8\"],[0.3333333333333333,\"#9c179e\"],[0.4444444444444444,\"#bd3786\"],[0.5555555555555556,\"#d8576b\"],[0.6666666666666666,\"#ed7953\"],[0.7777777777777778,\"#fb9f3a\"],[0.8888888888888888,\"#fdca26\"],[1.0,\"#f0f921\"]],\"type\":\"surface\"}],\"table\":[{\"cells\":{\"fill\":{\"color\":\"#EBF0F8\"},\"line\":{\"color\":\"white\"}},\"header\":{\"fill\":{\"color\":\"#C8D4E3\"},\"line\":{\"color\":\"white\"}},\"type\":\"table\"}]},\"layout\":{\"annotationdefaults\":{\"arrowcolor\":\"#2a3f5f\",\"arrowhead\":0,\"arrowwidth\":1},\"autotypenumbers\":\"strict\",\"coloraxis\":{\"colorbar\":{\"outlinewidth\":0,\"ticks\":\"\"}},\"colorscale\":{\"diverging\":[[0,\"#8e0152\"],[0.1,\"#c51b7d\"],[0.2,\"#de77ae\"],[0.3,\"#f1b6da\"],[0.4,\"#fde0ef\"],[0.5,\"#f7f7f7\"],[0.6,\"#e6f5d0\"],[0.7,\"#b8e186\"],[0.8,\"#7fbc41\"],[0.9,\"#4d9221\"],[1,\"#276419\"]],\"sequential\":[[0.0,\"#0d0887\"],[0.1111111111111111,\"#46039f\"],[0.2222222222222222,\"#7201a8\"],[0.3333333333333333,\"#9c179e\"],[0.4444444444444444,\"#bd3786\"],[0.5555555555555556,\"#d8576b\"],[0.6666666666666666,\"#ed7953\"],[0.7777777777777778,\"#fb9f3a\"],[0.8888888888888888,\"#fdca26\"],[1.0,\"#f0f921\"]],\"sequentialminus\":[[0.0,\"#0d0887\"],[0.1111111111111111,\"#46039f\"],[0.2222222222222222,\"#7201a8\"],[0.3333333333333333,\"#9c179e\"],[0.4444444444444444,\"#bd3786\"],[0.5555555555555556,\"#d8576b\"],[0.6666666666666666,\"#ed7953\"],[0.7777777777777778,\"#fb9f3a\"],[0.8888888888888888,\"#fdca26\"],[1.0,\"#f0f921\"]]},\"colorway\":[\"#636efa\",\"#EF553B\",\"#00cc96\",\"#ab63fa\",\"#FFA15A\",\"#19d3f3\",\"#FF6692\",\"#B6E880\",\"#FF97FF\",\"#FECB52\"],\"font\":{\"color\":\"#2a3f5f\"},\"geo\":{\"bgcolor\":\"white\",\"lakecolor\":\"white\",\"landcolor\":\"#E5ECF6\",\"showlakes\":true,\"showland\":true,\"subunitcolor\":\"white\"},\"hoverlabel\":{\"align\":\"left\"},\"hovermode\":\"closest\",\"mapbox\":{\"style\":\"light\"},\"paper_bgcolor\":\"white\",\"plot_bgcolor\":\"#E5ECF6\",\"polar\":{\"angularaxis\":{\"gridcolor\":\"white\",\"linecolor\":\"white\",\"ticks\":\"\"},\"bgcolor\":\"#E5ECF6\",\"radialaxis\":{\"gridcolor\":\"white\",\"linecolor\":\"white\",\"ticks\":\"\"}},\"scene\":{\"xaxis\":{\"backgroundcolor\":\"#E5ECF6\",\"gridcolor\":\"white\",\"gridwidth\":2,\"linecolor\":\"white\",\"showbackground\":true,\"ticks\":\"\",\"zerolinecolor\":\"white\"},\"yaxis\":{\"backgroundcolor\":\"#E5ECF6\",\"gridcolor\":\"white\",\"gridwidth\":2,\"linecolor\":\"white\",\"showbackground\":true,\"ticks\":\"\",\"zerolinecolor\":\"white\"},\"zaxis\":{\"backgroundcolor\":\"#E5ECF6\",\"gridcolor\":\"white\",\"gridwidth\":2,\"linecolor\":\"white\",\"showbackground\":true,\"ticks\":\"\",\"zerolinecolor\":\"white\"}},\"shapedefaults\":{\"line\":{\"color\":\"#2a3f5f\"}},\"ternary\":{\"aaxis\":{\"gridcolor\":\"white\",\"linecolor\":\"white\",\"ticks\":\"\"},\"baxis\":{\"gridcolor\":\"white\",\"linecolor\":\"white\",\"ticks\":\"\"},\"bgcolor\":\"#E5ECF6\",\"caxis\":{\"gridcolor\":\"white\",\"linecolor\":\"white\",\"ticks\":\"\"}},\"title\":{\"x\":0.05},\"xaxis\":{\"automargin\":true,\"gridcolor\":\"white\",\"linecolor\":\"white\",\"ticks\":\"\",\"title\":{\"standoff\":15},\"zerolinecolor\":\"white\",\"zerolinewidth\":2},\"yaxis\":{\"automargin\":true,\"gridcolor\":\"white\",\"linecolor\":\"white\",\"ticks\":\"\",\"title\":{\"standoff\":15},\"zerolinecolor\":\"white\",\"zerolinewidth\":2}}},\"title\":{\"text\":\"3D graph visualization of Mutag dataset  by : Ahmed\"},\"width\":1000},                        {\"responsive\": true}                    ).then(function(){\n",
       "                            \n",
       "var gd = document.getElementById('0657e414-5dc8-4809-b1a9-fdc781493a70');\n",
       "var x = new MutationObserver(function (mutations, observer) {{\n",
       "        var display = window.getComputedStyle(gd).display;\n",
       "        if (!display || display === 'none') {{\n",
       "            console.log([gd, 'removed!']);\n",
       "            Plotly.purge(gd);\n",
       "            observer.disconnect();\n",
       "        }}\n",
       "}});\n",
       "\n",
       "// Listen for the removal of the full notebook cells\n",
       "var notebookContainer = gd.closest('#notebook-container');\n",
       "if (notebookContainer) {{\n",
       "    x.observe(notebookContainer, {childList: true});\n",
       "}}\n",
       "\n",
       "// Listen for the clearing of the current output cell\n",
       "var outputEl = gd.closest('.output');\n",
       "if (outputEl) {{\n",
       "    x.observe(outputEl, {childList: true});\n",
       "}}\n",
       "\n",
       "                        })                };                });            </script>        </div>"
      ]
     },
     "metadata": {},
     "output_type": "display_data"
    }
   ],
   "source": [
    "import pandas as pd\n",
    "import numpy as np\n",
    "%matplotlib inline\n",
    "import plotly.graph_objs as go\n",
    "from  plotly.offline import plot\n",
    "import chart_studio.plotly as py\n",
    "import cufflinks as cf\n",
    "cf.go_offline()\n",
    "from plotly.offline import download_plotlyjs, init_notebook_mode, plot,iplot\n",
    "init_notebook_mode(connected='true')\n",
    "#Si en data no pongo trace1(que son los antiguos edges) no me los imprime y no es una chapuza\n",
    "data=[ trace2,trace3]\n",
    "fig=go.Figure(data=data, layout=layout)\n",
    "\n",
    "iplot(fig, filename='Les-Miserables')"
   ]
  },
  {
   "cell_type": "code",
   "execution_count": null,
   "metadata": {},
   "outputs": [],
   "source": []
  },
  {
   "cell_type": "code",
   "execution_count": null,
   "metadata": {},
   "outputs": [],
   "source": []
  },
  {
   "cell_type": "code",
   "execution_count": null,
   "metadata": {},
   "outputs": [],
   "source": []
  },
  {
   "cell_type": "code",
   "execution_count": null,
   "metadata": {},
   "outputs": [],
   "source": []
  },
  {
   "cell_type": "code",
   "execution_count": null,
   "metadata": {},
   "outputs": [],
   "source": []
  },
  {
   "cell_type": "code",
   "execution_count": null,
   "metadata": {},
   "outputs": [],
   "source": []
  },
  {
   "cell_type": "code",
   "execution_count": null,
   "metadata": {},
   "outputs": [],
   "source": []
  },
  {
   "cell_type": "code",
   "execution_count": null,
   "metadata": {},
   "outputs": [],
   "source": []
  },
  {
   "cell_type": "code",
   "execution_count": null,
   "metadata": {},
   "outputs": [],
   "source": []
  },
  {
   "cell_type": "code",
   "execution_count": null,
   "metadata": {},
   "outputs": [],
   "source": []
  },
  {
   "cell_type": "code",
   "execution_count": null,
   "metadata": {},
   "outputs": [],
   "source": []
  },
  {
   "cell_type": "code",
   "execution_count": null,
   "metadata": {},
   "outputs": [],
   "source": []
  },
  {
   "cell_type": "code",
   "execution_count": null,
   "metadata": {},
   "outputs": [],
   "source": []
  },
  {
   "cell_type": "markdown",
   "metadata": {},
   "source": [
    "## All graphs embedding"
   ]
  },
  {
   "cell_type": "code",
   "execution_count": null,
   "metadata": {},
   "outputs": [],
   "source": []
  },
  {
   "cell_type": "code",
   "execution_count": null,
   "metadata": {},
   "outputs": [],
   "source": []
  },
  {
   "cell_type": "code",
   "execution_count": null,
   "metadata": {},
   "outputs": [],
   "source": []
  },
  {
   "cell_type": "code",
   "execution_count": null,
   "metadata": {},
   "outputs": [],
   "source": []
  },
  {
   "cell_type": "code",
   "execution_count": null,
   "metadata": {},
   "outputs": [],
   "source": []
  },
  {
   "cell_type": "code",
   "execution_count": null,
   "metadata": {},
   "outputs": [],
   "source": []
  },
  {
   "cell_type": "markdown",
   "metadata": {},
   "source": [
    "# Embeddings GapNet Laplacian"
   ]
  },
  {
   "cell_type": "code",
   "execution_count": null,
   "metadata": {},
   "outputs": [],
   "source": [
    "test_loader =  DataLoader(dataset, batch_size=BATCH_SIZE, shuffle=True)"
   ]
  },
  {
   "cell_type": "code",
   "execution_count": null,
   "metadata": {},
   "outputs": [],
   "source": [
    "test_loader =  DataLoader(dataset, batch_size=BATCH_SIZE, shuffle=True)\n",
    "model =  GAPNet(dataset.num_features, dataset.num_classes, derivative=\"laplacian\",device=device)\n",
    "model.load_state_dict(torch.load(\"models/REDDIT-BINARY_GAPNet_laplacian_iter0.pth\", map_location=torch.device('cpu')))\n",
    "model.eval()"
   ]
  },
  {
   "cell_type": "code",
   "execution_count": null,
   "metadata": {},
   "outputs": [],
   "source": []
  },
  {
   "cell_type": "markdown",
   "metadata": {},
   "source": [
    "# Statistical data about the graph"
   ]
  },
  {
   "cell_type": "code",
   "execution_count": 9,
   "metadata": {
    "ExecuteTime": {
     "end_time": "2022-05-14T19:21:44.393432Z",
     "start_time": "2022-05-14T19:20:23.103031Z"
    }
   },
   "outputs": [
    {
     "data": {
      "application/vnd.jupyter.widget-view+json": {
       "model_id": "960254d4512c4afebb612246593be0f2",
       "version_major": 2,
       "version_minor": 0
      },
      "text/plain": [
       "Datasets:   0%|          | 0/2000 [00:00<?, ?it/s]"
      ]
     },
     "metadata": {},
     "output_type": "display_data"
    }
   ],
   "source": [
    "import networkx as nx\n",
    "from torch_geometric import utils\n",
    "import numpy as np\n",
    "from tqdm.notebook import tqdm\n",
    "\n",
    "\n",
    "nxdata = {\n",
    "    'Assortativity':np.empty(len(dataset)),\n",
    "    'Triangles':np.empty(len(dataset)),\n",
    "    'Transitivity':np.empty(len(dataset)),\n",
    "    'Clustering':np.empty(len(dataset))\n",
    "}\n",
    "for i, graph in enumerate(tqdm(dataset, desc='Datasets')):\n",
    "    G = utils.to_networkx(graph, to_undirected=True)\n",
    "    nxdata['Assortativity'][i] = nx.degree_assortativity_coefficient(G)\n",
    "    nxdata['Triangles'][i] = np.sum(list(nx.triangles(G).values()))/3\n",
    "    nxdata['Transitivity'][i] = nx.transitivity(G)\n",
    "    nxdata['Clustering'][i] = nx.average_clustering(G)\n"
   ]
  },
  {
   "cell_type": "code",
   "execution_count": 13,
   "metadata": {
    "ExecuteTime": {
     "end_time": "2022-05-14T19:22:15.943581Z",
     "start_time": "2022-05-14T19:22:15.824897Z"
    }
   },
   "outputs": [
    {
     "name": "stdout",
     "output_type": "stream",
     "text": [
      "Assortativity: -0.3635 +- 0.1747\n",
      "Triangles: 24.8350 +- 41.9040\n",
      "Transitivity: 0.0097 +- 0.0156\n",
      "Clustering: 0.0476 +- 0.0639\n"
     ]
    }
   ],
   "source": [
    "for k in nxdata:\n",
    "    print(f\"{k}: {nxdata[k].mean():.4f} +- {nxdata[k].std():.4f}\")"
   ]
  },
  {
   "cell_type": "code",
   "execution_count": null,
   "metadata": {
    "ExecuteTime": {
     "end_time": "2022-05-14T19:12:53.435551Z",
     "start_time": "2022-05-14T19:12:53.310028Z"
    }
   },
   "outputs": [],
   "source": []
  },
  {
   "cell_type": "code",
   "execution_count": null,
   "metadata": {},
   "outputs": [],
   "source": []
  },
  {
   "cell_type": "code",
   "execution_count": null,
   "metadata": {},
   "outputs": [],
   "source": []
  },
  {
   "cell_type": "markdown",
   "metadata": {},
   "source": [
    "# Stratify"
   ]
  },
  {
   "cell_type": "code",
   "execution_count": null,
   "metadata": {},
   "outputs": [],
   "source": [
    "from sklearn.model_selection import train_test_split\n",
    "\n",
    "def class_distrib(dataset):\n",
    "    d = dict()\n",
    "    for data in dataset:\n",
    "        d[int(data.y.numpy())] = d.get(int(data.y.numpy()),0) + 1\n",
    "    return d\n",
    "\n",
    "def batch_class_distrib(batch):\n",
    "    d = dict()\n",
    "    for label in batch.y:\n",
    "        d[int(label.numpy())] = d.get(int(label.numpy()),0) + 1\n",
    "    return d\n",
    "\n",
    "len(dataset.data.y)"
   ]
  },
  {
   "cell_type": "code",
   "execution_count": null,
   "metadata": {},
   "outputs": [],
   "source": [
    "train_indices, val_indices = train_test_split(list(range(len(dataset.data.y))), test_size=0.2, stratify=dataset.data.y)\n",
    "train_dataset = torch.utils.data.Subset(dataset, train_indices)\n",
    "val_dataset = torch.utils.data.Subset(dataset, val_indices)"
   ]
  },
  {
   "cell_type": "code",
   "execution_count": null,
   "metadata": {},
   "outputs": [],
   "source": [
    "class_distrib(dataset), class_distrib(train_dataset), class_distrib(val_dataset)"
   ]
  },
  {
   "cell_type": "markdown",
   "metadata": {},
   "source": [
    "**Optional**"
   ]
  },
  {
   "cell_type": "code",
   "execution_count": null,
   "metadata": {},
   "outputs": [],
   "source": [
    "from torch.utils.data import SequentialSampler"
   ]
  },
  {
   "cell_type": "code",
   "execution_count": null,
   "metadata": {},
   "outputs": [],
   "source": [
    "class StratifiedSampler():\n",
    "    \"\"\"Stratified Sampling\n",
    "    Provides equal representation of target classes in each batch\n",
    "    \"\"\"\n",
    "    def __init__(self, class_vector, batch_size):\n",
    "        \"\"\"\n",
    "        Arguments\n",
    "        ---------\n",
    "        class_vector : torch tensor\n",
    "            a vector of class labels\n",
    "        batch_size : integer\n",
    "            batch_size\n",
    "        \"\"\"\n",
    "        self.n_splits = int(class_vector.size(0) / batch_size)\n",
    "        self.class_vector = class_vector\n",
    "\n",
    "    def gen_sample_array(self):\n",
    "        try:\n",
    "            from sklearn.model_selection import StratifiedShuffleSplit\n",
    "        except:\n",
    "            print('Need scikit-learn for this functionality')\n",
    "        import numpy as np\n",
    "        \n",
    "        s = StratifiedShuffleSplit(n_splits=self.n_splits, test_size=0.5)\n",
    "        X = torch.randn(self.class_vector.size(0),2).numpy()\n",
    "        y = self.class_vector.numpy()\n",
    "        s.get_n_splits(X, y)\n",
    "\n",
    "        train_index, test_index = next(s.split(X, y))\n",
    "        return np.hstack([train_index, test_index])\n",
    "\n",
    "    def __iter__(self):\n",
    "        return iter(self.gen_sample_array())\n",
    "\n",
    "    def __len__(self):\n",
    "        return len(self.class_vector)"
   ]
  },
  {
   "cell_type": "code",
   "execution_count": null,
   "metadata": {},
   "outputs": [],
   "source": [
    "sampler = StratifiedSampler(class_vector=dataset.data.y, batch_size=BATCH_SIZE)\n"
   ]
  },
  {
   "cell_type": "code",
   "execution_count": null,
   "metadata": {},
   "outputs": [],
   "source": [
    "loader = DataLoader(dataset, batch_size=2, #train_dataset\n",
    "                        shuffle=False, sampler=sampler)"
   ]
  },
  {
   "cell_type": "code",
   "execution_count": null,
   "metadata": {},
   "outputs": [],
   "source": []
  },
  {
   "cell_type": "code",
   "execution_count": null,
   "metadata": {},
   "outputs": [],
   "source": []
  },
  {
   "cell_type": "markdown",
   "metadata": {},
   "source": [
    "## DIGL"
   ]
  },
  {
   "cell_type": "code",
   "execution_count": null,
   "metadata": {
    "ExecuteTime": {
     "end_time": "2022-05-14T18:12:02.682227Z",
     "start_time": "2022-05-14T18:12:02.536567Z"
    }
   },
   "outputs": [],
   "source": [
    "import scipy.sparse as sp\n",
    "from torch_geometric.utils.convert import to_scipy_sparse_matrix, from_scipy_sparse_matrix\n",
    "from torch_geometric.utils import dense_to_sparse"
   ]
  },
  {
   "cell_type": "code",
   "execution_count": null,
   "metadata": {
    "ExecuteTime": {
     "end_time": "2022-05-14T18:18:42.165793Z",
     "start_time": "2022-05-14T18:18:42.038135Z"
    }
   },
   "outputs": [],
   "source": [
    "from torch_geometric.transforms import BaseTransform\n",
    "\n",
    "class DIGLedges(BaseTransform):\n",
    "    def __init__(self, alpha:float, eps:float, use_edge_weigths = False):\n",
    "        self.alpha = alpha\n",
    "        self.eps = eps\n",
    "        self.use_edge_weigths = use_edge_weigths\n",
    "\n",
    "    def __call__(self, data):\n",
    "        new_edges, new_weights = self.digl_edges(data.edge_index, self.alpha, self.eps)\n",
    "        data.edge_index = new_edges\n",
    "        \n",
    "        if self.use_edge_weigths:\n",
    "            data.edge_weight = new_weights\n",
    "            \n",
    "        return data\n",
    "    \n",
    "    \n",
    "    def gdc(self, A: sp.csr_matrix, alpha: float, eps: float):\n",
    "        N = A.shape[0]\n",
    "\n",
    "        # Self-loops\n",
    "        A_loop = sp.eye(N) + A\n",
    "\n",
    "        # Symmetric transition matrix\n",
    "        D_loop_vec = A_loop.sum(0).A1\n",
    "        D_loop_vec_invsqrt = 1 / np.sqrt(D_loop_vec)\n",
    "        D_loop_invsqrt = sp.diags(D_loop_vec_invsqrt)\n",
    "        T_sym = D_loop_invsqrt @ A_loop @ D_loop_invsqrt\n",
    "\n",
    "        # PPR-based diffusion\n",
    "        S = alpha * sp.linalg.inv(sp.eye(N) - (1 - alpha) * T_sym)\n",
    "\n",
    "        # Sparsify using threshold epsilon\n",
    "        S_tilde = S.multiply(S >= eps)\n",
    "\n",
    "        # Column-normalized transition matrix on graph S_tilde\n",
    "        D_tilde_vec = S_tilde.sum(0).A1\n",
    "        T_S = S_tilde / D_tilde_vec\n",
    "\n",
    "        return T_S\n",
    "\n",
    "    def digl_edges(self, edges, alpha, eps):\n",
    "        A0 = sp.csr_matrix(to_scipy_sparse_matrix(edges))\n",
    "        new_sp_matrix = sp.csr_matrix(gdc(A0, self.alpha, self.eps))\n",
    "        new_edge_index, weights = from_scipy_sparse_matrix(new_sp_matrix)\n",
    "        return new_edge_index, weights\n",
    "    \n",
    "    \n",
    "    def __repr__(self) -> str:\n",
    "        return f'{self.__class__.__name__}({self.alpha})'\n",
    "    \n",
    "    "
   ]
  },
  {
   "cell_type": "code",
   "execution_count": null,
   "metadata": {
    "ExecuteTime": {
     "end_time": "2022-05-14T18:18:42.869923Z",
     "start_time": "2022-05-14T18:18:42.731283Z"
    }
   },
   "outputs": [],
   "source": [
    "digl_data = TUDataset(root='data/digl/TUDataset',name='MUTAG', transform=DIGLedges(0.5, 0.02))"
   ]
  },
  {
   "cell_type": "code",
   "execution_count": null,
   "metadata": {
    "ExecuteTime": {
     "end_time": "2022-05-14T18:18:43.652147Z",
     "start_time": "2022-05-14T18:18:43.498242Z"
    }
   },
   "outputs": [],
   "source": [
    "digl_data[0].edge_index"
   ]
  },
  {
   "cell_type": "code",
   "execution_count": null,
   "metadata": {
    "ExecuteTime": {
     "end_time": "2022-05-14T18:18:44.416107Z",
     "start_time": "2022-05-14T18:18:44.278474Z"
    }
   },
   "outputs": [],
   "source": [
    "dataset[0].edge_index"
   ]
  },
  {
   "cell_type": "code",
   "execution_count": null,
   "metadata": {
    "ExecuteTime": {
     "end_time": "2022-05-14T18:18:45.153513Z",
     "start_time": "2022-05-14T18:18:45.015504Z"
    }
   },
   "outputs": [],
   "source": [
    "digl_data = TUDataset(root='data/digl/TUDataset',name='MUTAG')"
   ]
  },
  {
   "cell_type": "code",
   "execution_count": null,
   "metadata": {
    "ExecuteTime": {
     "end_time": "2022-05-14T18:18:45.859995Z",
     "start_time": "2022-05-14T18:18:45.737110Z"
    }
   },
   "outputs": [],
   "source": [
    "digl_data[0].edge_index"
   ]
  },
  {
   "cell_type": "code",
   "execution_count": null,
   "metadata": {},
   "outputs": [],
   "source": []
  }
 ],
 "metadata": {
  "interpreter": {
   "hash": "0f24d556599f9bcb6882e345745e2df8a56c1b9eae44969deb7bb16a44466b46"
  },
  "kernelspec": {
   "display_name": "Python 3 (ipykernel)",
   "language": "python",
   "name": "python3"
  },
  "language_info": {
   "codemirror_mode": {
    "name": "ipython",
    "version": 3
   },
   "file_extension": ".py",
   "mimetype": "text/x-python",
   "name": "python",
   "nbconvert_exporter": "python",
   "pygments_lexer": "ipython3",
   "version": "3.8.13"
  },
  "toc": {
   "base_numbering": 1,
   "nav_menu": {},
   "number_sections": true,
   "sideBar": true,
   "skip_h1_title": true,
   "title_cell": "Table of Contents",
   "title_sidebar": "Table of Contents",
   "toc_cell": true,
   "toc_position": {},
   "toc_section_display": true,
   "toc_window_display": false
  },
  "varInspector": {
   "cols": {
    "lenName": 16,
    "lenType": 16,
    "lenVar": 40
   },
   "kernels_config": {
    "python": {
     "delete_cmd_postfix": "",
     "delete_cmd_prefix": "del ",
     "library": "var_list.py",
     "varRefreshCmd": "print(var_dic_list())"
    },
    "r": {
     "delete_cmd_postfix": ") ",
     "delete_cmd_prefix": "rm(",
     "library": "var_list.r",
     "varRefreshCmd": "cat(var_dic_list()) "
    }
   },
   "types_to_exclude": [
    "module",
    "function",
    "builtin_function_or_method",
    "instance",
    "_Feature"
   ],
   "window_display": false
  }
 },
 "nbformat": 4,
 "nbformat_minor": 2
}
