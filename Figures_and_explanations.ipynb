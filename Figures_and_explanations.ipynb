{
 "cells": [
  {
   "cell_type": "markdown",
   "metadata": {
    "toc": true
   },
   "source": [
    "<h1>Table of Contents<span class=\"tocSkip\"></span></h1>\n",
    "<div class=\"toc\"><ul class=\"toc-item\"><li><span><a href=\"#Import-dataset\" data-toc-modified-id=\"Import-dataset-1\"><span class=\"toc-item-num\">1&nbsp;&nbsp;</span>Import dataset</a></span></li><li><span><a href=\"#Embeddings-CTNet\" data-toc-modified-id=\"Embeddings-CTNet-2\"><span class=\"toc-item-num\">2&nbsp;&nbsp;</span>Embeddings CTNet</a></span></li><li><span><a href=\"#Modificar-modelo-para-sacar-cosas\" data-toc-modified-id=\"Modificar-modelo-para-sacar-cosas-3\"><span class=\"toc-item-num\">3&nbsp;&nbsp;</span>Modificar modelo para sacar cosas</a></span></li><li><span><a href=\"#One-graph-embedding\" data-toc-modified-id=\"One-graph-embedding-4\"><span class=\"toc-item-num\">4&nbsp;&nbsp;</span>One graph embedding</a></span></li><li><span><a href=\"#All-graphs-embedding\" data-toc-modified-id=\"All-graphs-embedding-5\"><span class=\"toc-item-num\">5&nbsp;&nbsp;</span>All graphs embedding</a></span></li><li><span><a href=\"#DIGL\" data-toc-modified-id=\"DIGL-6\"><span class=\"toc-item-num\">6&nbsp;&nbsp;</span>DIGL</a></span></li></ul></div>"
   ]
  },
  {
   "cell_type": "markdown",
   "metadata": {},
   "source": [
    "Para CTNet, MinCutNet, GapNet and DIGL (4 figuras de cada task): \n",
    "- [ ] Embeddings de un grafo solo *conv2* -> dispersión\n",
    "    * Seleccionar grafo que tenga buen accuracy y cambie más la predicción respecto a baseline\n",
    "    * Train vs test\n",
    "- [X] Embeddings de to los grafos (después del readout) pa plotearlo todos juntos y que se vea la separación entre clases\n",
    "    * Train vs test\n",
    "- [ ] Grafo con ejes con peso CT matrix en CTNet\n",
    "    * Seleccionar grafo que tenga buen accuracy y cambie más la predicción respecto a baseline\n",
    "    * Train vs test\n",
    "- [ ] Grafo con ejes adjacency modificada en GapNet\n",
    "    * Seleccionar grafo que tenga buen accuracy y cambie más la predicción respecto a baseline\n",
    "    * Train vs test\n",
    "- [X] Datos sobre grafos"
   ]
  },
  {
   "cell_type": "code",
   "execution_count": 1,
   "metadata": {
    "ExecuteTime": {
     "end_time": "2022-05-15T10:36:11.424713Z",
     "start_time": "2022-05-15T10:36:11.368852Z"
    }
   },
   "outputs": [],
   "source": [
    "%load_ext autoreload\n",
    "%autoreload 2"
   ]
  },
  {
   "cell_type": "code",
   "execution_count": 2,
   "metadata": {
    "ExecuteTime": {
     "end_time": "2022-05-15T10:36:14.439109Z",
     "start_time": "2022-05-15T10:36:11.427670Z"
    }
   },
   "outputs": [],
   "source": [
    "import torch\n",
    "from nets import CTNet, GAPNet\n",
    "\n",
    "import torch.nn.functional as F\n",
    "from torch_geometric.loader import DataLoader\n",
    "from transform_features import FeatureDegree\n",
    "from torch_geometric.datasets import TUDataset\n",
    "\n",
    "import torch.nn as nn\n",
    "import warnings\n",
    "warnings.filterwarnings('ignore')"
   ]
  },
  {
   "cell_type": "code",
   "execution_count": 3,
   "metadata": {
    "ExecuteTime": {
     "end_time": "2022-05-15T10:36:14.579733Z",
     "start_time": "2022-05-15T10:36:14.440106Z"
    }
   },
   "outputs": [
    {
     "data": {
      "text/plain": [
       "device(type='cuda')"
      ]
     },
     "execution_count": 3,
     "metadata": {},
     "output_type": "execute_result"
    }
   ],
   "source": [
    "device = torch.device('cuda' if torch.cuda.is_available() else 'cpu')\n",
    "device"
   ]
  },
  {
   "cell_type": "code",
   "execution_count": 4,
   "metadata": {
    "ExecuteTime": {
     "end_time": "2022-05-15T10:36:14.718364Z",
     "start_time": "2022-05-15T10:36:14.582724Z"
    }
   },
   "outputs": [],
   "source": [
    "@torch.no_grad()\n",
    "def test(modelo, loader, device):\n",
    "    modelo.eval()\n",
    "    correct = 0\n",
    "    for data in loader:\n",
    "        data = data.to(device)\n",
    "        pred, mc_loss, o_loss = modelo(data.x, data.edge_index, data.batch)\n",
    "        loss = F.nll_loss(pred, data.y.view(-1)) + mc_loss + o_loss\n",
    "        correct += pred.max(dim=1)[1].eq(data.y.view(-1)).sum().item()\n",
    "\n",
    "    return loss, correct / len(loader.dataset)\n"
   ]
  },
  {
   "cell_type": "markdown",
   "metadata": {},
   "source": [
    "## Import dataset"
   ]
  },
  {
   "cell_type": "code",
   "execution_count": 57,
   "metadata": {
    "ExecuteTime": {
     "end_time": "2022-05-15T10:51:20.522931Z",
     "start_time": "2022-05-15T10:51:20.395095Z"
    }
   },
   "outputs": [
    {
     "data": {
      "text/plain": [
       "'dataset = TUDataset(root=\\'data_colab/TUDataset\\',name=\"MUTAG\")\\nBATCH_SIZE = 32\\nnum_of_centers = 17'"
      ]
     },
     "execution_count": 57,
     "metadata": {},
     "output_type": "execute_result"
    }
   ],
   "source": [
    "dataset = TUDataset(root='data_colab/TUDataset',name=\"REDDIT-BINARY\", pre_transform=FeatureDegree(), use_node_attr=True)\n",
    "BATCH_SIZE = 16\n",
    "num_of_centers = 420\n",
    "\n",
    "\"\"\"dataset = TUDataset(root='data_colab/TUDataset',name=\"MUTAG\")\n",
    "BATCH_SIZE = 32\n",
    "num_of_centers = 17\"\"\""
   ]
  },
  {
   "cell_type": "code",
   "execution_count": 58,
   "metadata": {
    "ExecuteTime": {
     "end_time": "2022-05-15T10:51:22.813232Z",
     "start_time": "2022-05-15T10:51:22.659268Z"
    }
   },
   "outputs": [
    {
     "name": "stdout",
     "output_type": "stream",
     "text": [
      "Dataset: REDDIT-BINARY(2000):\n",
      "====================\n",
      "Number of graphs: 2000\n",
      "Number of features: 1, 1, 1\n",
      "Number of classes: 2\n",
      "\n",
      "Data(edge_index=[2, 480], y=[1], x=[218, 1], num_nodes=218)\n",
      "=============================================================\n",
      "Number of nodes: 218\n",
      "Number of edges: 480\n",
      "Average node degree: 2.20\n",
      "Has isolated nodes: False\n",
      "Has self-loops: False\n",
      "Is undirected: True\n",
      "REDDIT-BINARY(2000)\n"
     ]
    }
   ],
   "source": [
    "print(f'Dataset: {dataset}:')\n",
    "print('====================')\n",
    "print(f'Number of graphs: {len(dataset)}')\n",
    "print(f'Number of features: {dataset.num_features}, {dataset.num_node_features}, {dataset.num_node_attributes}')\n",
    "print(f'Number of classes: {dataset.num_classes}')\n",
    "\n",
    "print()\n",
    "datum = dataset[0]  # Get the first graph object.\n",
    "print(datum)\n",
    "print('=============================================================')\n",
    "# Gather some statistics about the first graph.\n",
    "print(f'Number of nodes: {datum.num_nodes}')\n",
    "print(f'Number of edges: {datum.num_edges}')\n",
    "print(f'Average node degree: {datum.num_edges / datum.num_nodes:.2f}')\n",
    "print(f'Has isolated nodes: {datum.has_isolated_nodes()}')\n",
    "print(f'Has self-loops: {datum.has_self_loops()}')\n",
    "print(f'Is undirected: {datum.is_undirected()}')\n",
    "\n",
    "\n",
    "print(dataset)"
   ]
  },
  {
   "cell_type": "code",
   "execution_count": 59,
   "metadata": {
    "ExecuteTime": {
     "end_time": "2022-05-15T10:51:25.199862Z",
     "start_time": "2022-05-15T10:51:25.041281Z"
    }
   },
   "outputs": [],
   "source": [
    "loader =  DataLoader(dataset, batch_size=BATCH_SIZE, shuffle=True)"
   ]
  },
  {
   "cell_type": "code",
   "execution_count": null,
   "metadata": {},
   "outputs": [],
   "source": []
  },
  {
   "cell_type": "code",
   "execution_count": null,
   "metadata": {
    "ExecuteTime": {
     "end_time": "2022-05-14T18:20:43.205955Z",
     "start_time": "2022-05-14T18:20:42.569579Z"
    }
   },
   "outputs": [],
   "source": []
  },
  {
   "cell_type": "markdown",
   "metadata": {},
   "source": [
    "## Embeddings CTNet"
   ]
  },
  {
   "cell_type": "markdown",
   "metadata": {},
   "source": [
    "**Probar modelo guardaddo**"
   ]
  },
  {
   "cell_type": "code",
   "execution_count": 60,
   "metadata": {
    "ExecuteTime": {
     "end_time": "2022-05-15T10:51:27.484546Z",
     "start_time": "2022-05-15T10:51:27.332045Z"
    }
   },
   "outputs": [],
   "source": [
    "if dataset.name=='REDDIT-BINARY':\n",
    "    modelito = \"models/REDDIT-BINARY_CTNet_iter0.pth\"\n",
    "elif dataset.name=='MUTAG':\n",
    "    modelito = \"models/MUTAG_CTNet_iter0.pth\"\n",
    "else:\n",
    "    raise Exception('No model for that dataset')"
   ]
  },
  {
   "cell_type": "code",
   "execution_count": null,
   "metadata": {
    "ExecuteTime": {
     "end_time": "2022-05-14T18:20:46.339549Z",
     "start_time": "2022-05-14T18:20:46.230815Z"
    }
   },
   "outputs": [],
   "source": []
  },
  {
   "cell_type": "code",
   "execution_count": 61,
   "metadata": {
    "ExecuteTime": {
     "end_time": "2022-05-15T10:51:29.945980Z",
     "start_time": "2022-05-15T10:51:29.780423Z"
    }
   },
   "outputs": [
    {
     "data": {
      "text/plain": [
       "CTNet(\n",
       "  (conv1): DenseGraphConv(32, 32)\n",
       "  (conv2): DenseGraphConv(32, 32)\n",
       "  (pool1): Linear(in_features=32, out_features=420, bias=True)\n",
       "  (pool2): Linear(in_features=32, out_features=16, bias=True)\n",
       "  (lin1): Linear(in_features=1, out_features=32, bias=True)\n",
       "  (lin2): Linear(in_features=32, out_features=32, bias=True)\n",
       "  (lin3): Linear(in_features=32, out_features=2, bias=True)\n",
       ")"
      ]
     },
     "execution_count": 61,
     "metadata": {},
     "output_type": "execute_result"
    }
   ],
   "source": [
    "#Epoch: 059, Train Loss: 165.455, Train Acc: 0.711, Test Loss: 150.841, Test Acc: 0.750\n",
    "model =  CTNet(dataset.num_features, dataset.num_classes, k_centers=num_of_centers).to(device)\n",
    "model.load_state_dict(torch.load(modelito, map_location=torch.device(device)))\n",
    "model.eval()"
   ]
  },
  {
   "cell_type": "code",
   "execution_count": 62,
   "metadata": {
    "ExecuteTime": {
     "end_time": "2022-05-15T10:51:47.465215Z",
     "start_time": "2022-05-15T10:51:32.085675Z"
    }
   },
   "outputs": [],
   "source": [
    "loss, acc = test(model, loader, device)"
   ]
  },
  {
   "cell_type": "code",
   "execution_count": 63,
   "metadata": {
    "ExecuteTime": {
     "end_time": "2022-05-15T10:51:50.259855Z",
     "start_time": "2022-05-15T10:51:50.060383Z"
    }
   },
   "outputs": [
    {
     "data": {
      "text/plain": [
       "(tensor(83.8974, device='cuda:0'), 0.713)"
      ]
     },
     "execution_count": 63,
     "metadata": {},
     "output_type": "execute_result"
    }
   ],
   "source": [
    "loss, acc"
   ]
  },
  {
   "cell_type": "code",
   "execution_count": null,
   "metadata": {},
   "outputs": [],
   "source": []
  },
  {
   "cell_type": "code",
   "execution_count": null,
   "metadata": {},
   "outputs": [],
   "source": []
  },
  {
   "cell_type": "code",
   "execution_count": null,
   "metadata": {},
   "outputs": [],
   "source": []
  },
  {
   "cell_type": "markdown",
   "metadata": {},
   "source": [
    "## Modificar modelo para sacar cosas"
   ]
  },
  {
   "cell_type": "code",
   "execution_count": 64,
   "metadata": {
    "ExecuteTime": {
     "end_time": "2022-05-15T10:52:23.501981Z",
     "start_time": "2022-05-15T10:52:23.388250Z"
    }
   },
   "outputs": [],
   "source": [
    "import torch.nn.functional as F\n",
    "from torch.nn import Linear\n",
    "from torch_geometric.nn import DenseGraphConv\n",
    "from torch_geometric.utils import to_dense_batch, to_dense_adj\n",
    "from CT_layer import dense_CT_rewiring\n",
    "from MinCut_Layer import dense_mincut_pool"
   ]
  },
  {
   "cell_type": "markdown",
   "metadata": {},
   "source": [
    "**Modelo y Test modificado que coja los embeddings**"
   ]
  },
  {
   "cell_type": "code",
   "execution_count": 65,
   "metadata": {
    "ExecuteTime": {
     "end_time": "2022-05-15T10:52:25.938660Z",
     "start_time": "2022-05-15T10:52:25.772102Z"
    }
   },
   "outputs": [],
   "source": [
    "class CTNet_embedding(torch.nn.Module):\n",
    "    def __init__(self, in_channels, out_channels, k_centers, hidden_channels=32):\n",
    "        super(CTNet_embedding, self).__init__()\n",
    "    \n",
    "        self.lin1 = Linear(in_channels, hidden_channels)\n",
    "        num_of_centers1 =  k_centers # k1 #order of number of nodes\n",
    "        self.pool1 = Linear(hidden_channels, num_of_centers1)\n",
    "        #self.CT = CTLayer()\n",
    "        self.conv1 = DenseGraphConv(hidden_channels, hidden_channels)\n",
    "        num_of_centers2 =  16 # k2 #mincut \n",
    "        self.pool2 = Linear(hidden_channels, num_of_centers2)\n",
    "        #self.MinCut = MinCutLayer()\n",
    "        self.conv2 = DenseGraphConv(hidden_channels, hidden_channels)\n",
    "        self.lin2 = Linear(hidden_channels, hidden_channels) # MLPs towards out \n",
    "        self.lin3 = Linear(hidden_channels, out_channels)\n",
    "        \n",
    "        self.readout = torch.zeros(0)#Creamos la variable que recoge nuestros embedings\n",
    "\n",
    "    def forward(self, x, edge_index, batch):    # x torch.Size([N, N]),  data.batch  torch.Size([661])  \n",
    "        # Make all adjacencies of size NxN \n",
    "        adj = to_dense_adj(edge_index, batch) # adj torch.Size(B, N, N])\n",
    "        # Make all x_i of size N=MAX(N1,...,N20), e.g. N=40:\n",
    "        x, mask = to_dense_batch(x, batch) # x torch.Size([20, N, 32]) ; mask torch.Size([20, N]) batch_size=20\n",
    "\n",
    "        x = self.lin1(x)\n",
    "        # First mincut pool for computing Fiedler adn rewire \n",
    "        s1  = self.pool1(x)\n",
    "\n",
    "        if torch.isnan(adj).any():\n",
    "            print(\"adj nan\")\n",
    "        if torch.isnan(x).any():\n",
    "            print(\"x nan\")\n",
    "        \n",
    "        # CT REWIRING\n",
    "        adj, CT_loss, ortho_loss1 = dense_CT_rewiring(x, adj, s1, mask) # out: x torch.Size([20, N, F'=32]),  adj torch.Size([20, N, N])\n",
    "\n",
    "        # CONV1: Now on x and rewired adj: \n",
    "        x = self.conv1(x, adj) #out: x torch.Size([20, N, F'=32])\n",
    "\n",
    "        # MLP of k=16 outputs s\n",
    "        s2 = self.pool2(x) # s torch.Size([20, N, k])\n",
    "        \n",
    "        # MINCUT_POOL\n",
    "        x, adj, mincut_loss2, ortho_loss2 = dense_mincut_pool(x, adj, s2, mask) # out x torch.Size([20, k=16, F'=32]),  adj torch.Size([20, k2=16, k2=16])\n",
    "\n",
    "        # CONV2: Now on coarsened x and adj: \n",
    "        x = self.conv2(x, adj) #out x torch.Size([20, 16, 32])\n",
    "        \n",
    "        # Readout for each of the 20 graphs\n",
    "        x = x.sum(dim=1) # x torch.Size([20, 32])\n",
    "        \n",
    "        #Queremos esta x, por lo que nos la guardamos\n",
    "        self.readout = x.clone()\n",
    "        \n",
    "        # Final MLP for graph classification: hidden channels = 32\n",
    "        x = F.relu(self.lin2(x)) # x torch.Size([20, 32])\n",
    "        x = self.lin3(x) #x torch.Size([20, 2])\n",
    "        #print(x.shape)\n",
    "        \n",
    "        CT_loss = CT_loss + ortho_loss1\n",
    "        mincut_loss = mincut_loss2 + ortho_loss2\n",
    "        return F.log_softmax(x, dim=-1), CT_loss, mincut_loss\n"
   ]
  },
  {
   "cell_type": "code",
   "execution_count": 66,
   "metadata": {
    "ExecuteTime": {
     "end_time": "2022-05-15T10:52:28.272771Z",
     "start_time": "2022-05-15T10:52:28.102886Z"
    }
   },
   "outputs": [
    {
     "data": {
      "text/plain": [
       "CTNet_embedding(\n",
       "  (lin1): Linear(in_features=1, out_features=32, bias=True)\n",
       "  (pool1): Linear(in_features=32, out_features=420, bias=True)\n",
       "  (conv1): DenseGraphConv(32, 32)\n",
       "  (pool2): Linear(in_features=32, out_features=16, bias=True)\n",
       "  (conv2): DenseGraphConv(32, 32)\n",
       "  (lin2): Linear(in_features=32, out_features=32, bias=True)\n",
       "  (lin3): Linear(in_features=32, out_features=2, bias=True)\n",
       ")"
      ]
     },
     "execution_count": 66,
     "metadata": {},
     "output_type": "execute_result"
    }
   ],
   "source": [
    "model =  CTNet_embedding(dataset.num_features, dataset.num_classes, k_centers=num_of_centers).to(device)\n",
    "model.load_state_dict(torch.load(modelito, map_location=torch.device(device)))\n",
    "model.eval()"
   ]
  },
  {
   "cell_type": "code",
   "execution_count": 67,
   "metadata": {
    "ExecuteTime": {
     "end_time": "2022-05-15T10:52:30.664390Z",
     "start_time": "2022-05-15T10:52:30.499830Z"
    }
   },
   "outputs": [],
   "source": [
    "@torch.no_grad()\n",
    "def test_embedd(modelo, loader, device):\n",
    "    test_predictions = []\n",
    "    test_labels = []\n",
    "    modelo.eval()\n",
    "    correct = 0\n",
    "    for i,data in enumerate(loader):\n",
    "        data = data.to(device)\n",
    "        pred, mc_loss, o_loss = modelo(data.x, data.edge_index, data.batch)\n",
    "        loss = F.nll_loss(pred, data.y.view(-1)) + mc_loss + o_loss\n",
    "        \n",
    "        correct += pred.max(dim=1)[1].eq(data.y.view(-1)).sum().item()\n",
    "        test_predictions.extend(pred.max(dim=1)[1].tolist())\n",
    "        test_labels.extend(data.y.detach().cpu().numpy())\n",
    "        \n",
    "        if i == 0:\n",
    "            test_embeddings = modelo.readout\n",
    "        else:\n",
    "            test_embeddings = torch.cat((test_embeddings,modelo.readout.detach()), 0)\n",
    "        \n",
    "        #print(modelo.emb.shape)\n",
    "    return loss.detach().cpu(), correct / len(loader.dataset), test_embeddings, test_labels, test_predictions"
   ]
  },
  {
   "cell_type": "markdown",
   "metadata": {},
   "source": [
    "**Evaluar modelo para chequear comportamiento**"
   ]
  },
  {
   "cell_type": "code",
   "execution_count": null,
   "metadata": {
    "ExecuteTime": {
     "end_time": "2022-05-15T10:53:16.070950Z",
     "start_time": "2022-05-15T10:53:00.454710Z"
    }
   },
   "outputs": [],
   "source": [
    "import numpy as np\n",
    "loss, acc, test_embeddings, test_labels, test_predictions = test_embedd(model, loader, device)\n",
    "test_embeddings = test_embeddings.detach().cpu()\n",
    "print('Embedding shape:',test_embeddings.shape, test_embeddings.device)\n",
    "print('Dataset size:',len(test_predictions))"
   ]
  },
  {
   "cell_type": "code",
   "execution_count": 70,
   "metadata": {
    "ExecuteTime": {
     "end_time": "2022-05-15T10:53:39.418510Z",
     "start_time": "2022-05-15T10:53:39.291405Z"
    }
   },
   "outputs": [
    {
     "name": "stdout",
     "output_type": "stream",
     "text": [
      "Embedding shape: torch.Size([2000, 32]) cpu\n",
      "Dataset size: 2000\n"
     ]
    }
   ],
   "source": [
    "print('Embedding shape:',test_embeddings.shape, test_embeddings.device)\n",
    "print('Dataset size:',len(test_predictions))"
   ]
  },
  {
   "cell_type": "code",
   "execution_count": 71,
   "metadata": {
    "ExecuteTime": {
     "end_time": "2022-05-15T10:53:43.847207Z",
     "start_time": "2022-05-15T10:53:43.729557Z"
    }
   },
   "outputs": [
    {
     "data": {
      "text/plain": [
       "(tensor(84.5716), 0.7095)"
      ]
     },
     "execution_count": 71,
     "metadata": {},
     "output_type": "execute_result"
    }
   ],
   "source": [
    "loss, acc"
   ]
  },
  {
   "cell_type": "markdown",
   "metadata": {},
   "source": [
    "**Plotear embeddings con sus correspondientes etiquetas y predicciones en sus correspondiente partición.**"
   ]
  },
  {
   "cell_type": "code",
   "execution_count": 72,
   "metadata": {
    "ExecuteTime": {
     "end_time": "2022-05-15T10:53:47.122669Z",
     "start_time": "2022-05-15T10:53:46.994012Z"
    }
   },
   "outputs": [],
   "source": [
    "from sklearn.model_selection import train_test_split"
   ]
  },
  {
   "cell_type": "code",
   "execution_count": 73,
   "metadata": {
    "ExecuteTime": {
     "end_time": "2022-05-15T10:53:49.665954Z",
     "start_time": "2022-05-15T10:53:49.513278Z"
    }
   },
   "outputs": [
    {
     "name": "stdout",
     "output_type": "stream",
     "text": [
      "Acc: 70.95\n"
     ]
    }
   ],
   "source": [
    "train_indices, test_indices = train_test_split(list(range(len(dataset.data.y))), test_size=0.2, stratify=dataset.data.y,\n",
    "                                random_state=12345, shuffle=True)\n",
    "#train_dataset = torch.utils.data.Subset(dataset, train_indices)\n",
    "#test_dataset = torch.utils.data.Subset(dataset, test_indices)\n",
    "\n",
    "e = np.array(test_embeddings)\n",
    "p = np.array(test_predictions)\n",
    "l = np.array(test_labels)\n",
    "print('Acc:',(np.sum(p == l)/len(p))*100)\n",
    "\n",
    "e_train = e[train_indices]\n",
    "e_test  = e[test_indices]\n",
    "lab_train = l[train_indices]\n",
    "lab_test  = l[test_indices]\n",
    "pred_train = p[train_indices]\n",
    "pred_test  = p[test_indices]"
   ]
  },
  {
   "cell_type": "raw",
   "metadata": {},
   "source": [
    "print_embeddings(e_train, e_test, lab_train, lab_test, pred_train, pred_test, len(set(l)))"
   ]
  },
  {
   "cell_type": "code",
   "execution_count": 76,
   "metadata": {
    "ExecuteTime": {
     "end_time": "2022-05-15T10:54:56.823858Z",
     "start_time": "2022-05-15T10:54:56.699100Z"
    }
   },
   "outputs": [],
   "source": [
    "import matplotlib.pyplot as plt\n",
    "from sklearn.manifold import TSNE\n",
    "from matplotlib import cm\n",
    "\n",
    "def print_embeddings(train_embedd, test_embedd, train_labels, test_labels, train_pred, test_pred, num_categories):\n",
    "    \n",
    "    train_embedd = np.array(train_embedd)\n",
    "    train_labels = np.array(train_labels)\n",
    "    test_embedd = np.array(test_embedd)\n",
    "    test_labels = np.array(test_labels)\n",
    "\n",
    "    tsne = TSNE(n_components=2, verbose=0, perplexity=80, learning_rate=800)\n",
    "    tsne_results = tsne.fit_transform(np.vstack([train_embedd,test_embedd]))\n",
    "    \n",
    "    train_embedd_2dim = tsne_results[:len(train_embedd)]\n",
    "    test_embedd_2dim = tsne_results[len(train_embedd):]\n",
    "\n",
    "    cmap = cm.get_cmap('Set2')\n",
    "    fig, ax = plt.subplots(1, 2, figsize=(17,8))\n",
    "\n",
    "    for lab in range(num_categories):\n",
    "        train_indices_lab = train_labels == lab\n",
    "        test_indices_lab = test_labels == lab\n",
    "        \n",
    "        ax[0].scatter(train_embedd_2dim[train_indices_lab,0], train_embedd_2dim[train_indices_lab,1],\n",
    "                   c=np.array(cmap(lab)).reshape(1,4), label = f\"{lab}_train\" ,alpha=0.5, marker ='o')\n",
    "        #ax[0].scatter(test_embedd_2dim[test_indices_lab,0], test_embedd_2dim[test_indices_lab,1],\n",
    "        #           c=np.array(cmap(lab)).reshape(1,4), label = f\"{lab}_test\" ,alpha=0.5, marker ='x')\n",
    "        ax[0].set_title('Real Label')\n",
    "        \n",
    "    for lab in range(num_categories):\n",
    "        train_indices_pred = train_pred == lab\n",
    "        test_indices_pred = test_pred == lab\n",
    "        \n",
    "        acc_test = (np.sum(test_pred == test_labels)/len(test_labels))*100\n",
    "        acc_train = (np.sum(train_pred == train_labels)/len(train_pred))*100\n",
    "        \n",
    "        #ax[1].scatter(train_embedd_2dim[train_indices_pred,0], train_embedd_2dim[train_indices_pred,1],\n",
    "        #           c=np.array(cmap(lab)).reshape(1,4), label = f\"{lab}_train\" ,alpha=0.5, marker ='o')\n",
    "        ax[1].scatter(test_embedd_2dim[test_indices_pred,0], test_embedd_2dim[test_indices_pred,1],\n",
    "                   c=np.array(cmap(lab)).reshape(1,4), label = f\"{lab}_test\" ,alpha=0.5, marker ='x')\n",
    "        ax[1].set_title(f'Predicted\\n$Acc_{{train}}={acc_train:.1f}$ - $Acc_{{test}}={acc_test:.1f}$')\n",
    "\n",
    "        ax[1].legend(fontsize='large', markerscale=2)\n",
    "    plt.show()"
   ]
  },
  {
   "cell_type": "code",
   "execution_count": 77,
   "metadata": {
    "ExecuteTime": {
     "end_time": "2022-05-15T10:55:16.673114Z",
     "start_time": "2022-05-15T10:54:59.010402Z"
    }
   },
   "outputs": [
    {
     "data": {
      "image/png": "[encoded data removed]",
      "text/plain": [
       "<Figure size 1224x576 with 2 Axes>"
      ]
     },
     "metadata": {
      "needs_background": "light"
     },
     "output_type": "display_data"
    }
   ],
   "source": [
    "print_embeddings(e_train, e_test, lab_train, lab_test, pred_train, pred_test, len(set(l)))"
   ]
  },
  {
   "cell_type": "code",
   "execution_count": 51,
   "metadata": {
    "ExecuteTime": {
     "end_time": "2022-05-15T10:49:41.369276Z",
     "start_time": "2022-05-15T10:49:41.240523Z"
    }
   },
   "outputs": [
    {
     "ename": "NameError",
     "evalue": "name 'STOP' is not defined",
     "output_type": "error",
     "traceback": [
      "\u001b[1;31m---------------------------------------------------------------------------\u001b[0m",
      "\u001b[1;31mNameError\u001b[0m                                 Traceback (most recent call last)",
      "\u001b[1;32m~\\AppData\\Local\\Temp/ipykernel_9732/2165152129.py\u001b[0m in \u001b[0;36m<module>\u001b[1;34m\u001b[0m\n\u001b[1;32m----> 1\u001b[1;33m \u001b[0mSTOP\u001b[0m\u001b[1;33m\u001b[0m\u001b[1;33m\u001b[0m\u001b[0m\n\u001b[0m",
      "\u001b[1;31mNameError\u001b[0m: name 'STOP' is not defined"
     ]
    }
   ],
   "source": [
    "STOP"
   ]
  },
  {
   "cell_type": "code",
   "execution_count": null,
   "metadata": {},
   "outputs": [],
   "source": []
  },
  {
   "cell_type": "markdown",
   "metadata": {
    "ExecuteTime": {
     "end_time": "2022-05-15T10:30:07.695420Z",
     "start_time": "2022-05-15T10:30:07.694424Z"
    }
   },
   "source": [
    "```python\n",
    "tsne = TSNE(3, verbose=1)\n",
    "tsne_proj = tsne.fit_transform(test_embeddings)\n",
    "cmap = cm.get_cmap('tab20')\n",
    "num_categories = 2\n",
    "fig = plt.figure(figsize=(10, 10))\n",
    "ax = fig.add_subplot(1,1,1, projection='3d')\n",
    "for lab in range(num_categories):\n",
    "    indices = test_predictions == lab\n",
    "    surf = ax.scatter(\n",
    "               tsne_proj[indices, 0],\n",
    "               tsne_proj[indices, 1],\n",
    "               tsne_proj[indices, 2],\n",
    "               c=np.array(cmap(lab)).reshape(1, 4),\n",
    "               label=lab,\n",
    "               alpha=0.5)\n",
    "ax.legend(fontsize='large', markerscale=2)\n",
    "plt.show()\n",
    "```"
   ]
  },
  {
   "cell_type": "code",
   "execution_count": null,
   "metadata": {},
   "outputs": [],
   "source": []
  },
  {
   "cell_type": "code",
   "execution_count": null,
   "metadata": {},
   "outputs": [],
   "source": []
  },
  {
   "cell_type": "code",
   "execution_count": null,
   "metadata": {},
   "outputs": [],
   "source": []
  },
  {
   "cell_type": "code",
   "execution_count": null,
   "metadata": {},
   "outputs": [],
   "source": []
  },
  {
   "cell_type": "code",
   "execution_count": null,
   "metadata": {},
   "outputs": [],
   "source": []
  },
  {
   "cell_type": "code",
   "execution_count": null,
   "metadata": {},
   "outputs": [],
   "source": []
  },
  {
   "cell_type": "code",
   "execution_count": null,
   "metadata": {},
   "outputs": [],
   "source": []
  },
  {
   "cell_type": "code",
   "execution_count": null,
   "metadata": {},
   "outputs": [],
   "source": []
  },
  {
   "cell_type": "code",
   "execution_count": null,
   "metadata": {},
   "outputs": [],
   "source": []
  },
  {
   "cell_type": "markdown",
   "metadata": {},
   "source": [
    "## One graph embedding"
   ]
  },
  {
   "cell_type": "code",
   "execution_count": null,
   "metadata": {},
   "outputs": [],
   "source": []
  },
  {
   "cell_type": "code",
   "execution_count": null,
   "metadata": {},
   "outputs": [],
   "source": []
  },
  {
   "cell_type": "code",
   "execution_count": null,
   "metadata": {},
   "outputs": [],
   "source": []
  },
  {
   "cell_type": "code",
   "execution_count": null,
   "metadata": {},
   "outputs": [],
   "source": []
  },
  {
   "cell_type": "code",
   "execution_count": null,
   "metadata": {},
   "outputs": [],
   "source": []
  },
  {
   "cell_type": "code",
   "execution_count": null,
   "metadata": {},
   "outputs": [],
   "source": []
  },
  {
   "cell_type": "code",
   "execution_count": null,
   "metadata": {},
   "outputs": [],
   "source": []
  },
  {
   "cell_type": "code",
   "execution_count": null,
   "metadata": {},
   "outputs": [],
   "source": []
  },
  {
   "cell_type": "code",
   "execution_count": null,
   "metadata": {},
   "outputs": [],
   "source": []
  },
  {
   "cell_type": "code",
   "execution_count": null,
   "metadata": {},
   "outputs": [],
   "source": []
  },
  {
   "cell_type": "code",
   "execution_count": null,
   "metadata": {},
   "outputs": [],
   "source": []
  },
  {
   "cell_type": "code",
   "execution_count": null,
   "metadata": {},
   "outputs": [],
   "source": []
  },
  {
   "cell_type": "code",
   "execution_count": null,
   "metadata": {},
   "outputs": [],
   "source": []
  },
  {
   "cell_type": "code",
   "execution_count": null,
   "metadata": {},
   "outputs": [],
   "source": []
  },
  {
   "cell_type": "code",
   "execution_count": null,
   "metadata": {},
   "outputs": [],
   "source": []
  },
  {
   "cell_type": "markdown",
   "metadata": {},
   "source": [
    "## All graphs embedding"
   ]
  },
  {
   "cell_type": "code",
   "execution_count": null,
   "metadata": {},
   "outputs": [],
   "source": []
  },
  {
   "cell_type": "code",
   "execution_count": null,
   "metadata": {},
   "outputs": [],
   "source": []
  },
  {
   "cell_type": "code",
   "execution_count": null,
   "metadata": {},
   "outputs": [],
   "source": []
  },
  {
   "cell_type": "code",
   "execution_count": null,
   "metadata": {},
   "outputs": [],
   "source": []
  },
  {
   "cell_type": "code",
   "execution_count": null,
   "metadata": {},
   "outputs": [],
   "source": []
  },
  {
   "cell_type": "code",
   "execution_count": null,
   "metadata": {},
   "outputs": [],
   "source": []
  },
  {
   "cell_type": "markdown",
   "metadata": {},
   "source": [
    "# Embeddings GapNet Laplacian"
   ]
  },
  {
   "cell_type": "code",
   "execution_count": null,
   "metadata": {
    "ExecuteTime": {
     "end_time": "2022-05-15T10:36:16.190430Z",
     "start_time": "2022-05-15T10:36:16.190430Z"
    }
   },
   "outputs": [],
   "source": [
    "test_loader =  DataLoader(dataset, batch_size=BATCH_SIZE, shuffle=True)"
   ]
  },
  {
   "cell_type": "code",
   "execution_count": null,
   "metadata": {
    "ExecuteTime": {
     "end_time": "2022-05-15T10:36:16.192426Z",
     "start_time": "2022-05-15T10:36:16.192426Z"
    }
   },
   "outputs": [],
   "source": [
    "test_loader =  DataLoader(dataset, batch_size=BATCH_SIZE, shuffle=True)\n",
    "model =  GAPNet(dataset.num_features, dataset.num_classes, derivative=\"laplacian\",device=device)\n",
    "model.load_state_dict(torch.load(\"models/REDDIT-BINARY_GAPNet_laplacian_iter0.pth\", map_location=torch.device('cpu')))\n",
    "model.eval()"
   ]
  },
  {
   "cell_type": "code",
   "execution_count": null,
   "metadata": {},
   "outputs": [],
   "source": []
  },
  {
   "cell_type": "markdown",
   "metadata": {},
   "source": [
    "# Statistical data about the graph"
   ]
  },
  {
   "cell_type": "code",
   "execution_count": null,
   "metadata": {
    "ExecuteTime": {
     "end_time": "2022-05-15T10:36:16.193420Z",
     "start_time": "2022-05-15T10:36:16.193420Z"
    }
   },
   "outputs": [],
   "source": [
    "import networkx as nx\n",
    "from torch_geometric import utils\n",
    "import numpy as np\n",
    "from tqdm.notebook import tqdm\n",
    "\n",
    "\n",
    "nxdata = {\n",
    "    'Assortativity':np.empty(len(dataset)),\n",
    "    'Triangles':np.empty(len(dataset)),\n",
    "    'Transitivity':np.empty(len(dataset)),\n",
    "    'Clustering':np.empty(len(dataset))\n",
    "}\n",
    "for i, graph in enumerate(tqdm(dataset, desc='Datasets')):\n",
    "    G = utils.to_networkx(graph, to_undirected=True)\n",
    "    nxdata['Assortativity'][i] = nx.degree_assortativity_coefficient(G)\n",
    "    nxdata['Triangles'][i] = np.sum(list(nx.triangles(G).values()))/3\n",
    "    nxdata['Transitivity'][i] = nx.transitivity(G)\n",
    "    nxdata['Clustering'][i] = nx.average_clustering(G)\n"
   ]
  },
  {
   "cell_type": "code",
   "execution_count": null,
   "metadata": {
    "ExecuteTime": {
     "end_time": "2022-05-15T10:36:16.195418Z",
     "start_time": "2022-05-15T10:36:16.195418Z"
    }
   },
   "outputs": [],
   "source": [
    "for k in nxdata:\n",
    "    print(f\"{k}: {nxdata[k].mean():.4f} +- {nxdata[k].std():.4f}\")"
   ]
  },
  {
   "cell_type": "code",
   "execution_count": null,
   "metadata": {
    "ExecuteTime": {
     "end_time": "2022-05-14T19:12:53.435551Z",
     "start_time": "2022-05-14T19:12:53.310028Z"
    }
   },
   "outputs": [],
   "source": []
  },
  {
   "cell_type": "code",
   "execution_count": null,
   "metadata": {},
   "outputs": [],
   "source": []
  },
  {
   "cell_type": "code",
   "execution_count": null,
   "metadata": {},
   "outputs": [],
   "source": []
  },
  {
   "cell_type": "markdown",
   "metadata": {},
   "source": [
    "# Stratify"
   ]
  },
  {
   "cell_type": "code",
   "execution_count": null,
   "metadata": {
    "ExecuteTime": {
     "end_time": "2022-05-15T10:36:16.196416Z",
     "start_time": "2022-05-15T10:36:16.196416Z"
    }
   },
   "outputs": [],
   "source": [
    "from sklearn.model_selection import train_test_split\n",
    "\n",
    "def class_distrib(dataset):\n",
    "    d = dict()\n",
    "    for data in dataset:\n",
    "        d[int(data.y.numpy())] = d.get(int(data.y.numpy()),0) + 1\n",
    "    return d\n",
    "\n",
    "def batch_class_distrib(batch):\n",
    "    d = dict()\n",
    "    for label in batch.y:\n",
    "        d[int(label.numpy())] = d.get(int(label.numpy()),0) + 1\n",
    "    return d\n",
    "\n",
    "len(dataset.data.y)"
   ]
  },
  {
   "cell_type": "code",
   "execution_count": null,
   "metadata": {
    "ExecuteTime": {
     "end_time": "2022-05-15T10:36:16.198410Z",
     "start_time": "2022-05-15T10:36:16.198410Z"
    }
   },
   "outputs": [],
   "source": [
    "train_indices, val_indices = train_test_split(list(range(len(dataset.data.y))), test_size=0.2, stratify=dataset.data.y)\n",
    "train_dataset = torch.utils.data.Subset(dataset, train_indices)\n",
    "val_dataset = torch.utils.data.Subset(dataset, val_indices)"
   ]
  },
  {
   "cell_type": "code",
   "execution_count": null,
   "metadata": {
    "ExecuteTime": {
     "end_time": "2022-05-15T10:36:16.200401Z",
     "start_time": "2022-05-15T10:36:16.200401Z"
    }
   },
   "outputs": [],
   "source": [
    "class_distrib(dataset), class_distrib(train_dataset), class_distrib(val_dataset)"
   ]
  },
  {
   "cell_type": "markdown",
   "metadata": {},
   "source": [
    "**Optional**"
   ]
  },
  {
   "cell_type": "code",
   "execution_count": null,
   "metadata": {
    "ExecuteTime": {
     "end_time": "2022-05-15T10:36:16.202396Z",
     "start_time": "2022-05-15T10:36:16.202396Z"
    }
   },
   "outputs": [],
   "source": [
    "from torch.utils.data import SequentialSampler"
   ]
  },
  {
   "cell_type": "code",
   "execution_count": null,
   "metadata": {
    "ExecuteTime": {
     "end_time": "2022-05-15T10:36:16.203394Z",
     "start_time": "2022-05-15T10:36:16.203394Z"
    }
   },
   "outputs": [],
   "source": [
    "class StratifiedSampler():\n",
    "    \"\"\"Stratified Sampling\n",
    "    Provides equal representation of target classes in each batch\n",
    "    \"\"\"\n",
    "    def __init__(self, class_vector, batch_size):\n",
    "        \"\"\"\n",
    "        Arguments\n",
    "        ---------\n",
    "        class_vector : torch tensor\n",
    "            a vector of class labels\n",
    "        batch_size : integer\n",
    "            batch_size\n",
    "        \"\"\"\n",
    "        self.n_splits = int(class_vector.size(0) / batch_size)\n",
    "        self.class_vector = class_vector\n",
    "\n",
    "    def gen_sample_array(self):\n",
    "        try:\n",
    "            from sklearn.model_selection import StratifiedShuffleSplit\n",
    "        except:\n",
    "            print('Need scikit-learn for this functionality')\n",
    "        import numpy as np\n",
    "        \n",
    "        s = StratifiedShuffleSplit(n_splits=self.n_splits, test_size=0.5)\n",
    "        X = torch.randn(self.class_vector.size(0),2).numpy()\n",
    "        y = self.class_vector.numpy()\n",
    "        s.get_n_splits(X, y)\n",
    "\n",
    "        train_index, test_index = next(s.split(X, y))\n",
    "        return np.hstack([train_index, test_index])\n",
    "\n",
    "    def __iter__(self):\n",
    "        return iter(self.gen_sample_array())\n",
    "\n",
    "    def __len__(self):\n",
    "        return len(self.class_vector)"
   ]
  },
  {
   "cell_type": "code",
   "execution_count": null,
   "metadata": {
    "ExecuteTime": {
     "end_time": "2022-05-15T10:36:16.205389Z",
     "start_time": "2022-05-15T10:36:16.205389Z"
    }
   },
   "outputs": [],
   "source": [
    "sampler = StratifiedSampler(class_vector=dataset.data.y, batch_size=BATCH_SIZE)\n"
   ]
  },
  {
   "cell_type": "code",
   "execution_count": null,
   "metadata": {
    "ExecuteTime": {
     "end_time": "2022-05-15T10:36:16.207383Z",
     "start_time": "2022-05-15T10:36:16.207383Z"
    }
   },
   "outputs": [],
   "source": [
    "loader = DataLoader(dataset, batch_size=2, #train_dataset\n",
    "                        shuffle=False, sampler=sampler)"
   ]
  },
  {
   "cell_type": "code",
   "execution_count": null,
   "metadata": {},
   "outputs": [],
   "source": []
  },
  {
   "cell_type": "code",
   "execution_count": null,
   "metadata": {},
   "outputs": [],
   "source": []
  },
  {
   "cell_type": "markdown",
   "metadata": {},
   "source": [
    "## DIGL"
   ]
  },
  {
   "cell_type": "code",
   "execution_count": null,
   "metadata": {
    "ExecuteTime": {
     "end_time": "2022-05-15T10:36:16.208381Z",
     "start_time": "2022-05-15T10:36:16.208381Z"
    }
   },
   "outputs": [],
   "source": [
    "import scipy.sparse as sp\n",
    "from torch_geometric.utils.convert import to_scipy_sparse_matrix, from_scipy_sparse_matrix\n",
    "from torch_geometric.utils import dense_to_sparse"
   ]
  },
  {
   "cell_type": "code",
   "execution_count": null,
   "metadata": {
    "ExecuteTime": {
     "end_time": "2022-05-15T10:36:16.210400Z",
     "start_time": "2022-05-15T10:36:16.210400Z"
    }
   },
   "outputs": [],
   "source": [
    "from torch_geometric.transforms import BaseTransform\n",
    "\n",
    "class DIGLedges(BaseTransform):\n",
    "    def __init__(self, alpha:float, eps:float, use_edge_weigths = False):\n",
    "        self.alpha = alpha\n",
    "        self.eps = eps\n",
    "        self.use_edge_weigths = use_edge_weigths\n",
    "\n",
    "    def __call__(self, data):\n",
    "        new_edges, new_weights = self.digl_edges(data.edge_index, self.alpha, self.eps)\n",
    "        data.edge_index = new_edges\n",
    "        \n",
    "        if self.use_edge_weigths:\n",
    "            data.edge_weight = new_weights\n",
    "            \n",
    "        return data\n",
    "    \n",
    "    \n",
    "    def gdc(self, A: sp.csr_matrix, alpha: float, eps: float):\n",
    "        N = A.shape[0]\n",
    "\n",
    "        # Self-loops\n",
    "        A_loop = sp.eye(N) + A\n",
    "\n",
    "        # Symmetric transition matrix\n",
    "        D_loop_vec = A_loop.sum(0).A1\n",
    "        D_loop_vec_invsqrt = 1 / np.sqrt(D_loop_vec)\n",
    "        D_loop_invsqrt = sp.diags(D_loop_vec_invsqrt)\n",
    "        T_sym = D_loop_invsqrt @ A_loop @ D_loop_invsqrt\n",
    "\n",
    "        # PPR-based diffusion\n",
    "        S = alpha * sp.linalg.inv(sp.eye(N) - (1 - alpha) * T_sym)\n",
    "\n",
    "        # Sparsify using threshold epsilon\n",
    "        S_tilde = S.multiply(S >= eps)\n",
    "\n",
    "        # Column-normalized transition matrix on graph S_tilde\n",
    "        D_tilde_vec = S_tilde.sum(0).A1\n",
    "        T_S = S_tilde / D_tilde_vec\n",
    "\n",
    "        return T_S\n",
    "\n",
    "    def digl_edges(self, edges, alpha, eps):\n",
    "        A0 = sp.csr_matrix(to_scipy_sparse_matrix(edges))\n",
    "        new_sp_matrix = sp.csr_matrix(gdc(A0, self.alpha, self.eps))\n",
    "        new_edge_index, weights = from_scipy_sparse_matrix(new_sp_matrix)\n",
    "        return new_edge_index, weights\n",
    "    \n",
    "    \n",
    "    def __repr__(self) -> str:\n",
    "        return f'{self.__class__.__name__}({self.alpha})'\n",
    "    \n",
    "    "
   ]
  },
  {
   "cell_type": "code",
   "execution_count": null,
   "metadata": {
    "ExecuteTime": {
     "end_time": "2022-05-15T10:36:16.212370Z",
     "start_time": "2022-05-15T10:36:16.212370Z"
    }
   },
   "outputs": [],
   "source": [
    "digl_data = TUDataset(root='data/digl/TUDataset',name='MUTAG', transform=DIGLedges(0.5, 0.02))"
   ]
  },
  {
   "cell_type": "code",
   "execution_count": null,
   "metadata": {
    "ExecuteTime": {
     "end_time": "2022-05-15T10:36:16.214367Z",
     "start_time": "2022-05-15T10:36:16.214367Z"
    }
   },
   "outputs": [],
   "source": [
    "digl_data[0].edge_index"
   ]
  },
  {
   "cell_type": "code",
   "execution_count": null,
   "metadata": {
    "ExecuteTime": {
     "end_time": "2022-05-15T10:36:16.216359Z",
     "start_time": "2022-05-15T10:36:16.216359Z"
    }
   },
   "outputs": [],
   "source": [
    "dataset[0].edge_index"
   ]
  },
  {
   "cell_type": "code",
   "execution_count": null,
   "metadata": {
    "ExecuteTime": {
     "end_time": "2022-05-15T10:36:16.217356Z",
     "start_time": "2022-05-15T10:36:16.217356Z"
    }
   },
   "outputs": [],
   "source": [
    "digl_data = TUDataset(root='data/digl/TUDataset',name='MUTAG')"
   ]
  },
  {
   "cell_type": "code",
   "execution_count": null,
   "metadata": {
    "ExecuteTime": {
     "end_time": "2022-05-15T10:36:16.219355Z",
     "start_time": "2022-05-15T10:36:16.219355Z"
    }
   },
   "outputs": [],
   "source": [
    "digl_data[0].edge_index"
   ]
  },
  {
   "cell_type": "code",
   "execution_count": null,
   "metadata": {},
   "outputs": [],
   "source": []
  }
 ],
 "metadata": {
  "interpreter": {
   "hash": "0f24d556599f9bcb6882e345745e2df8a56c1b9eae44969deb7bb16a44466b46"
  },
  "kernelspec": {
   "display_name": "Python 3 (ipykernel)",
   "language": "python",
   "name": "python3"
  },
  "language_info": {
   "codemirror_mode": {
    "name": "ipython",
    "version": 3
   },
   "file_extension": ".py",
   "mimetype": "text/x-python",
   "name": "python",
   "nbconvert_exporter": "python",
   "pygments_lexer": "ipython3",
   "version": "3.8.12"
  },
  "toc": {
   "base_numbering": 1,
   "nav_menu": {},
   "number_sections": true,
   "sideBar": true,
   "skip_h1_title": true,
   "title_cell": "Table of Contents",
   "title_sidebar": "Table of Contents",
   "toc_cell": true,
   "toc_position": {},
   "toc_section_display": true,
   "toc_window_display": false
  },
  "varInspector": {
   "cols": {
    "lenName": 16,
    "lenType": 16,
    "lenVar": 40
   },
   "kernels_config": {
    "python": {
     "delete_cmd_postfix": "",
     "delete_cmd_prefix": "del ",
     "library": "var_list.py",
     "varRefreshCmd": "print(var_dic_list())"
    },
    "r": {
     "delete_cmd_postfix": ") ",
     "delete_cmd_prefix": "rm(",
     "library": "var_list.r",
     "varRefreshCmd": "cat(var_dic_list()) "
    }
   },
   "types_to_exclude": [
    "module",
    "function",
    "builtin_function_or_method",
    "instance",
    "_Feature"
   ],
   "window_display": false
  }
 },
 "nbformat": 4,
 "nbformat_minor": 2
}
